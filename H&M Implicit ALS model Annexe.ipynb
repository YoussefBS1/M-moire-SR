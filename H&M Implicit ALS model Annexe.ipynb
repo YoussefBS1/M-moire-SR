{
 "cells": [
  {
   "cell_type": "code",
   "execution_count": 2,
   "id": "770780b1",
   "metadata": {},
   "outputs": [],
   "source": [
    "#importation des librairies python\n",
    "import os; os.environ['OPENBLAS_NUM_THREADS']='1'\n",
    "import numpy as np\n",
    "import pandas as pd\n",
    "import implicit\n",
    "from scipy.sparse import coo_matrix\n",
    "from implicit.evaluation import mean_average_precision_at_k\n",
    "import time"
   ]
  },
  {
   "cell_type": "code",
   "execution_count": null,
   "id": "f8c9153f",
   "metadata": {},
   "outputs": [],
   "source": [
    "#debut chonometrage\n",
    "start = time.time()"
   ]
  },
  {
   "cell_type": "code",
   "execution_count": 3,
   "id": "fa7d4a8d",
   "metadata": {},
   "outputs": [
    {
     "name": "stdout",
     "output_type": "stream",
     "text": [
      "Wall time: 39.8 s\n"
     ]
    }
   ],
   "source": [
    "#importation des donnees\n",
    "transactions = pd.read_csv(r'C:\\Users\\Stagiaire\\Downloads\\Timsoft\\H&M\\transactions_train.csv/transactions.csv', dtype={'article_id': str}, parse_dates=['t_dat'])\n",
    "df_sub = pd.read_csv(r'C:\\Users\\Stagiaire\\Downloads\\Timsoft\\H&M\\sample_submission.csv/sample_submission.csv')\n",
    "df_utilisateurs = pd.read_csv(r'C:\\Users\\Stagiaire\\Downloads\\Timsoft\\H&M\\customers.csv/customers.csv')\n",
    "df_articles = pd.read_csv(r'C:\\Users\\Stagiaire\\Downloads\\Timsoft\\H&M\\articles.csv/articles.csv', dtype={'article_id': str})"
   ]
  },
  {
   "cell_type": "code",
   "execution_count": 6,
   "id": "29a29e3d",
   "metadata": {},
   "outputs": [
    {
     "data": {
      "text/html": [
       "<div>\n",
       "<style scoped>\n",
       "    .dataframe tbody tr th:only-of-type {\n",
       "        vertical-align: middle;\n",
       "    }\n",
       "\n",
       "    .dataframe tbody tr th {\n",
       "        vertical-align: top;\n",
       "    }\n",
       "\n",
       "    .dataframe thead th {\n",
       "        text-align: right;\n",
       "    }\n",
       "</style>\n",
       "<table border=\"1\" class=\"dataframe\">\n",
       "  <thead>\n",
       "    <tr style=\"text-align: right;\">\n",
       "      <th></th>\n",
       "      <th>t_dat</th>\n",
       "      <th>customer_id</th>\n",
       "      <th>article_id</th>\n",
       "      <th>price</th>\n",
       "      <th>sales_channel_id</th>\n",
       "    </tr>\n",
       "  </thead>\n",
       "  <tbody>\n",
       "    <tr>\n",
       "      <th>48399</th>\n",
       "      <td>2018-09-21</td>\n",
       "      <td>0000423b00ade91418cceaf3b26c6af3dd342b51fd051e...</td>\n",
       "      <td>0583558001</td>\n",
       "      <td>0.067780</td>\n",
       "      <td>2</td>\n",
       "    </tr>\n",
       "    <tr>\n",
       "      <th>48400</th>\n",
       "      <td>2018-09-21</td>\n",
       "      <td>0000423b00ade91418cceaf3b26c6af3dd342b51fd051e...</td>\n",
       "      <td>0639677008</td>\n",
       "      <td>0.025407</td>\n",
       "      <td>2</td>\n",
       "    </tr>\n",
       "    <tr>\n",
       "      <th>48401</th>\n",
       "      <td>2018-09-21</td>\n",
       "      <td>0000423b00ade91418cceaf3b26c6af3dd342b51fd051e...</td>\n",
       "      <td>0640244003</td>\n",
       "      <td>0.033881</td>\n",
       "      <td>2</td>\n",
       "    </tr>\n",
       "    <tr>\n",
       "      <th>48402</th>\n",
       "      <td>2018-09-21</td>\n",
       "      <td>0006d37aaf7dd84f9bbc02f6cadcb74fd72ebf370bdc5f...</td>\n",
       "      <td>0685687004</td>\n",
       "      <td>0.016932</td>\n",
       "      <td>2</td>\n",
       "    </tr>\n",
       "    <tr>\n",
       "      <th>48403</th>\n",
       "      <td>2018-09-21</td>\n",
       "      <td>0006d37aaf7dd84f9bbc02f6cadcb74fd72ebf370bdc5f...</td>\n",
       "      <td>0591334004</td>\n",
       "      <td>0.010153</td>\n",
       "      <td>2</td>\n",
       "    </tr>\n",
       "    <tr>\n",
       "      <th>...</th>\n",
       "      <td>...</td>\n",
       "      <td>...</td>\n",
       "      <td>...</td>\n",
       "      <td>...</td>\n",
       "      <td>...</td>\n",
       "    </tr>\n",
       "    <tr>\n",
       "      <th>16803896</th>\n",
       "      <td>2019-09-19</td>\n",
       "      <td>fff98edc27fc5d64c3027bf0e3702510143d1a79c3dc9a...</td>\n",
       "      <td>0764525002</td>\n",
       "      <td>0.015237</td>\n",
       "      <td>2</td>\n",
       "    </tr>\n",
       "    <tr>\n",
       "      <th>16803897</th>\n",
       "      <td>2019-09-19</td>\n",
       "      <td>fff98edc27fc5d64c3027bf0e3702510143d1a79c3dc9a...</td>\n",
       "      <td>0764525002</td>\n",
       "      <td>0.015237</td>\n",
       "      <td>2</td>\n",
       "    </tr>\n",
       "    <tr>\n",
       "      <th>16803898</th>\n",
       "      <td>2019-09-19</td>\n",
       "      <td>fff98edc27fc5d64c3027bf0e3702510143d1a79c3dc9a...</td>\n",
       "      <td>0703558001</td>\n",
       "      <td>0.022017</td>\n",
       "      <td>2</td>\n",
       "    </tr>\n",
       "    <tr>\n",
       "      <th>16803899</th>\n",
       "      <td>2019-09-19</td>\n",
       "      <td>fff98edc27fc5d64c3027bf0e3702510143d1a79c3dc9a...</td>\n",
       "      <td>0703558001</td>\n",
       "      <td>0.022017</td>\n",
       "      <td>2</td>\n",
       "    </tr>\n",
       "    <tr>\n",
       "      <th>16803900</th>\n",
       "      <td>2019-09-19</td>\n",
       "      <td>fff98edc27fc5d64c3027bf0e3702510143d1a79c3dc9a...</td>\n",
       "      <td>0662630003</td>\n",
       "      <td>0.016932</td>\n",
       "      <td>2</td>\n",
       "    </tr>\n",
       "  </tbody>\n",
       "</table>\n",
       "<p>16755502 rows × 5 columns</p>\n",
       "</div>"
      ],
      "text/plain": [
       "              t_dat                                        customer_id  \\\n",
       "48399    2018-09-21  0000423b00ade91418cceaf3b26c6af3dd342b51fd051e...   \n",
       "48400    2018-09-21  0000423b00ade91418cceaf3b26c6af3dd342b51fd051e...   \n",
       "48401    2018-09-21  0000423b00ade91418cceaf3b26c6af3dd342b51fd051e...   \n",
       "48402    2018-09-21  0006d37aaf7dd84f9bbc02f6cadcb74fd72ebf370bdc5f...   \n",
       "48403    2018-09-21  0006d37aaf7dd84f9bbc02f6cadcb74fd72ebf370bdc5f...   \n",
       "...             ...                                                ...   \n",
       "16803896 2019-09-19  fff98edc27fc5d64c3027bf0e3702510143d1a79c3dc9a...   \n",
       "16803897 2019-09-19  fff98edc27fc5d64c3027bf0e3702510143d1a79c3dc9a...   \n",
       "16803898 2019-09-19  fff98edc27fc5d64c3027bf0e3702510143d1a79c3dc9a...   \n",
       "16803899 2019-09-19  fff98edc27fc5d64c3027bf0e3702510143d1a79c3dc9a...   \n",
       "16803900 2019-09-19  fff98edc27fc5d64c3027bf0e3702510143d1a79c3dc9a...   \n",
       "\n",
       "          article_id     price  sales_channel_id  \n",
       "48399     0583558001  0.067780                 2  \n",
       "48400     0639677008  0.025407                 2  \n",
       "48401     0640244003  0.033881                 2  \n",
       "48402     0685687004  0.016932                 2  \n",
       "48403     0591334004  0.010153                 2  \n",
       "...              ...       ...               ...  \n",
       "16803896  0764525002  0.015237                 2  \n",
       "16803897  0764525002  0.015237                 2  \n",
       "16803898  0703558001  0.022017                 2  \n",
       "16803899  0703558001  0.022017                 2  \n",
       "16803900  0662630003  0.016932                 2  \n",
       "\n",
       "[16755502 rows x 5 columns]"
      ]
     },
     "execution_count": 6,
     "metadata": {},
     "output_type": "execute_result"
    }
   ],
   "source": [
    "#choix des transactions entre les dates 20-09-2018 & 20-09-2019\n",
    "transactions = transactions[(transactions['t_dat'] > '2018-09-20') & (transactions['t_dat'] < '2019-09-20')]"
   ]
  },
  {
   "cell_type": "code",
   "execution_count": 8,
   "id": "f20e0198",
   "metadata": {},
   "outputs": [],
   "source": [
    "#pour la validation 3 semaines de donnees pour l entrainement et 1 semaine de donnes pour la validation\n",
    "transactions['t_dat'].max()\n",
    "ALL_USERS = df_utilisateurs['customer_id'].unique().tolist()\n",
    "ALL_ITEMS = df_articles['article_id'].unique().tolist()\n",
    "\n",
    "user_ids = dict(list(enumerate(ALL_USERS)))\n",
    "item_ids = dict(list(enumerate(ALL_ITEMS)))\n",
    "\n",
    "user_map = {u: uidx for uidx, u in user_ids.items()}\n",
    "item_map = {i: iidx for iidx, i in item_ids.items()}\n",
    "\n",
    "transactions['user_id'] = transactions['customer_id'].map(user_map)\n",
    "transactions['item_id'] = transactions['article_id'].map(item_map)\n",
    "\n",
    "del df_utilisateurs, df_articles"
   ]
  },
  {
   "cell_type": "code",
   "execution_count": 9,
   "id": "17bdeab3",
   "metadata": {},
   "outputs": [
    {
     "data": {
      "text/plain": [
       "<1371980x105542 sparse matrix of type '<class 'numpy.float64'>'\n",
       "\twith 16755502 stored elements in COOrdinate format>"
      ]
     },
     "execution_count": 9,
     "metadata": {},
     "output_type": "execute_result"
    }
   ],
   "source": [
    "#construction de la matrice coo (matrice qui represente la matrice creuse des achats des utilisateurs)\n",
    "row = transactions['user_id'].values\n",
    "col = transactions['item_id'].values\n",
    "data = np.ones(transactions.shape[0])\n",
    "coo_train = coo_matrix((data, (row, col)), shape=(len(ALL_USERS), len(ALL_ITEMS)))\n",
    "coo_train"
   ]
  },
  {
   "cell_type": "code",
   "execution_count": 10,
   "id": "a974bfbc",
   "metadata": {},
   "outputs": [
    {
     "name": "stderr",
     "output_type": "stream",
     "text": [
      "C:\\Users\\Stagiaire\\anaconda3\\lib\\site-packages\\implicit\\utils.py:31: UserWarning: Intel MKL BLAS detected. Its highly recommend to set the environment variable 'export MKL_NUM_THREADS=1' to disable its internal multithreading\n",
      "  warnings.warn(\n"
     ]
    },
    {
     "data": {
      "application/vnd.jupyter.widget-view+json": {
       "model_id": "43c57305c9b24c239a09f564b43f6b00",
       "version_major": 2,
       "version_minor": 0
      },
      "text/plain": [
       "  0%|          | 0/2 [00:00<?, ?it/s]"
      ]
     },
     "metadata": {},
     "output_type": "display_data"
    },
    {
     "name": "stdout",
     "output_type": "stream",
     "text": [
      "Wall time: 7.33 s\n"
     ]
    }
   ],
   "source": [
    "#voir si le modele marche avec les donnes proposes\n",
    "#choix de l'algorithme ALS implicit\n",
    "%%time\n",
    "model = implicit.als.AlternatingLeastSquares(factors=10, iterations=2)\n",
    "model.fit(coo_train)"
   ]
  },
  {
   "cell_type": "code",
   "execution_count": 11,
   "id": "775a50c6",
   "metadata": {},
   "outputs": [],
   "source": [
    "#Transforme un dataframme de transaction en une matrice creuse COO\n",
    "def utilisateur_article_COO(df):\n",
    "    row = df['user_id'].values\n",
    "    col = df['item_id'].values\n",
    "    data = np.ones(df.shape[0])\n",
    "    coo = coo_matrix((data, (row, col)), shape=(len(ALL_USERS), len(ALL_ITEMS)))\n",
    "    return coo\n",
    "\n",
    "#creation des dataframe d entrainement et de validation\n",
    "def div_data(df, validation_days=7):\n",
    "    validation_cut = df['t_dat'].max() - pd.Timedelta(validation_days)\n",
    "    df_train = df[df['t_dat'] < validation_cut]\n",
    "    df_val = df[df['t_dat'] >= validation_cut]\n",
    "    return df_train, df_val\n",
    "\n",
    "#creation des donnes d entrainement et de validation et plusieurs autres matrices (coo_train, crs_train, crs_val)\n",
    "def PR_val_matrices(df, validation_days=7):\n",
    "\n",
    "    df_train, df_val = div_data(df, validation_days=validation_days)\n",
    "    coo_train = utilisateur_article_COO(df_train)\n",
    "    coo_val = utilisateur_article_COO(df_val)\n",
    "\n",
    "    csr_train = coo_train.tocsr()\n",
    "    csr_val = coo_val.tocsr()\n",
    "    \n",
    "    return {'coo_train': coo_train,\n",
    "            'csr_train': csr_train,\n",
    "            'csr_val': csr_val\n",
    "          }\n",
    "\n",
    "#entrainer un model ALS avec les facteurs latents pour un nombre d iterations sur des matrice et valide par la metrique MAP@12\n",
    "def validate(matrices, factors=100, iterations=20, regularization=0.01, show_progress=True):\n",
    "    \n",
    "    coo_train, csr_train, csr_val = matrices['coo_train'], matrices['csr_train'], matrices['csr_val']\n",
    "    \n",
    "    model = implicit.als.AlternatingLeastSquares(factors=factors, \n",
    "                                                 iterations=iterations, \n",
    "                                                 regularization=regularization, \n",
    "                                                 random_state=42)\n",
    "    model.fit(coo_train, show_progress=show_progress)\n",
    "    \n",
    "    map12 = mean_average_precision_at_k(model, csr_train, csr_val, K=12, show_progress=show_progress, num_threads=4)\n",
    "    print(f\"Factors: {factors:>3} - Iterations: {iterations:>2} - Regularization: {regularization:4.3f} ==> MAP@12: {map12:6.5f}\")\n",
    "    return map12"
   ]
  },
  {
   "cell_type": "code",
   "execution_count": 12,
   "id": "3e8dcc52",
   "metadata": {},
   "outputs": [],
   "source": [
    "matrices = PR_val_matrices(transactions)"
   ]
  },
  {
   "cell_type": "code",
   "execution_count": 13,
   "id": "17dbe993",
   "metadata": {},
   "outputs": [
    {
     "name": "stdout",
     "output_type": "stream",
     "text": [
      "Factors:  40 - Iterations:  3 - Regularization: 0.010 ==> MAP@12: 0.00378\n",
      "Best MAP@12 found. Updating: {'factors': 40, 'iterations': 3, 'regularization': 0.01}\n",
      "Factors:  40 - Iterations: 12 - Regularization: 0.010 ==> MAP@12: 0.00403\n",
      "Best MAP@12 found. Updating: {'factors': 40, 'iterations': 12, 'regularization': 0.01}\n",
      "Factors:  40 - Iterations: 14 - Regularization: 0.010 ==> MAP@12: 0.00406\n",
      "Best MAP@12 found. Updating: {'factors': 40, 'iterations': 14, 'regularization': 0.01}\n",
      "Factors:  40 - Iterations: 15 - Regularization: 0.010 ==> MAP@12: 0.00402\n",
      "Factors:  40 - Iterations: 20 - Regularization: 0.010 ==> MAP@12: 0.00402\n",
      "Factors:  50 - Iterations:  3 - Regularization: 0.010 ==> MAP@12: 0.00397\n",
      "Factors:  50 - Iterations: 12 - Regularization: 0.010 ==> MAP@12: 0.00420\n",
      "Best MAP@12 found. Updating: {'factors': 50, 'iterations': 12, 'regularization': 0.01}\n",
      "Factors:  50 - Iterations: 14 - Regularization: 0.010 ==> MAP@12: 0.00421\n",
      "Best MAP@12 found. Updating: {'factors': 50, 'iterations': 14, 'regularization': 0.01}\n",
      "Factors:  50 - Iterations: 15 - Regularization: 0.010 ==> MAP@12: 0.00423\n",
      "Best MAP@12 found. Updating: {'factors': 50, 'iterations': 15, 'regularization': 0.01}\n",
      "Factors:  50 - Iterations: 20 - Regularization: 0.010 ==> MAP@12: 0.00418\n",
      "Factors:  60 - Iterations:  3 - Regularization: 0.010 ==> MAP@12: 0.00406\n",
      "Factors:  60 - Iterations: 12 - Regularization: 0.010 ==> MAP@12: 0.00433\n",
      "Best MAP@12 found. Updating: {'factors': 60, 'iterations': 12, 'regularization': 0.01}\n",
      "Factors:  60 - Iterations: 14 - Regularization: 0.010 ==> MAP@12: 0.00429\n",
      "Factors:  60 - Iterations: 15 - Regularization: 0.010 ==> MAP@12: 0.00431\n",
      "Factors:  60 - Iterations: 20 - Regularization: 0.010 ==> MAP@12: 0.00443\n",
      "Best MAP@12 found. Updating: {'factors': 60, 'iterations': 20, 'regularization': 0.01}\n",
      "Factors: 100 - Iterations:  3 - Regularization: 0.010 ==> MAP@12: 0.00422\n",
      "Factors: 100 - Iterations: 12 - Regularization: 0.010 ==> MAP@12: 0.00418\n",
      "Factors: 100 - Iterations: 14 - Regularization: 0.010 ==> MAP@12: 0.00413\n",
      "Factors: 100 - Iterations: 15 - Regularization: 0.010 ==> MAP@12: 0.00411\n",
      "Factors: 100 - Iterations: 20 - Regularization: 0.010 ==> MAP@12: 0.00410\n",
      "Factors: 200 - Iterations:  3 - Regularization: 0.010 ==> MAP@12: 0.00393\n",
      "Factors: 200 - Iterations: 12 - Regularization: 0.010 ==> MAP@12: 0.00424\n",
      "Factors: 200 - Iterations: 14 - Regularization: 0.010 ==> MAP@12: 0.00419\n",
      "Factors: 200 - Iterations: 15 - Regularization: 0.010 ==> MAP@12: 0.00420\n",
      "Factors: 200 - Iterations: 20 - Regularization: 0.010 ==> MAP@12: 0.00416\n",
      "Factors: 500 - Iterations:  3 - Regularization: 0.010 ==> MAP@12: 0.00428\n",
      "Factors: 500 - Iterations: 12 - Regularization: 0.010 ==> MAP@12: 0.00379\n",
      "Factors: 500 - Iterations: 14 - Regularization: 0.010 ==> MAP@12: 0.00372\n",
      "Factors: 500 - Iterations: 15 - Regularization: 0.010 ==> MAP@12: 0.00373\n",
      "Factors: 500 - Iterations: 20 - Regularization: 0.010 ==> MAP@12: 0.00366\n",
      "Factors: 1000 - Iterations:  3 - Regularization: 0.010 ==> MAP@12: 0.00376\n",
      "Factors: 1000 - Iterations: 12 - Regularization: 0.010 ==> MAP@12: 0.00330\n",
      "Factors: 1000 - Iterations: 14 - Regularization: 0.010 ==> MAP@12: 0.00327\n",
      "Factors: 1000 - Iterations: 15 - Regularization: 0.010 ==> MAP@12: 0.00327\n",
      "Factors: 1000 - Iterations: 20 - Regularization: 0.010 ==> MAP@12: 0.00323\n",
      "Wall time: 5h 6min 10s\n"
     ]
    }
   ],
   "source": [
    "#phase d entrainement : les facteurs latents de 40 a 1000 les iteration de 3 a 20, regularisation 0.01 \n",
    "%%time\n",
    "best_map12 = 0\n",
    "for factors in [40, 50, 60, 100, 200, 500, 1000]:\n",
    "    for iterations in [3, 12, 14, 15, 20]:\n",
    "        for regularization in [0.01]:\n",
    "            map12 = validate(matrices, factors, iterations, regularization, show_progress=False)\n",
    "            if map12 > best_map12:\n",
    "                best_map12 = map12\n",
    "                best_params = {'factors': factors, 'iterations': iterations, 'regularization': regularization}\n",
    "                print(f\"Best MAP@12 found. Updating: {best_params}\")"
   ]
  },
  {
   "cell_type": "code",
   "execution_count": 14,
   "id": "58ac0b00",
   "metadata": {},
   "outputs": [],
   "source": [
    "del matrices"
   ]
  },
  {
   "cell_type": "code",
   "execution_count": 15,
   "id": "65582272",
   "metadata": {},
   "outputs": [],
   "source": [
    "#entrainement sur tous le dataset\n",
    "coo_train = utilisateur_article_COO(transactions)\n",
    "csr_train = coo_train.tocsr()"
   ]
  },
  {
   "cell_type": "code",
   "execution_count": 16,
   "id": "656d325c",
   "metadata": {},
   "outputs": [],
   "source": [
    "def train(coo_train, factors=200, iterations=15, regularization=0.01, show_progress=True):\n",
    "    model = implicit.als.AlternatingLeastSquares(factors=factors, \n",
    "                                                 iterations=iterations, \n",
    "                                                 regularization=regularization, \n",
    "                                                 random_state=42)\n",
    "    model.fit(coo_train, show_progress=show_progress)\n",
    "    return model"
   ]
  },
  {
   "cell_type": "code",
   "execution_count": 18,
   "id": "f7bfdda5",
   "metadata": {},
   "outputs": [
    {
     "data": {
      "application/vnd.jupyter.widget-view+json": {
       "model_id": "d89ad4e72cc24891b407801aaf138ae2",
       "version_major": 2,
       "version_minor": 0
      },
      "text/plain": [
       "  0%|          | 0/20 [00:00<?, ?it/s]"
      ]
     },
     "metadata": {},
     "output_type": "display_data"
    }
   ],
   "source": [
    "#entrainement du model sur les meilleurs parametres \n",
    "model = train(coo_train, **best_params)"
   ]
  },
  {
   "cell_type": "code",
   "execution_count": 19,
   "id": "e2b2ede2",
   "metadata": {},
   "outputs": [],
   "source": [
    "#fonction qui a en sortie les recommandations\n",
    "def submit(model, csr_train, submission_name=\"submissions.csv\"):\n",
    "    preds = []\n",
    "    batch_size = 2000\n",
    "    to_generate = np.arange(len(ALL_USERS))\n",
    "    for startidx in range(0, len(to_generate), batch_size):\n",
    "        batch = to_generate[startidx : startidx + batch_size]\n",
    "        ids, scores = model.recommend(batch, csr_train[batch], N=12, filter_already_liked_items=False)\n",
    "        for i, userid in enumerate(batch):\n",
    "            customer_id = user_ids[userid]\n",
    "            user_items = ids[i]\n",
    "            article_ids = [item_ids[item_id] for item_id in user_items]\n",
    "            preds.append((customer_id, ' '.join(article_ids)))\n",
    "\n",
    "    df_preds = pd.DataFrame(preds, columns=['customer_id', 'prediction'])\n",
    "    df_preds.to_csv(submission_name, index=False)\n",
    "    \n",
    "    display(df_preds.head())\n",
    "    print(df_preds.shape)\n",
    "    \n",
    "    return df_preds"
   ]
  },
  {
   "cell_type": "code",
   "execution_count": 20,
   "id": "7a0c5902",
   "metadata": {},
   "outputs": [
    {
     "data": {
      "text/html": [
       "<div>\n",
       "<style scoped>\n",
       "    .dataframe tbody tr th:only-of-type {\n",
       "        vertical-align: middle;\n",
       "    }\n",
       "\n",
       "    .dataframe tbody tr th {\n",
       "        vertical-align: top;\n",
       "    }\n",
       "\n",
       "    .dataframe thead th {\n",
       "        text-align: right;\n",
       "    }\n",
       "</style>\n",
       "<table border=\"1\" class=\"dataframe\">\n",
       "  <thead>\n",
       "    <tr style=\"text-align: right;\">\n",
       "      <th></th>\n",
       "      <th>customer_id</th>\n",
       "      <th>prediction</th>\n",
       "    </tr>\n",
       "  </thead>\n",
       "  <tbody>\n",
       "    <tr>\n",
       "      <th>0</th>\n",
       "      <td>00000dbacae5abe5e23885899a1fa44253a17956c6d1c3...</td>\n",
       "      <td>0568601006 0568597006 0568601007 0568597007 07...</td>\n",
       "    </tr>\n",
       "    <tr>\n",
       "      <th>1</th>\n",
       "      <td>0000423b00ade91418cceaf3b26c6af3dd342b51fd051e...</td>\n",
       "      <td>0351484002 0723529001 0458543001 0673677002 06...</td>\n",
       "    </tr>\n",
       "    <tr>\n",
       "      <th>2</th>\n",
       "      <td>000058a12d5b43e67d225668fa1f8d618c13dc232df0ca...</td>\n",
       "      <td>0529012025 0611415001 0579302001 0611415005 07...</td>\n",
       "    </tr>\n",
       "    <tr>\n",
       "      <th>3</th>\n",
       "      <td>00005ca1c9ed5f5146b52ac8639a40ca9d57aeff4d1bd2...</td>\n",
       "      <td>0564786001 0680262001 0484398001 0680263003 06...</td>\n",
       "    </tr>\n",
       "    <tr>\n",
       "      <th>4</th>\n",
       "      <td>00006413d8573cd20ed7128e53b7b13819fe5cfc2d801f...</td>\n",
       "      <td>0629758005 0590928013 0712924003 0698286003 07...</td>\n",
       "    </tr>\n",
       "  </tbody>\n",
       "</table>\n",
       "</div>"
      ],
      "text/plain": [
       "                                         customer_id  \\\n",
       "0  00000dbacae5abe5e23885899a1fa44253a17956c6d1c3...   \n",
       "1  0000423b00ade91418cceaf3b26c6af3dd342b51fd051e...   \n",
       "2  000058a12d5b43e67d225668fa1f8d618c13dc232df0ca...   \n",
       "3  00005ca1c9ed5f5146b52ac8639a40ca9d57aeff4d1bd2...   \n",
       "4  00006413d8573cd20ed7128e53b7b13819fe5cfc2d801f...   \n",
       "\n",
       "                                          prediction  \n",
       "0  0568601006 0568597006 0568601007 0568597007 07...  \n",
       "1  0351484002 0723529001 0458543001 0673677002 06...  \n",
       "2  0529012025 0611415001 0579302001 0611415005 07...  \n",
       "3  0564786001 0680262001 0484398001 0680263003 06...  \n",
       "4  0629758005 0590928013 0712924003 0698286003 07...  "
      ]
     },
     "metadata": {},
     "output_type": "display_data"
    },
    {
     "name": "stdout",
     "output_type": "stream",
     "text": [
      "(1371980, 2)\n",
      "Wall time: 6min 3s\n"
     ]
    }
   ],
   "source": [
    "#construction du tableau de predictions\n",
    "%%time\n",
    "df_preds = submit(model, csr_train);"
   ]
  },
  {
   "cell_type": "code",
   "execution_count": 22,
   "id": "817761a8",
   "metadata": {},
   "outputs": [],
   "source": [
    "#exportation des recommandations\n",
    "df_preds.to_csv('Predictions.csv')"
   ]
  },
  {
   "cell_type": "code",
   "execution_count": 23,
   "id": "70821d29",
   "metadata": {},
   "outputs": [
    {
     "name": "stdout",
     "output_type": "stream",
     "text": [
      "18897.161586284637\n"
     ]
    }
   ],
   "source": [
    "#fin du chronometrage\n",
    "end = time.time()\n",
    "print(end - start)"
   ]
  }
 ],
 "metadata": {
  "kernelspec": {
   "display_name": "Python 3 (ipykernel)",
   "language": "python",
   "name": "python3"
  },
  "language_info": {
   "codemirror_mode": {
    "name": "ipython",
    "version": 3
   },
   "file_extension": ".py",
   "mimetype": "text/x-python",
   "name": "python",
   "nbconvert_exporter": "python",
   "pygments_lexer": "ipython3",
   "version": "3.9.7"
  }
 },
 "nbformat": 4,
 "nbformat_minor": 5
}
