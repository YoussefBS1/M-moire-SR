{
 "cells": [
  {
   "cell_type": "code",
   "execution_count": 1,
   "id": "ce73f2fa",
   "metadata": {},
   "outputs": [],
   "source": [
    "#importation des librairies python\n",
    "import numpy as np \n",
    "import pandas as pd \n",
    "import matplotlib.pyplot as plt\n",
    "import plotly.graph_objects as go\n",
    "from skimage import io\n",
    "import time"
   ]
  },
  {
   "cell_type": "code",
   "execution_count": 2,
   "id": "2f726e44",
   "metadata": {},
   "outputs": [],
   "source": [
    "#debut chonometrage\n",
    "start = time.time()"
   ]
  },
  {
   "cell_type": "code",
   "execution_count": 3,
   "id": "4a57b673",
   "metadata": {},
   "outputs": [],
   "source": [
    "#importation des donnees\n",
    "articles = pd.read_csv(r'C:\\Users\\Stagiaire\\Downloads\\Timsoft\\H&M\\articles.csv/articles.csv')\n",
    "df = pd.read_csv(r'C:\\Users\\Stagiaire\\Downloads\\Timsoft\\H&M\\transactions_train.csv/transactions.csv', chunksize=100000)\n",
    "users = next(df)"
   ]
  },
  {
   "cell_type": "code",
   "execution_count": 4,
   "id": "9f4b65de",
   "metadata": {},
   "outputs": [],
   "source": [
    "#choix des caracteristiques articles\n",
    "df = users.merge(articles, on='article_id')\n",
    "df = df[['t_dat', 'customer_id', 'article_id', 'prod_name', 'product_type_name',\n",
    "       'product_group_name', \n",
    "       'graphical_appearance_name', 'colour_group_name',\n",
    "       'perceived_colour_value_name',\n",
    "       'perceived_colour_master_name',\n",
    "       'department_name', 'index_name',\n",
    "       'index_group_name', 'section_name',\n",
    "       'garment_group_name', 'detail_desc']]\n",
    "feature_subset = ['product_group_name', \n",
    "       'graphical_appearance_name', 'colour_group_name',\n",
    "       'perceived_colour_value_name',\n",
    "       'perceived_colour_master_name',\n",
    "       'department_name', 'index_name',\n",
    "       'index_group_name', 'section_name',\n",
    "       'garment_group_name']"
   ]
  },
  {
   "cell_type": "code",
   "execution_count": 5,
   "id": "df493155",
   "metadata": {},
   "outputs": [],
   "source": [
    "#Choix des caractéristiques pour construire l espace vectoriel\n",
    "features = feature_subset\n",
    "df1 = df[['customer_id', 'article_id'] + features]\n",
    "dummies_df = pd.get_dummies(df1, columns=features)"
   ]
  },
  {
   "cell_type": "code",
   "execution_count": 6,
   "id": "1d3a288b",
   "metadata": {},
   "outputs": [],
   "source": [
    "#selection de la liste des clients ayant effectue au moins deux achats \n",
    "minimum_items = 2\n",
    "groupby_customer = dummies_df.groupby('customer_id')\n",
    "\n",
    "l = []\n",
    "cutomer_ids = []\n",
    "article_ids = []\n",
    "for key in groupby_customer.groups.keys():\n",
    "    temp = groupby_customer.get_group(key)\n",
    "    if temp.article_id.nunique() >= minimum_items:\n",
    "        l.append(temp.drop('article_id', axis=1).sum(numeric_only=True).values)\n",
    "        cutomer_ids.append(key)\n",
    "        article_ids.extend(temp.article_id.values.tolist())"
   ]
  },
  {
   "cell_type": "code",
   "execution_count": 7,
   "id": "1d24c953",
   "metadata": {},
   "outputs": [],
   "source": [
    "#construction de la matrice Features - User (matrice qui represente l'affinité article - utilisateur)\n",
    "user_feature = pd.DataFrame(l, columns = dummies_df.columns[2:])\n",
    "normalized_user_feature = user_feature.div(user_feature.sum(axis=1), axis=0)\n",
    "normalized_user_feature.insert(0, 'customer_id', cutomer_ids)\n",
    "normalized_user_feature = normalized_user_feature.set_index('customer_id')"
   ]
  },
  {
   "cell_type": "code",
   "execution_count": 8,
   "id": "071f6ef6",
   "metadata": {
    "scrolled": true
   },
   "outputs": [],
   "source": [
    "#construction de la matrice Features - Items (articles - caracteristiques)\n",
    "item_feature = dummies_df.drop_duplicates(subset='article_id')\n",
    "item_feature = item_feature[item_feature.article_id.isin(article_ids)].drop('customer_id', axis=1)\n",
    "item_feature = item_feature.set_index('article_id')"
   ]
  },
  {
   "cell_type": "code",
   "execution_count": 9,
   "id": "9dd729f5",
   "metadata": {},
   "outputs": [],
   "source": [
    "#similarite par produit scalaire \n",
    "scores = normalized_user_feature.dot(item_feature.T)"
   ]
  },
  {
   "cell_type": "code",
   "execution_count": 10,
   "id": "0263f7fd",
   "metadata": {},
   "outputs": [],
   "source": [
    "#creation du tableau de prediction\n",
    "df3 = pd.DataFrame( columns =['Client', 'Prediction'])\n",
    "for i in range(scores.shape[0]):\n",
    "    cutomer_scores = scores.loc[scores.index[i]]\n",
    "    customer_id=scores.index[i]\n",
    "    customer_prev_items = groupby_customer.get_group(customer_id)['article_id']\n",
    "    prev_dropped = cutomer_scores.drop(customer_prev_items.values)\n",
    "    ordered = prev_dropped.sort_values(ascending=False).head(10)  \n",
    "    B=(ordered.index).values\n",
    "    C=B.tolist()\n",
    "    df3.loc[i]=[scores.index[i],C]\n",
    "    \n",
    "df_reset=df3\n",
    "df_reset.to_csv(\"Predictionhm.csv\")"
   ]
  },
  {
   "cell_type": "code",
   "execution_count": 11,
   "id": "53dff191",
   "metadata": {},
   "outputs": [
    {
     "name": "stdout",
     "output_type": "stream",
     "text": [
      "126.17210865020752\n"
     ]
    }
   ],
   "source": [
    "#fin du chronometrage \n",
    "end = time.time()\n",
    "print(end - start)"
   ]
  },
  {
   "cell_type": "code",
   "execution_count": 12,
   "id": "09b1a4f1",
   "metadata": {},
   "outputs": [],
   "source": [
    "#exportation des recommandations\n",
    "df_reset.to_csv('Predictions.csv')"
   ]
  },
  {
   "cell_type": "code",
   "execution_count": 13,
   "id": "bdf7a766",
   "metadata": {},
   "outputs": [],
   "source": [
    "#construction de la liste des recommandations\n",
    "def get_rcmnd(customer_id, scores):\n",
    "    cutomer_scores = scores.loc[customer_id]\n",
    "    customer_prev_items = groupby_customer.get_group(customer_id)['article_id']\n",
    "    prev_dropped = cutomer_scores.drop(customer_prev_items.values)\n",
    "    ordered = prev_dropped.sort_values(ascending=False)  \n",
    "    return ordered, customer_prev_items"
   ]
  },
  {
   "cell_type": "code",
   "execution_count": 14,
   "id": "2a3787e8",
   "metadata": {},
   "outputs": [],
   "source": [
    "#definition de la fonction d'affichage de la photo du produit à recommander \n",
    "def plot_prev(prev_items):\n",
    "    fig = plt.figure(figsize=(20, 10))\n",
    "    for item, i in zip(prev_items, range(1, len(prev_items)+1)):\n",
    "        item = '0' + str(item)\n",
    "        sub = item[:3]\n",
    "        image = path + \"/\"+ sub + \"/\"+ item +\".jpg\"\n",
    "        image = plt.imread(image)\n",
    "        fig.add_subplot(1, 6, i)\n",
    "        plt.imshow(image)"
   ]
  },
  {
   "cell_type": "code",
   "execution_count": 15,
   "id": "dcd73363",
   "metadata": {},
   "outputs": [],
   "source": [
    "#definition de la fonction d'affichage des photos des recommandations\n",
    "def plot_rcmnd(rcmnds):\n",
    "    fig = plt.figure(figsize=(20, 10))\n",
    "    for item, i in zip(rcmnds, range(1, k+1)):\n",
    "        item = '0' + str(item)\n",
    "        sub = item[:3]\n",
    "        image = path + \"/\"+ sub + \"/\"+ item +\".jpg\"\n",
    "        image = plt.imread(image)\n",
    "        fig.add_subplot(1, 6, i)\n",
    "        plt.imshow(image)"
   ]
  },
  {
   "cell_type": "code",
   "execution_count": 16,
   "id": "862b838a",
   "metadata": {},
   "outputs": [],
   "source": [
    "#choix de l article a recommander\n",
    "k = 6\n",
    "customer_id = scores.index[0]\n",
    "rcmnds, prev_items = get_rcmnd(customer_id, scores)\n",
    "rcmnds = rcmnds.index.values[:k]\n",
    "path = \"F:\\images\""
   ]
  },
  {
   "cell_type": "code",
   "execution_count": 17,
   "id": "4ef7dc66",
   "metadata": {},
   "outputs": [
    {
     "ename": "FileNotFoundError",
     "evalue": "[Errno 2] No such file or directory: 'F:\\\\images/064/0640244003.jpg'",
     "output_type": "error",
     "traceback": [
      "\u001b[1;31m---------------------------------------------------------------------------\u001b[0m",
      "\u001b[1;31mFileNotFoundError\u001b[0m                         Traceback (most recent call last)",
      "\u001b[1;32mC:\\Users\\STAGIA~1\\AppData\\Local\\Temp/ipykernel_14740/2445816165.py\u001b[0m in \u001b[0;36m<module>\u001b[1;34m\u001b[0m\n\u001b[1;32m----> 1\u001b[1;33m \u001b[0mplot_prev\u001b[0m\u001b[1;33m(\u001b[0m\u001b[0mprev_items\u001b[0m\u001b[1;33m)\u001b[0m\u001b[1;33m\u001b[0m\u001b[1;33m\u001b[0m\u001b[0m\n\u001b[0m",
      "\u001b[1;32mC:\\Users\\STAGIA~1\\AppData\\Local\\Temp/ipykernel_14740/462777091.py\u001b[0m in \u001b[0;36mplot_prev\u001b[1;34m(prev_items)\u001b[0m\n\u001b[0;32m      6\u001b[0m         \u001b[0msub\u001b[0m \u001b[1;33m=\u001b[0m \u001b[0mitem\u001b[0m\u001b[1;33m[\u001b[0m\u001b[1;33m:\u001b[0m\u001b[1;36m3\u001b[0m\u001b[1;33m]\u001b[0m\u001b[1;33m\u001b[0m\u001b[1;33m\u001b[0m\u001b[0m\n\u001b[0;32m      7\u001b[0m         \u001b[0mimage\u001b[0m \u001b[1;33m=\u001b[0m \u001b[0mpath\u001b[0m \u001b[1;33m+\u001b[0m \u001b[1;34m\"/\"\u001b[0m\u001b[1;33m+\u001b[0m \u001b[0msub\u001b[0m \u001b[1;33m+\u001b[0m \u001b[1;34m\"/\"\u001b[0m\u001b[1;33m+\u001b[0m \u001b[0mitem\u001b[0m \u001b[1;33m+\u001b[0m\u001b[1;34m\".jpg\"\u001b[0m\u001b[1;33m\u001b[0m\u001b[1;33m\u001b[0m\u001b[0m\n\u001b[1;32m----> 8\u001b[1;33m         \u001b[0mimage\u001b[0m \u001b[1;33m=\u001b[0m \u001b[0mplt\u001b[0m\u001b[1;33m.\u001b[0m\u001b[0mimread\u001b[0m\u001b[1;33m(\u001b[0m\u001b[0mimage\u001b[0m\u001b[1;33m)\u001b[0m\u001b[1;33m\u001b[0m\u001b[1;33m\u001b[0m\u001b[0m\n\u001b[0m\u001b[0;32m      9\u001b[0m         \u001b[0mfig\u001b[0m\u001b[1;33m.\u001b[0m\u001b[0madd_subplot\u001b[0m\u001b[1;33m(\u001b[0m\u001b[1;36m1\u001b[0m\u001b[1;33m,\u001b[0m \u001b[1;36m6\u001b[0m\u001b[1;33m,\u001b[0m \u001b[0mi\u001b[0m\u001b[1;33m)\u001b[0m\u001b[1;33m\u001b[0m\u001b[1;33m\u001b[0m\u001b[0m\n\u001b[0;32m     10\u001b[0m         \u001b[0mplt\u001b[0m\u001b[1;33m.\u001b[0m\u001b[0mimshow\u001b[0m\u001b[1;33m(\u001b[0m\u001b[0mimage\u001b[0m\u001b[1;33m)\u001b[0m\u001b[1;33m\u001b[0m\u001b[1;33m\u001b[0m\u001b[0m\n",
      "\u001b[1;32m~\\anaconda3\\lib\\site-packages\\matplotlib\\pyplot.py\u001b[0m in \u001b[0;36mimread\u001b[1;34m(fname, format)\u001b[0m\n\u001b[0;32m   2405\u001b[0m \u001b[1;33m@\u001b[0m\u001b[0m_copy_docstring_and_deprecators\u001b[0m\u001b[1;33m(\u001b[0m\u001b[0mmatplotlib\u001b[0m\u001b[1;33m.\u001b[0m\u001b[0mimage\u001b[0m\u001b[1;33m.\u001b[0m\u001b[0mimread\u001b[0m\u001b[1;33m)\u001b[0m\u001b[1;33m\u001b[0m\u001b[1;33m\u001b[0m\u001b[0m\n\u001b[0;32m   2406\u001b[0m \u001b[1;32mdef\u001b[0m \u001b[0mimread\u001b[0m\u001b[1;33m(\u001b[0m\u001b[0mfname\u001b[0m\u001b[1;33m,\u001b[0m \u001b[0mformat\u001b[0m\u001b[1;33m=\u001b[0m\u001b[1;32mNone\u001b[0m\u001b[1;33m)\u001b[0m\u001b[1;33m:\u001b[0m\u001b[1;33m\u001b[0m\u001b[1;33m\u001b[0m\u001b[0m\n\u001b[1;32m-> 2407\u001b[1;33m     \u001b[1;32mreturn\u001b[0m \u001b[0mmatplotlib\u001b[0m\u001b[1;33m.\u001b[0m\u001b[0mimage\u001b[0m\u001b[1;33m.\u001b[0m\u001b[0mimread\u001b[0m\u001b[1;33m(\u001b[0m\u001b[0mfname\u001b[0m\u001b[1;33m,\u001b[0m \u001b[0mformat\u001b[0m\u001b[1;33m)\u001b[0m\u001b[1;33m\u001b[0m\u001b[1;33m\u001b[0m\u001b[0m\n\u001b[0m\u001b[0;32m   2408\u001b[0m \u001b[1;33m\u001b[0m\u001b[0m\n\u001b[0;32m   2409\u001b[0m \u001b[1;33m\u001b[0m\u001b[0m\n",
      "\u001b[1;32m~\\anaconda3\\lib\\site-packages\\matplotlib\\image.py\u001b[0m in \u001b[0;36mimread\u001b[1;34m(fname, format)\u001b[0m\n\u001b[0;32m   1499\u001b[0m                     \u001b[0mresponse\u001b[0m \u001b[1;33m=\u001b[0m \u001b[0mio\u001b[0m\u001b[1;33m.\u001b[0m\u001b[0mBytesIO\u001b[0m\u001b[1;33m(\u001b[0m\u001b[0mresponse\u001b[0m\u001b[1;33m.\u001b[0m\u001b[0mread\u001b[0m\u001b[1;33m(\u001b[0m\u001b[1;33m)\u001b[0m\u001b[1;33m)\u001b[0m\u001b[1;33m\u001b[0m\u001b[1;33m\u001b[0m\u001b[0m\n\u001b[0;32m   1500\u001b[0m                 \u001b[1;32mreturn\u001b[0m \u001b[0mimread\u001b[0m\u001b[1;33m(\u001b[0m\u001b[0mresponse\u001b[0m\u001b[1;33m,\u001b[0m \u001b[0mformat\u001b[0m\u001b[1;33m=\u001b[0m\u001b[0mext\u001b[0m\u001b[1;33m)\u001b[0m\u001b[1;33m\u001b[0m\u001b[1;33m\u001b[0m\u001b[0m\n\u001b[1;32m-> 1501\u001b[1;33m     \u001b[1;32mwith\u001b[0m \u001b[0mimg_open\u001b[0m\u001b[1;33m(\u001b[0m\u001b[0mfname\u001b[0m\u001b[1;33m)\u001b[0m \u001b[1;32mas\u001b[0m \u001b[0mimage\u001b[0m\u001b[1;33m:\u001b[0m\u001b[1;33m\u001b[0m\u001b[1;33m\u001b[0m\u001b[0m\n\u001b[0m\u001b[0;32m   1502\u001b[0m         return (_pil_png_to_float_array(image)\n\u001b[0;32m   1503\u001b[0m                 \u001b[1;32mif\u001b[0m \u001b[0misinstance\u001b[0m\u001b[1;33m(\u001b[0m\u001b[0mimage\u001b[0m\u001b[1;33m,\u001b[0m \u001b[0mPIL\u001b[0m\u001b[1;33m.\u001b[0m\u001b[0mPngImagePlugin\u001b[0m\u001b[1;33m.\u001b[0m\u001b[0mPngImageFile\u001b[0m\u001b[1;33m)\u001b[0m \u001b[1;32melse\u001b[0m\u001b[1;33m\u001b[0m\u001b[1;33m\u001b[0m\u001b[0m\n",
      "\u001b[1;32m~\\anaconda3\\lib\\site-packages\\PIL\\Image.py\u001b[0m in \u001b[0;36mopen\u001b[1;34m(fp, mode, formats)\u001b[0m\n\u001b[0;32m   2973\u001b[0m \u001b[1;33m\u001b[0m\u001b[0m\n\u001b[0;32m   2974\u001b[0m     \u001b[1;32mif\u001b[0m \u001b[0mfilename\u001b[0m\u001b[1;33m:\u001b[0m\u001b[1;33m\u001b[0m\u001b[1;33m\u001b[0m\u001b[0m\n\u001b[1;32m-> 2975\u001b[1;33m         \u001b[0mfp\u001b[0m \u001b[1;33m=\u001b[0m \u001b[0mbuiltins\u001b[0m\u001b[1;33m.\u001b[0m\u001b[0mopen\u001b[0m\u001b[1;33m(\u001b[0m\u001b[0mfilename\u001b[0m\u001b[1;33m,\u001b[0m \u001b[1;34m\"rb\"\u001b[0m\u001b[1;33m)\u001b[0m\u001b[1;33m\u001b[0m\u001b[1;33m\u001b[0m\u001b[0m\n\u001b[0m\u001b[0;32m   2976\u001b[0m         \u001b[0mexclusive_fp\u001b[0m \u001b[1;33m=\u001b[0m \u001b[1;32mTrue\u001b[0m\u001b[1;33m\u001b[0m\u001b[1;33m\u001b[0m\u001b[0m\n\u001b[0;32m   2977\u001b[0m \u001b[1;33m\u001b[0m\u001b[0m\n",
      "\u001b[1;31mFileNotFoundError\u001b[0m: [Errno 2] No such file or directory: 'F:\\\\images/064/0640244003.jpg'"
     ]
    },
    {
     "data": {
      "text/plain": [
       "<Figure size 1440x720 with 0 Axes>"
      ]
     },
     "metadata": {},
     "output_type": "display_data"
    }
   ],
   "source": [
    "plot_prev(prev_items)"
   ]
  },
  {
   "cell_type": "code",
   "execution_count": null,
   "id": "eace53c7",
   "metadata": {},
   "outputs": [],
   "source": [
    "plot_rcmnd(rcmnds)"
   ]
  },
  {
   "cell_type": "code",
   "execution_count": null,
   "id": "1fb0422c",
   "metadata": {},
   "outputs": [],
   "source": []
  }
 ],
 "metadata": {
  "kernelspec": {
   "display_name": "Python 3 (ipykernel)",
   "language": "python",
   "name": "python3"
  },
  "language_info": {
   "codemirror_mode": {
    "name": "ipython",
    "version": 3
   },
   "file_extension": ".py",
   "mimetype": "text/x-python",
   "name": "python",
   "nbconvert_exporter": "python",
   "pygments_lexer": "ipython3",
   "version": "3.9.7"
  }
 },
 "nbformat": 4,
 "nbformat_minor": 5
}
