{
 "cells": [
  {
   "cell_type": "code",
   "execution_count": 2,
   "id": "ce73f2fa",
   "metadata": {},
   "outputs": [],
   "source": [
    "#importation des librairies python\n",
    "import time\n",
    "import numpy as np \n",
    "import pandas as pd \n",
    "import matplotlib.pyplot as plt\n",
    "from skimage import io\n",
    "from scipy.sparse import coo_matrix"
   ]
  },
  {
   "cell_type": "code",
   "execution_count": 3,
   "id": "51bf432f",
   "metadata": {},
   "outputs": [],
   "source": [
    "#debut chonometrage\n",
    "start = time.time()"
   ]
  },
  {
   "cell_type": "code",
   "execution_count": 4,
   "id": "4a57b673",
   "metadata": {},
   "outputs": [],
   "source": [
    "#importation des donnees\n",
    "articles = pd.read_csv(r'C:\\Users\\Stagiaire\\Downloads\\Timsoft\\H&M\\articles.csv/articles.csv',nrows=10000)\n",
    "users = pd.read_csv(r'C:\\Users\\Stagiaire\\Downloads\\Timsoft\\H&M\\customers.csv/customers.csv')\n",
    "df = pd.read_csv(r'C:\\Users\\Stagiaire\\Downloads\\Timsoft\\H&M\\transactions_train.csv/transactions.csv')"
   ]
  },
  {
   "cell_type": "code",
   "execution_count": 5,
   "id": "f1cd253a",
   "metadata": {},
   "outputs": [],
   "source": [
    "#choix des caracteristiques articles\n",
    "feature_subset = ['product_group_name', \n",
    "       'graphical_appearance_name', 'colour_group_name',\n",
    "       'perceived_colour_value_name',\n",
    "       'perceived_colour_master_name',\n",
    "       'department_name', 'index_name',\n",
    "       'index_group_name', 'section_name',\n",
    "       'garment_group_name']"
   ]
  },
  {
   "cell_type": "code",
   "execution_count": 6,
   "id": "fb784200",
   "metadata": {},
   "outputs": [],
   "source": [
    "#construction de la matrice dummies_df(conversion des données categorielles en variables indicatrices)\n",
    "features = feature_subset\n",
    "df2=articles[['article_id']+features]\n",
    "dummies_df2=pd.get_dummies(df2,columns=features)"
   ]
  },
  {
   "cell_type": "code",
   "execution_count": 7,
   "id": "071f6ef6",
   "metadata": {
    "scrolled": true
   },
   "outputs": [],
   "source": [
    "#construction de la matrice Features - Items (articles - caracteristiques)\n",
    "item_feature = dummies_df2.drop_duplicates(subset='article_id')\n",
    "item_feature = item_feature.set_index('article_id')"
   ]
  },
  {
   "cell_type": "code",
   "execution_count": 8,
   "id": "d1112802",
   "metadata": {},
   "outputs": [],
   "source": [
    "#creation de la matrice de similarite cosinus entre les articles\n",
    "#recommendations de 10 articles\n",
    "from sklearn.metrics.pairwise import cosine_similarity\n",
    "cos_sim = cosine_similarity(item_feature, item_feature)\n",
    "indices = pd.Series(item_feature.index)\n",
    "def recommendations(title, cosine_sim = cos_sim):\n",
    "    recommended_articles = []\n",
    "    index = indices[indices == title].index[0]\n",
    "    similarity_scores = pd.Series(cosine_sim[index]).sort_values(ascending = False)\n",
    "    top_10_articles = list(similarity_scores.iloc[1:11].index)\n",
    "    for i in top_10_articles:\n",
    "        recommended_articles.append(list(item_feature.index)[i])\n",
    "    return recommended_articles"
   ]
  },
  {
   "cell_type": "code",
   "execution_count": 9,
   "id": "8ee3105f",
   "metadata": {},
   "outputs": [],
   "source": [
    "#creation du tableau des articles et leurs recommandations \n",
    "df3 = pd.DataFrame( columns =['article_id', 'Article Similaire'])\n",
    "for i in range(item_feature.shape[0]):\n",
    "    art = item_feature.index[i]\n",
    "    df3.loc[i]=[art,recommendations(art)]"
   ]
  },
  {
   "cell_type": "code",
   "execution_count": 10,
   "id": "1ae5a7fe",
   "metadata": {},
   "outputs": [],
   "source": [
    "#exportation des recommandations\n",
    "df3.to_csv('Predictionhm.csv')"
   ]
  },
  {
   "cell_type": "code",
   "execution_count": 16,
   "id": "fb6debfb",
   "metadata": {},
   "outputs": [
    {
     "data": {
      "text/html": [
       "<div>\n",
       "<style scoped>\n",
       "    .dataframe tbody tr th:only-of-type {\n",
       "        vertical-align: middle;\n",
       "    }\n",
       "\n",
       "    .dataframe tbody tr th {\n",
       "        vertical-align: top;\n",
       "    }\n",
       "\n",
       "    .dataframe thead th {\n",
       "        text-align: right;\n",
       "    }\n",
       "</style>\n",
       "<table border=\"1\" class=\"dataframe\">\n",
       "  <thead>\n",
       "    <tr style=\"text-align: right;\">\n",
       "      <th></th>\n",
       "      <th>article_id</th>\n",
       "      <th>Article Similaire</th>\n",
       "    </tr>\n",
       "  </thead>\n",
       "  <tbody>\n",
       "    <tr>\n",
       "      <th>0</th>\n",
       "      <td>108775015</td>\n",
       "      <td>[456163060, 264984001, 237347004, 237222001, 4...</td>\n",
       "    </tr>\n",
       "    <tr>\n",
       "      <th>1</th>\n",
       "      <td>108775044</td>\n",
       "      <td>[316441005, 355307042, 237347045, 456163031, 2...</td>\n",
       "    </tr>\n",
       "    <tr>\n",
       "      <th>2</th>\n",
       "      <td>108775051</td>\n",
       "      <td>[316441036, 479227010, 396135035, 218354047, 4...</td>\n",
       "    </tr>\n",
       "    <tr>\n",
       "      <th>3</th>\n",
       "      <td>110065001</td>\n",
       "      <td>[497513001, 473954006, 471077001, 383152002, 5...</td>\n",
       "    </tr>\n",
       "    <tr>\n",
       "      <th>4</th>\n",
       "      <td>110065002</td>\n",
       "      <td>[253448002, 470789020, 153115021, 508318008, 4...</td>\n",
       "    </tr>\n",
       "    <tr>\n",
       "      <th>...</th>\n",
       "      <td>...</td>\n",
       "      <td>...</td>\n",
       "    </tr>\n",
       "    <tr>\n",
       "      <th>9995</th>\n",
       "      <td>537708002</td>\n",
       "      <td>[508579001, 513257012, 513132007, 517813018, 5...</td>\n",
       "    </tr>\n",
       "    <tr>\n",
       "      <th>9996</th>\n",
       "      <td>537722001</td>\n",
       "      <td>[344534010, 516000035, 516000098, 516000092, 5...</td>\n",
       "    </tr>\n",
       "    <tr>\n",
       "      <th>9997</th>\n",
       "      <td>537722004</td>\n",
       "      <td>[491293002, 516000088, 496111003, 516000039, 4...</td>\n",
       "    </tr>\n",
       "    <tr>\n",
       "      <th>9998</th>\n",
       "      <td>537732001</td>\n",
       "      <td>[278811007, 338400003, 479167001, 486639004, 3...</td>\n",
       "    </tr>\n",
       "    <tr>\n",
       "      <th>9999</th>\n",
       "      <td>537732002</td>\n",
       "      <td>[532138001, 528272001, 512075001, 492897001, 4...</td>\n",
       "    </tr>\n",
       "  </tbody>\n",
       "</table>\n",
       "<p>10000 rows × 2 columns</p>\n",
       "</div>"
      ],
      "text/plain": [
       "     article_id                                  Article Similaire\n",
       "0     108775015  [456163060, 264984001, 237347004, 237222001, 4...\n",
       "1     108775044  [316441005, 355307042, 237347045, 456163031, 2...\n",
       "2     108775051  [316441036, 479227010, 396135035, 218354047, 4...\n",
       "3     110065001  [497513001, 473954006, 471077001, 383152002, 5...\n",
       "4     110065002  [253448002, 470789020, 153115021, 508318008, 4...\n",
       "...         ...                                                ...\n",
       "9995  537708002  [508579001, 513257012, 513132007, 517813018, 5...\n",
       "9996  537722001  [344534010, 516000035, 516000098, 516000092, 5...\n",
       "9997  537722004  [491293002, 516000088, 496111003, 516000039, 4...\n",
       "9998  537732001  [278811007, 338400003, 479167001, 486639004, 3...\n",
       "9999  537732002  [532138001, 528272001, 512075001, 492897001, 4...\n",
       "\n",
       "[10000 rows x 2 columns]"
      ]
     },
     "execution_count": 16,
     "metadata": {},
     "output_type": "execute_result"
    }
   ],
   "source": [
    "df3"
   ]
  },
  {
   "cell_type": "code",
   "execution_count": 11,
   "id": "cb0ae519",
   "metadata": {},
   "outputs": [
    {
     "name": "stdout",
     "output_type": "stream",
     "text": [
      "140.88695764541626\n"
     ]
    }
   ],
   "source": [
    "#fin du chronometrage \n",
    "end = time.time()\n",
    "print(end - start)"
   ]
  },
  {
   "cell_type": "code",
   "execution_count": 12,
   "id": "5e911802",
   "metadata": {},
   "outputs": [],
   "source": [
    "#definition de la fonction d'affichage de la photo du produit à recommander \n",
    "def plot_prev(prev_items):\n",
    "    fig = plt.figure(figsize=(20, 10))\n",
    "    for item, i in zip(prev_items, range(1, len(prev_items)+1)):\n",
    "        item = '0' + str(item)\n",
    "        sub = item[:3]\n",
    "        image = path + \"/\"+ sub + \"/\"+ item +\".jpg\"\n",
    "        image = plt.imread(image)\n",
    "        fig.add_subplot(1, k, i)\n",
    "        plt.imshow(image)"
   ]
  },
  {
   "cell_type": "code",
   "execution_count": 13,
   "id": "de9e302d",
   "metadata": {},
   "outputs": [],
   "source": [
    "#definition de la fonction d'affichage des photos des recommandations\n",
    "def plot_rcmnd(rcmnds):\n",
    "    fig = plt.figure(figsize=(20, 10))\n",
    "    for item, i in zip(rcmnds, range(1, k+1)):\n",
    "        item = '0' + str(item)\n",
    "        sub = item[:3]\n",
    "        image = path + \"/\"+ sub + \"/\"+ item +\".jpg\"\n",
    "        image = plt.imread(image)\n",
    "        fig.add_subplot(1, k, i)\n",
    "        plt.imshow(image)"
   ]
  },
  {
   "cell_type": "code",
   "execution_count": 14,
   "id": "6a4d6108",
   "metadata": {},
   "outputs": [],
   "source": [
    "#choix de l article a recommander \n",
    "k=10\n",
    "prev_items='537631002'\n",
    "rcmnds=df3.iloc[9983][\"Article Similaire\"]\n",
    "path = \"F:\\images\""
   ]
  },
  {
   "cell_type": "code",
   "execution_count": 15,
   "id": "eeb99b45",
   "metadata": {},
   "outputs": [
    {
     "ename": "FileNotFoundError",
     "evalue": "[Errno 2] No such file or directory: 'F:\\\\images/05/05.jpg'",
     "output_type": "error",
     "traceback": [
      "\u001b[1;31m---------------------------------------------------------------------------\u001b[0m",
      "\u001b[1;31mFileNotFoundError\u001b[0m                         Traceback (most recent call last)",
      "\u001b[1;32mC:\\Users\\STAGIA~1\\AppData\\Local\\Temp/ipykernel_11796/2445816165.py\u001b[0m in \u001b[0;36m<module>\u001b[1;34m\u001b[0m\n\u001b[1;32m----> 1\u001b[1;33m \u001b[0mplot_prev\u001b[0m\u001b[1;33m(\u001b[0m\u001b[0mprev_items\u001b[0m\u001b[1;33m)\u001b[0m\u001b[1;33m\u001b[0m\u001b[1;33m\u001b[0m\u001b[0m\n\u001b[0m",
      "\u001b[1;32mC:\\Users\\STAGIA~1\\AppData\\Local\\Temp/ipykernel_11796/1798047141.py\u001b[0m in \u001b[0;36mplot_prev\u001b[1;34m(prev_items)\u001b[0m\n\u001b[0;32m      6\u001b[0m         \u001b[0msub\u001b[0m \u001b[1;33m=\u001b[0m \u001b[0mitem\u001b[0m\u001b[1;33m[\u001b[0m\u001b[1;33m:\u001b[0m\u001b[1;36m3\u001b[0m\u001b[1;33m]\u001b[0m\u001b[1;33m\u001b[0m\u001b[1;33m\u001b[0m\u001b[0m\n\u001b[0;32m      7\u001b[0m         \u001b[0mimage\u001b[0m \u001b[1;33m=\u001b[0m \u001b[0mpath\u001b[0m \u001b[1;33m+\u001b[0m \u001b[1;34m\"/\"\u001b[0m\u001b[1;33m+\u001b[0m \u001b[0msub\u001b[0m \u001b[1;33m+\u001b[0m \u001b[1;34m\"/\"\u001b[0m\u001b[1;33m+\u001b[0m \u001b[0mitem\u001b[0m \u001b[1;33m+\u001b[0m\u001b[1;34m\".jpg\"\u001b[0m\u001b[1;33m\u001b[0m\u001b[1;33m\u001b[0m\u001b[0m\n\u001b[1;32m----> 8\u001b[1;33m         \u001b[0mimage\u001b[0m \u001b[1;33m=\u001b[0m \u001b[0mplt\u001b[0m\u001b[1;33m.\u001b[0m\u001b[0mimread\u001b[0m\u001b[1;33m(\u001b[0m\u001b[0mimage\u001b[0m\u001b[1;33m)\u001b[0m\u001b[1;33m\u001b[0m\u001b[1;33m\u001b[0m\u001b[0m\n\u001b[0m\u001b[0;32m      9\u001b[0m         \u001b[0mfig\u001b[0m\u001b[1;33m.\u001b[0m\u001b[0madd_subplot\u001b[0m\u001b[1;33m(\u001b[0m\u001b[1;36m1\u001b[0m\u001b[1;33m,\u001b[0m \u001b[0mk\u001b[0m\u001b[1;33m,\u001b[0m \u001b[0mi\u001b[0m\u001b[1;33m)\u001b[0m\u001b[1;33m\u001b[0m\u001b[1;33m\u001b[0m\u001b[0m\n\u001b[0;32m     10\u001b[0m         \u001b[0mplt\u001b[0m\u001b[1;33m.\u001b[0m\u001b[0mimshow\u001b[0m\u001b[1;33m(\u001b[0m\u001b[0mimage\u001b[0m\u001b[1;33m)\u001b[0m\u001b[1;33m\u001b[0m\u001b[1;33m\u001b[0m\u001b[0m\n",
      "\u001b[1;32m~\\anaconda3\\lib\\site-packages\\matplotlib\\pyplot.py\u001b[0m in \u001b[0;36mimread\u001b[1;34m(fname, format)\u001b[0m\n\u001b[0;32m   2405\u001b[0m \u001b[1;33m@\u001b[0m\u001b[0m_copy_docstring_and_deprecators\u001b[0m\u001b[1;33m(\u001b[0m\u001b[0mmatplotlib\u001b[0m\u001b[1;33m.\u001b[0m\u001b[0mimage\u001b[0m\u001b[1;33m.\u001b[0m\u001b[0mimread\u001b[0m\u001b[1;33m)\u001b[0m\u001b[1;33m\u001b[0m\u001b[1;33m\u001b[0m\u001b[0m\n\u001b[0;32m   2406\u001b[0m \u001b[1;32mdef\u001b[0m \u001b[0mimread\u001b[0m\u001b[1;33m(\u001b[0m\u001b[0mfname\u001b[0m\u001b[1;33m,\u001b[0m \u001b[0mformat\u001b[0m\u001b[1;33m=\u001b[0m\u001b[1;32mNone\u001b[0m\u001b[1;33m)\u001b[0m\u001b[1;33m:\u001b[0m\u001b[1;33m\u001b[0m\u001b[1;33m\u001b[0m\u001b[0m\n\u001b[1;32m-> 2407\u001b[1;33m     \u001b[1;32mreturn\u001b[0m \u001b[0mmatplotlib\u001b[0m\u001b[1;33m.\u001b[0m\u001b[0mimage\u001b[0m\u001b[1;33m.\u001b[0m\u001b[0mimread\u001b[0m\u001b[1;33m(\u001b[0m\u001b[0mfname\u001b[0m\u001b[1;33m,\u001b[0m \u001b[0mformat\u001b[0m\u001b[1;33m)\u001b[0m\u001b[1;33m\u001b[0m\u001b[1;33m\u001b[0m\u001b[0m\n\u001b[0m\u001b[0;32m   2408\u001b[0m \u001b[1;33m\u001b[0m\u001b[0m\n\u001b[0;32m   2409\u001b[0m \u001b[1;33m\u001b[0m\u001b[0m\n",
      "\u001b[1;32m~\\anaconda3\\lib\\site-packages\\matplotlib\\image.py\u001b[0m in \u001b[0;36mimread\u001b[1;34m(fname, format)\u001b[0m\n\u001b[0;32m   1499\u001b[0m                     \u001b[0mresponse\u001b[0m \u001b[1;33m=\u001b[0m \u001b[0mio\u001b[0m\u001b[1;33m.\u001b[0m\u001b[0mBytesIO\u001b[0m\u001b[1;33m(\u001b[0m\u001b[0mresponse\u001b[0m\u001b[1;33m.\u001b[0m\u001b[0mread\u001b[0m\u001b[1;33m(\u001b[0m\u001b[1;33m)\u001b[0m\u001b[1;33m)\u001b[0m\u001b[1;33m\u001b[0m\u001b[1;33m\u001b[0m\u001b[0m\n\u001b[0;32m   1500\u001b[0m                 \u001b[1;32mreturn\u001b[0m \u001b[0mimread\u001b[0m\u001b[1;33m(\u001b[0m\u001b[0mresponse\u001b[0m\u001b[1;33m,\u001b[0m \u001b[0mformat\u001b[0m\u001b[1;33m=\u001b[0m\u001b[0mext\u001b[0m\u001b[1;33m)\u001b[0m\u001b[1;33m\u001b[0m\u001b[1;33m\u001b[0m\u001b[0m\n\u001b[1;32m-> 1501\u001b[1;33m     \u001b[1;32mwith\u001b[0m \u001b[0mimg_open\u001b[0m\u001b[1;33m(\u001b[0m\u001b[0mfname\u001b[0m\u001b[1;33m)\u001b[0m \u001b[1;32mas\u001b[0m \u001b[0mimage\u001b[0m\u001b[1;33m:\u001b[0m\u001b[1;33m\u001b[0m\u001b[1;33m\u001b[0m\u001b[0m\n\u001b[0m\u001b[0;32m   1502\u001b[0m         return (_pil_png_to_float_array(image)\n\u001b[0;32m   1503\u001b[0m                 \u001b[1;32mif\u001b[0m \u001b[0misinstance\u001b[0m\u001b[1;33m(\u001b[0m\u001b[0mimage\u001b[0m\u001b[1;33m,\u001b[0m \u001b[0mPIL\u001b[0m\u001b[1;33m.\u001b[0m\u001b[0mPngImagePlugin\u001b[0m\u001b[1;33m.\u001b[0m\u001b[0mPngImageFile\u001b[0m\u001b[1;33m)\u001b[0m \u001b[1;32melse\u001b[0m\u001b[1;33m\u001b[0m\u001b[1;33m\u001b[0m\u001b[0m\n",
      "\u001b[1;32m~\\anaconda3\\lib\\site-packages\\PIL\\Image.py\u001b[0m in \u001b[0;36mopen\u001b[1;34m(fp, mode, formats)\u001b[0m\n\u001b[0;32m   2973\u001b[0m \u001b[1;33m\u001b[0m\u001b[0m\n\u001b[0;32m   2974\u001b[0m     \u001b[1;32mif\u001b[0m \u001b[0mfilename\u001b[0m\u001b[1;33m:\u001b[0m\u001b[1;33m\u001b[0m\u001b[1;33m\u001b[0m\u001b[0m\n\u001b[1;32m-> 2975\u001b[1;33m         \u001b[0mfp\u001b[0m \u001b[1;33m=\u001b[0m \u001b[0mbuiltins\u001b[0m\u001b[1;33m.\u001b[0m\u001b[0mopen\u001b[0m\u001b[1;33m(\u001b[0m\u001b[0mfilename\u001b[0m\u001b[1;33m,\u001b[0m \u001b[1;34m\"rb\"\u001b[0m\u001b[1;33m)\u001b[0m\u001b[1;33m\u001b[0m\u001b[1;33m\u001b[0m\u001b[0m\n\u001b[0m\u001b[0;32m   2976\u001b[0m         \u001b[0mexclusive_fp\u001b[0m \u001b[1;33m=\u001b[0m \u001b[1;32mTrue\u001b[0m\u001b[1;33m\u001b[0m\u001b[1;33m\u001b[0m\u001b[0m\n\u001b[0;32m   2977\u001b[0m \u001b[1;33m\u001b[0m\u001b[0m\n",
      "\u001b[1;31mFileNotFoundError\u001b[0m: [Errno 2] No such file or directory: 'F:\\\\images/05/05.jpg'"
     ]
    },
    {
     "data": {
      "text/plain": [
       "<Figure size 1440x720 with 0 Axes>"
      ]
     },
     "metadata": {},
     "output_type": "display_data"
    }
   ],
   "source": [
    "plot_prev(prev_items)"
   ]
  },
  {
   "cell_type": "code",
   "execution_count": null,
   "id": "51397983",
   "metadata": {},
   "outputs": [],
   "source": [
    "plot_rcmnd(rcmnds)"
   ]
  },
  {
   "cell_type": "code",
   "execution_count": null,
   "id": "6726f355",
   "metadata": {},
   "outputs": [],
   "source": []
  },
  {
   "cell_type": "code",
   "execution_count": null,
   "id": "3c4f0998",
   "metadata": {},
   "outputs": [],
   "source": []
  },
  {
   "cell_type": "code",
   "execution_count": null,
   "id": "e9c5416c",
   "metadata": {},
   "outputs": [],
   "source": []
  }
 ],
 "metadata": {
  "kernelspec": {
   "display_name": "Python 3 (ipykernel)",
   "language": "python",
   "name": "python3"
  },
  "language_info": {
   "codemirror_mode": {
    "name": "ipython",
    "version": 3
   },
   "file_extension": ".py",
   "mimetype": "text/x-python",
   "name": "python",
   "nbconvert_exporter": "python",
   "pygments_lexer": "ipython3",
   "version": "3.9.7"
  }
 },
 "nbformat": 4,
 "nbformat_minor": 5
}
