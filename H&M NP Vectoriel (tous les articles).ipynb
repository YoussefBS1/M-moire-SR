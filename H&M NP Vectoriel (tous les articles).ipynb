{
 "cells": [
  {
   "cell_type": "code",
   "execution_count": 1,
   "id": "ce73f2fa",
   "metadata": {},
   "outputs": [],
   "source": [
    "import time\n",
    "import numpy as np \n",
    "import pandas as pd \n",
    "import matplotlib.pyplot as plt\n",
    "from skimage import io\n",
    "from scipy.sparse import coo_matrix"
   ]
  },
  {
   "cell_type": "code",
   "execution_count": 2,
   "id": "51bf432f",
   "metadata": {},
   "outputs": [],
   "source": [
    "start = time.time()"
   ]
  },
  {
   "cell_type": "code",
   "execution_count": 3,
   "id": "4a57b673",
   "metadata": {},
   "outputs": [
    {
     "name": "stdout",
     "output_type": "stream",
     "text": [
      "Wall time: 33.8 s\n"
     ]
    }
   ],
   "source": [
    "%%time\n",
    "#importation des données\n",
    "articles = pd.read_csv(r'C:\\Users\\Stagiaire\\Downloads\\Timsoft\\H&M\\articles.csv/articles.csv',nrows=10000)\n",
    "users = pd.read_csv(r'C:\\Users\\Stagiaire\\Downloads\\Timsoft\\H&M\\customers.csv/customers.csv')\n",
    "df = pd.read_csv(r'C:\\Users\\Stagiaire\\Downloads\\Timsoft\\H&M\\transactions_train.csv/transactions.csv')"
   ]
  },
  {
   "cell_type": "code",
   "execution_count": 4,
   "id": "f1cd253a",
   "metadata": {},
   "outputs": [],
   "source": [
    "feature_subset = ['product_group_name', \n",
    "       'graphical_appearance_name', 'colour_group_name',\n",
    "       'perceived_colour_value_name',\n",
    "       'perceived_colour_master_name',\n",
    "       'department_name', 'index_name',\n",
    "       'index_group_name', 'section_name',\n",
    "       'garment_group_name']"
   ]
  },
  {
   "cell_type": "code",
   "execution_count": 5,
   "id": "fb784200",
   "metadata": {},
   "outputs": [],
   "source": [
    "features = feature_subset\n",
    "df2=articles[['article_id']+features]\n",
    "dummies_df2=pd.get_dummies(df2,columns=features)"
   ]
  },
  {
   "cell_type": "code",
   "execution_count": 6,
   "id": "071f6ef6",
   "metadata": {
    "scrolled": true
   },
   "outputs": [],
   "source": [
    "#construction de la matrice Features - Items \n",
    "item_feature = dummies_df2.drop_duplicates(subset='article_id')\n",
    "item_feature = item_feature.set_index('article_id')"
   ]
  },
  {
   "cell_type": "code",
   "execution_count": 7,
   "id": "d1112802",
   "metadata": {},
   "outputs": [],
   "source": [
    "#creation de la matrice de similarité cosinus\n",
    "from sklearn.metrics.pairwise import cosine_similarity\n",
    "cos_sim = cosine_similarity(item_feature, item_feature)\n",
    "indices = pd.Series(item_feature.index)\n",
    "def recommendations(title, cosine_sim = cos_sim):\n",
    "    recommended_articles = []\n",
    "    index = indices[indices == title].index[0]\n",
    "    similarity_scores = pd.Series(cosine_sim[index]).sort_values(ascending = False)\n",
    "    top_10_articles = list(similarity_scores.iloc[1:11].index)\n",
    "    for i in top_10_articles:\n",
    "        recommended_articles.append(list(item_feature.index)[i])\n",
    "    return recommended_articles"
   ]
  },
  {
   "cell_type": "code",
   "execution_count": 8,
   "id": "8ee3105f",
   "metadata": {},
   "outputs": [
    {
     "name": "stdout",
     "output_type": "stream",
     "text": [
      "Wall time: 1min 33s\n"
     ]
    }
   ],
   "source": [
    "%%time\n",
    "#creation du tableau d'article et similarité, 10 articles sont proposées\n",
    "df3 = pd.DataFrame( columns =['article_id', 'Article Similaire'])\n",
    "for i in range(item_feature.shape[0]):\n",
    "    art = item_feature.index[i]\n",
    "    df3.loc[i]=[art,recommendations(art)]"
   ]
  },
  {
   "cell_type": "code",
   "execution_count": 9,
   "id": "1ae5a7fe",
   "metadata": {},
   "outputs": [
    {
     "name": "stdout",
     "output_type": "stream",
     "text": [
      "Wall time: 64.9 ms\n"
     ]
    }
   ],
   "source": [
    "%%time\n",
    "df3.to_csv('Predictionhm.csv')"
   ]
  },
  {
   "cell_type": "code",
   "execution_count": 10,
   "id": "cb0ae519",
   "metadata": {},
   "outputs": [
    {
     "name": "stdout",
     "output_type": "stream",
     "text": [
      "129.74298858642578\n"
     ]
    }
   ],
   "source": [
    "end = time.time()\n",
    "print(end - start)"
   ]
  },
  {
   "cell_type": "code",
   "execution_count": null,
   "id": "d5ef0015",
   "metadata": {},
   "outputs": [],
   "source": [
    "#création de la vérification \n",
    "newdata=pd.DataFrame(columns=articles.columns)\n",
    "def Rechercher_caracteristiques(num,newdata):\n",
    "    for j in range(articles.shape[0]):\n",
    "        if (articles.iloc[j].article_id)==(num):\n",
    "            k=j\n",
    "            break\n",
    "    newdata=pd.DataFrame(columns=articles.columns)\n",
    "    L = articles.loc[k]\n",
    "    newdata=newdata.append(L)\n",
    "    return newdata.T"
   ]
  },
  {
   "cell_type": "code",
   "execution_count": null,
   "id": "8bbbcfb1",
   "metadata": {},
   "outputs": [],
   "source": [
    "indices = pd.Series(df3.index, index=df3['article_id']).drop_duplicates()\n",
    "indices2=pd.Series(articles['article_id'])\n",
    "le_df2=pd.DataFrame(columns=articles.columns)\n",
    "def construction(articleid,le_df): \n",
    "    idx = indices[articleid]\n",
    "    LI=df3.loc[idx][\"Article Similaire\"]\n",
    "    for l in LI:\n",
    "        index2=indices2[indices2 == l].index[0]\n",
    "        h=index2\n",
    "        O = articles.loc[h]\n",
    "        le_df=le_df.append(O)\n",
    "    return le_df.T"
   ]
  },
  {
   "cell_type": "code",
   "execution_count": null,
   "id": "1c96aaef",
   "metadata": {},
   "outputs": [],
   "source": [
    "%%time\n",
    "construction(537631002,le_df2)"
   ]
  },
  {
   "cell_type": "code",
   "execution_count": null,
   "id": "91163397",
   "metadata": {},
   "outputs": [],
   "source": [
    "indices = pd.Series(item_feature.index)\n",
    "indices2=pd.Series(articles['article_id'])\n",
    "le_df=pd.DataFrame( columns =['article_id', 'Caractéristiques', 'Similarité'])\n",
    "Features_a_inclure = ['prod_name', 'index_name', 'section_name', 'product_group_name', 'product_type_name', 'garment_group_name', 'detail_desc', 'colour_group_name']\n",
    "def recommendations_bis(article_id, le_df, cosine_sim = cos_sim):\n",
    "    #construction de l'index,articles et taux de similarité\n",
    "    recommended_articles = []\n",
    "    index = indices[indices == article_id].index[0]\n",
    "    similarity_scores = pd.Series(cosine_sim[index]).sort_values(ascending = False)\n",
    "    top_12_articles_scores = list(similarity_scores.iloc[1:13])\n",
    "    top_12_articles_index= list(similarity_scores.iloc[1:13].index)\n",
    "    for i in top_12_articles_index:\n",
    "        recommended_articles.append(list(item_feature.index)[i])\n",
    "    #construction du dataframe final\n",
    "    for l in recommended_articles:\n",
    "        index2=indices2[indices2 == l].index[0]\n",
    "        h=index2\n",
    "        C=articles[Features_a_inclure].iloc[h].values\n",
    "        D=recommended_articles.index(l)\n",
    "        O = [articles.iloc[index2].prod_name,C,top_12_articles_scores[D]]\n",
    "        le_df.loc[D] = O\n",
    "    return le_df"
   ]
  },
  {
   "cell_type": "code",
   "execution_count": null,
   "id": "faec6c5e",
   "metadata": {},
   "outputs": [],
   "source": [
    "%%time\n",
    "df7=recommendations_bis(537631002,le_df,cosine_sim = cos_sim)\n",
    "df7"
   ]
  },
  {
   "cell_type": "code",
   "execution_count": null,
   "id": "e950ec90",
   "metadata": {},
   "outputs": [],
   "source": [
    "%%time\n",
    "df8=Rechercher_caracteristiques(673677001,newdata)\n",
    "df8"
   ]
  },
  {
   "cell_type": "code",
   "execution_count": null,
   "id": "07dc3977",
   "metadata": {},
   "outputs": [],
   "source": [
    "df7.to_csv('df8.csv')"
   ]
  },
  {
   "cell_type": "code",
   "execution_count": null,
   "id": "5e911802",
   "metadata": {},
   "outputs": [],
   "source": [
    "def plot_prev(prev_items):\n",
    "    fig = plt.figure(figsize=(20, 10))\n",
    "    for item, i in zip(prev_items, range(1, len(prev_items)+1)):\n",
    "        item = '0' + str(item)\n",
    "        sub = item[:3]\n",
    "        image = path + \"/\"+ sub + \"/\"+ item +\".jpg\"\n",
    "        image = plt.imread(image)\n",
    "        fig.add_subplot(1, k, i)\n",
    "        plt.imshow(image)"
   ]
  },
  {
   "cell_type": "code",
   "execution_count": null,
   "id": "de9e302d",
   "metadata": {},
   "outputs": [],
   "source": [
    "def plot_rcmnd(rcmnds):\n",
    "    fig = plt.figure(figsize=(20, 10))\n",
    "    for item, i in zip(rcmnds, range(1, k+1)):\n",
    "        item = '0' + str(item)\n",
    "        sub = item[:3]\n",
    "        image = path + \"/\"+ sub + \"/\"+ item +\".jpg\"\n",
    "        image = plt.imread(image)\n",
    "        fig.add_subplot(1, k, i)\n",
    "        plt.imshow(image)"
   ]
  },
  {
   "cell_type": "code",
   "execution_count": null,
   "id": "6a4d6108",
   "metadata": {},
   "outputs": [],
   "source": [
    "k=10\n",
    "rcmnds=df3.iloc[9983][\"Article Similaire\"]\n",
    "path = \"F:\\images\""
   ]
  },
  {
   "cell_type": "code",
   "execution_count": null,
   "id": "eeb99b45",
   "metadata": {},
   "outputs": [],
   "source": [
    "plot_prev(['537631002'])"
   ]
  },
  {
   "cell_type": "code",
   "execution_count": null,
   "id": "51397983",
   "metadata": {},
   "outputs": [],
   "source": [
    "plot_rcmnd(rcmnds)"
   ]
  },
  {
   "cell_type": "code",
   "execution_count": null,
   "id": "bc0e78aa",
   "metadata": {},
   "outputs": [],
   "source": [
    "rcmnds"
   ]
  },
  {
   "cell_type": "code",
   "execution_count": null,
   "id": "e4a7c8f0",
   "metadata": {},
   "outputs": [],
   "source": []
  }
 ],
 "metadata": {
  "kernelspec": {
   "display_name": "Python 3 (ipykernel)",
   "language": "python",
   "name": "python3"
  },
  "language_info": {
   "codemirror_mode": {
    "name": "ipython",
    "version": 3
   },
   "file_extension": ".py",
   "mimetype": "text/x-python",
   "name": "python",
   "nbconvert_exporter": "python",
   "pygments_lexer": "ipython3",
   "version": "3.9.7"
  }
 },
 "nbformat": 4,
 "nbformat_minor": 5
}
