{
 "cells": [
  {
   "cell_type": "code",
   "execution_count": null,
   "id": "cd197657",
   "metadata": {},
   "outputs": [],
   "source": []
  },
  {
   "cell_type": "code",
   "execution_count": 3,
   "id": "5bf0e3ac",
   "metadata": {},
   "outputs": [],
   "source": [
    "import numpy as np\n",
    "import pandas as pd\n",
    "import seaborn as sns\n",
    "from matplotlib import pyplot as plt\n",
    "from tqdm.notebook import tqdm"
   ]
  },
  {
   "cell_type": "code",
   "execution_count": 2,
   "id": "e5428ad6",
   "metadata": {},
   "outputs": [],
   "source": [
    "def show_values(axs, orient=\"v\", space=.01):\n",
    "    def _single(ax):\n",
    "        if orient == \"v\":\n",
    "            for p in ax.patches:\n",
    "                _x = p.get_x() + p.get_width() / 2\n",
    "                _y = p.get_y() + p.get_height() + (p.get_height()*0.01)\n",
    "                value = '{:.1f}'.format(p.get_height())\n",
    "                ax.text(_x, _y, value, ha=\"center\") \n",
    "        elif orient == \"h\":\n",
    "            for p in ax.patches:\n",
    "                _x = p.get_x() + p.get_width() + float(space)\n",
    "                _y = p.get_y() + p.get_height() - (p.get_height()*0.5)\n",
    "                value = '{:.1f}'.format(p.get_width())\n",
    "                ax.text(_x, _y, value, ha=\"left\")\n",
    "\n",
    "    if isinstance(axs, np.ndarray):\n",
    "        for idx, ax in np.ndenumerate(axs):\n",
    "            _single(ax)\n",
    "    else:\n",
    "        _single(axs)"
   ]
  },
  {
   "cell_type": "code",
   "execution_count": 4,
   "id": "8ad77de4",
   "metadata": {},
   "outputs": [
    {
     "name": "stdout",
     "output_type": "stream",
     "text": [
      "Wall time: 39.8 s\n"
     ]
    }
   ],
   "source": [
    "%%time\n",
    "#importation des données\n",
    "articles = pd.read_csv(r'C:\\Users\\Stagiaire\\Downloads\\Timsoft\\H&M\\articles.csv/articles.csv')\n",
    "users = pd.read_csv(r'C:\\Users\\Stagiaire\\Downloads\\Timsoft\\H&M\\customers.csv/customers.csv')\n",
    "df = pd.read_csv(r'C:\\Users\\Stagiaire\\Downloads\\Timsoft\\H&M\\transactions_train.csv/transactions.csv')"
   ]
  },
  {
   "cell_type": "code",
   "execution_count": 5,
   "id": "51b8786f",
   "metadata": {},
   "outputs": [
    {
     "data": {
      "text/html": [
       "<div>\n",
       "<style scoped>\n",
       "    .dataframe tbody tr th:only-of-type {\n",
       "        vertical-align: middle;\n",
       "    }\n",
       "\n",
       "    .dataframe tbody tr th {\n",
       "        vertical-align: top;\n",
       "    }\n",
       "\n",
       "    .dataframe thead th {\n",
       "        text-align: right;\n",
       "    }\n",
       "</style>\n",
       "<table border=\"1\" class=\"dataframe\">\n",
       "  <thead>\n",
       "    <tr style=\"text-align: right;\">\n",
       "      <th></th>\n",
       "      <th>article_id</th>\n",
       "      <th>product_code</th>\n",
       "      <th>prod_name</th>\n",
       "      <th>product_type_no</th>\n",
       "      <th>product_type_name</th>\n",
       "      <th>product_group_name</th>\n",
       "      <th>graphical_appearance_no</th>\n",
       "      <th>graphical_appearance_name</th>\n",
       "      <th>colour_group_code</th>\n",
       "      <th>colour_group_name</th>\n",
       "      <th>...</th>\n",
       "      <th>department_name</th>\n",
       "      <th>index_code</th>\n",
       "      <th>index_name</th>\n",
       "      <th>index_group_no</th>\n",
       "      <th>index_group_name</th>\n",
       "      <th>section_no</th>\n",
       "      <th>section_name</th>\n",
       "      <th>garment_group_no</th>\n",
       "      <th>garment_group_name</th>\n",
       "      <th>detail_desc</th>\n",
       "    </tr>\n",
       "  </thead>\n",
       "  <tbody>\n",
       "    <tr>\n",
       "      <th>0</th>\n",
       "      <td>108775015</td>\n",
       "      <td>108775</td>\n",
       "      <td>Strap top</td>\n",
       "      <td>253</td>\n",
       "      <td>Vest top</td>\n",
       "      <td>Garment Upper body</td>\n",
       "      <td>1010016</td>\n",
       "      <td>Solid</td>\n",
       "      <td>9</td>\n",
       "      <td>Black</td>\n",
       "      <td>...</td>\n",
       "      <td>Jersey Basic</td>\n",
       "      <td>A</td>\n",
       "      <td>Ladieswear</td>\n",
       "      <td>1</td>\n",
       "      <td>Ladieswear</td>\n",
       "      <td>16</td>\n",
       "      <td>Womens Everyday Basics</td>\n",
       "      <td>1002</td>\n",
       "      <td>Jersey Basic</td>\n",
       "      <td>Jersey top with narrow shoulder straps.</td>\n",
       "    </tr>\n",
       "    <tr>\n",
       "      <th>1</th>\n",
       "      <td>108775044</td>\n",
       "      <td>108775</td>\n",
       "      <td>Strap top</td>\n",
       "      <td>253</td>\n",
       "      <td>Vest top</td>\n",
       "      <td>Garment Upper body</td>\n",
       "      <td>1010016</td>\n",
       "      <td>Solid</td>\n",
       "      <td>10</td>\n",
       "      <td>White</td>\n",
       "      <td>...</td>\n",
       "      <td>Jersey Basic</td>\n",
       "      <td>A</td>\n",
       "      <td>Ladieswear</td>\n",
       "      <td>1</td>\n",
       "      <td>Ladieswear</td>\n",
       "      <td>16</td>\n",
       "      <td>Womens Everyday Basics</td>\n",
       "      <td>1002</td>\n",
       "      <td>Jersey Basic</td>\n",
       "      <td>Jersey top with narrow shoulder straps.</td>\n",
       "    </tr>\n",
       "    <tr>\n",
       "      <th>2</th>\n",
       "      <td>108775051</td>\n",
       "      <td>108775</td>\n",
       "      <td>Strap top (1)</td>\n",
       "      <td>253</td>\n",
       "      <td>Vest top</td>\n",
       "      <td>Garment Upper body</td>\n",
       "      <td>1010017</td>\n",
       "      <td>Stripe</td>\n",
       "      <td>11</td>\n",
       "      <td>Off White</td>\n",
       "      <td>...</td>\n",
       "      <td>Jersey Basic</td>\n",
       "      <td>A</td>\n",
       "      <td>Ladieswear</td>\n",
       "      <td>1</td>\n",
       "      <td>Ladieswear</td>\n",
       "      <td>16</td>\n",
       "      <td>Womens Everyday Basics</td>\n",
       "      <td>1002</td>\n",
       "      <td>Jersey Basic</td>\n",
       "      <td>Jersey top with narrow shoulder straps.</td>\n",
       "    </tr>\n",
       "    <tr>\n",
       "      <th>3</th>\n",
       "      <td>110065001</td>\n",
       "      <td>110065</td>\n",
       "      <td>OP T-shirt (Idro)</td>\n",
       "      <td>306</td>\n",
       "      <td>Bra</td>\n",
       "      <td>Underwear</td>\n",
       "      <td>1010016</td>\n",
       "      <td>Solid</td>\n",
       "      <td>9</td>\n",
       "      <td>Black</td>\n",
       "      <td>...</td>\n",
       "      <td>Clean Lingerie</td>\n",
       "      <td>B</td>\n",
       "      <td>Lingeries/Tights</td>\n",
       "      <td>1</td>\n",
       "      <td>Ladieswear</td>\n",
       "      <td>61</td>\n",
       "      <td>Womens Lingerie</td>\n",
       "      <td>1017</td>\n",
       "      <td>Under-, Nightwear</td>\n",
       "      <td>Microfibre T-shirt bra with underwired, moulde...</td>\n",
       "    </tr>\n",
       "    <tr>\n",
       "      <th>4</th>\n",
       "      <td>110065002</td>\n",
       "      <td>110065</td>\n",
       "      <td>OP T-shirt (Idro)</td>\n",
       "      <td>306</td>\n",
       "      <td>Bra</td>\n",
       "      <td>Underwear</td>\n",
       "      <td>1010016</td>\n",
       "      <td>Solid</td>\n",
       "      <td>10</td>\n",
       "      <td>White</td>\n",
       "      <td>...</td>\n",
       "      <td>Clean Lingerie</td>\n",
       "      <td>B</td>\n",
       "      <td>Lingeries/Tights</td>\n",
       "      <td>1</td>\n",
       "      <td>Ladieswear</td>\n",
       "      <td>61</td>\n",
       "      <td>Womens Lingerie</td>\n",
       "      <td>1017</td>\n",
       "      <td>Under-, Nightwear</td>\n",
       "      <td>Microfibre T-shirt bra with underwired, moulde...</td>\n",
       "    </tr>\n",
       "    <tr>\n",
       "      <th>...</th>\n",
       "      <td>...</td>\n",
       "      <td>...</td>\n",
       "      <td>...</td>\n",
       "      <td>...</td>\n",
       "      <td>...</td>\n",
       "      <td>...</td>\n",
       "      <td>...</td>\n",
       "      <td>...</td>\n",
       "      <td>...</td>\n",
       "      <td>...</td>\n",
       "      <td>...</td>\n",
       "      <td>...</td>\n",
       "      <td>...</td>\n",
       "      <td>...</td>\n",
       "      <td>...</td>\n",
       "      <td>...</td>\n",
       "      <td>...</td>\n",
       "      <td>...</td>\n",
       "      <td>...</td>\n",
       "      <td>...</td>\n",
       "      <td>...</td>\n",
       "    </tr>\n",
       "    <tr>\n",
       "      <th>105537</th>\n",
       "      <td>953450001</td>\n",
       "      <td>953450</td>\n",
       "      <td>5pk regular Placement1</td>\n",
       "      <td>302</td>\n",
       "      <td>Socks</td>\n",
       "      <td>Socks &amp; Tights</td>\n",
       "      <td>1010014</td>\n",
       "      <td>Placement print</td>\n",
       "      <td>9</td>\n",
       "      <td>Black</td>\n",
       "      <td>...</td>\n",
       "      <td>Socks Bin</td>\n",
       "      <td>F</td>\n",
       "      <td>Menswear</td>\n",
       "      <td>3</td>\n",
       "      <td>Menswear</td>\n",
       "      <td>26</td>\n",
       "      <td>Men Underwear</td>\n",
       "      <td>1021</td>\n",
       "      <td>Socks and Tights</td>\n",
       "      <td>Socks in a fine-knit cotton blend with a small...</td>\n",
       "    </tr>\n",
       "    <tr>\n",
       "      <th>105538</th>\n",
       "      <td>953763001</td>\n",
       "      <td>953763</td>\n",
       "      <td>SPORT Malaga tank</td>\n",
       "      <td>253</td>\n",
       "      <td>Vest top</td>\n",
       "      <td>Garment Upper body</td>\n",
       "      <td>1010016</td>\n",
       "      <td>Solid</td>\n",
       "      <td>9</td>\n",
       "      <td>Black</td>\n",
       "      <td>...</td>\n",
       "      <td>Jersey</td>\n",
       "      <td>A</td>\n",
       "      <td>Ladieswear</td>\n",
       "      <td>1</td>\n",
       "      <td>Ladieswear</td>\n",
       "      <td>2</td>\n",
       "      <td>H&amp;M+</td>\n",
       "      <td>1005</td>\n",
       "      <td>Jersey Fancy</td>\n",
       "      <td>Loose-fitting sports vest top in ribbed fast-d...</td>\n",
       "    </tr>\n",
       "    <tr>\n",
       "      <th>105539</th>\n",
       "      <td>956217002</td>\n",
       "      <td>956217</td>\n",
       "      <td>Cartwheel dress</td>\n",
       "      <td>265</td>\n",
       "      <td>Dress</td>\n",
       "      <td>Garment Full body</td>\n",
       "      <td>1010016</td>\n",
       "      <td>Solid</td>\n",
       "      <td>9</td>\n",
       "      <td>Black</td>\n",
       "      <td>...</td>\n",
       "      <td>Jersey</td>\n",
       "      <td>A</td>\n",
       "      <td>Ladieswear</td>\n",
       "      <td>1</td>\n",
       "      <td>Ladieswear</td>\n",
       "      <td>18</td>\n",
       "      <td>Womens Trend</td>\n",
       "      <td>1005</td>\n",
       "      <td>Jersey Fancy</td>\n",
       "      <td>Short, A-line dress in jersey with a round nec...</td>\n",
       "    </tr>\n",
       "    <tr>\n",
       "      <th>105540</th>\n",
       "      <td>957375001</td>\n",
       "      <td>957375</td>\n",
       "      <td>CLAIRE HAIR CLAW</td>\n",
       "      <td>72</td>\n",
       "      <td>Hair clip</td>\n",
       "      <td>Accessories</td>\n",
       "      <td>1010016</td>\n",
       "      <td>Solid</td>\n",
       "      <td>9</td>\n",
       "      <td>Black</td>\n",
       "      <td>...</td>\n",
       "      <td>Small Accessories</td>\n",
       "      <td>D</td>\n",
       "      <td>Divided</td>\n",
       "      <td>2</td>\n",
       "      <td>Divided</td>\n",
       "      <td>52</td>\n",
       "      <td>Divided Accessories</td>\n",
       "      <td>1019</td>\n",
       "      <td>Accessories</td>\n",
       "      <td>Large plastic hair claw.</td>\n",
       "    </tr>\n",
       "    <tr>\n",
       "      <th>105541</th>\n",
       "      <td>959461001</td>\n",
       "      <td>959461</td>\n",
       "      <td>Lounge dress</td>\n",
       "      <td>265</td>\n",
       "      <td>Dress</td>\n",
       "      <td>Garment Full body</td>\n",
       "      <td>1010016</td>\n",
       "      <td>Solid</td>\n",
       "      <td>11</td>\n",
       "      <td>Off White</td>\n",
       "      <td>...</td>\n",
       "      <td>Jersey</td>\n",
       "      <td>A</td>\n",
       "      <td>Ladieswear</td>\n",
       "      <td>1</td>\n",
       "      <td>Ladieswear</td>\n",
       "      <td>18</td>\n",
       "      <td>Womens Trend</td>\n",
       "      <td>1005</td>\n",
       "      <td>Jersey Fancy</td>\n",
       "      <td>Calf-length dress in ribbed jersey made from a...</td>\n",
       "    </tr>\n",
       "  </tbody>\n",
       "</table>\n",
       "<p>105542 rows × 25 columns</p>\n",
       "</div>"
      ],
      "text/plain": [
       "        article_id  product_code               prod_name  product_type_no  \\\n",
       "0        108775015        108775               Strap top              253   \n",
       "1        108775044        108775               Strap top              253   \n",
       "2        108775051        108775           Strap top (1)              253   \n",
       "3        110065001        110065       OP T-shirt (Idro)              306   \n",
       "4        110065002        110065       OP T-shirt (Idro)              306   \n",
       "...            ...           ...                     ...              ...   \n",
       "105537   953450001        953450  5pk regular Placement1              302   \n",
       "105538   953763001        953763       SPORT Malaga tank              253   \n",
       "105539   956217002        956217         Cartwheel dress              265   \n",
       "105540   957375001        957375        CLAIRE HAIR CLAW               72   \n",
       "105541   959461001        959461            Lounge dress              265   \n",
       "\n",
       "       product_type_name  product_group_name  graphical_appearance_no  \\\n",
       "0               Vest top  Garment Upper body                  1010016   \n",
       "1               Vest top  Garment Upper body                  1010016   \n",
       "2               Vest top  Garment Upper body                  1010017   \n",
       "3                    Bra           Underwear                  1010016   \n",
       "4                    Bra           Underwear                  1010016   \n",
       "...                  ...                 ...                      ...   \n",
       "105537             Socks      Socks & Tights                  1010014   \n",
       "105538          Vest top  Garment Upper body                  1010016   \n",
       "105539             Dress   Garment Full body                  1010016   \n",
       "105540         Hair clip         Accessories                  1010016   \n",
       "105541             Dress   Garment Full body                  1010016   \n",
       "\n",
       "       graphical_appearance_name  colour_group_code colour_group_name  ...  \\\n",
       "0                          Solid                  9             Black  ...   \n",
       "1                          Solid                 10             White  ...   \n",
       "2                         Stripe                 11         Off White  ...   \n",
       "3                          Solid                  9             Black  ...   \n",
       "4                          Solid                 10             White  ...   \n",
       "...                          ...                ...               ...  ...   \n",
       "105537           Placement print                  9             Black  ...   \n",
       "105538                     Solid                  9             Black  ...   \n",
       "105539                     Solid                  9             Black  ...   \n",
       "105540                     Solid                  9             Black  ...   \n",
       "105541                     Solid                 11         Off White  ...   \n",
       "\n",
       "          department_name index_code        index_name index_group_no  \\\n",
       "0            Jersey Basic          A        Ladieswear              1   \n",
       "1            Jersey Basic          A        Ladieswear              1   \n",
       "2            Jersey Basic          A        Ladieswear              1   \n",
       "3          Clean Lingerie          B  Lingeries/Tights              1   \n",
       "4          Clean Lingerie          B  Lingeries/Tights              1   \n",
       "...                   ...        ...               ...            ...   \n",
       "105537          Socks Bin          F          Menswear              3   \n",
       "105538             Jersey          A        Ladieswear              1   \n",
       "105539             Jersey          A        Ladieswear              1   \n",
       "105540  Small Accessories          D           Divided              2   \n",
       "105541             Jersey          A        Ladieswear              1   \n",
       "\n",
       "        index_group_name section_no            section_name garment_group_no  \\\n",
       "0             Ladieswear         16  Womens Everyday Basics             1002   \n",
       "1             Ladieswear         16  Womens Everyday Basics             1002   \n",
       "2             Ladieswear         16  Womens Everyday Basics             1002   \n",
       "3             Ladieswear         61         Womens Lingerie             1017   \n",
       "4             Ladieswear         61         Womens Lingerie             1017   \n",
       "...                  ...        ...                     ...              ...   \n",
       "105537          Menswear         26           Men Underwear             1021   \n",
       "105538        Ladieswear          2                    H&M+             1005   \n",
       "105539        Ladieswear         18            Womens Trend             1005   \n",
       "105540           Divided         52     Divided Accessories             1019   \n",
       "105541        Ladieswear         18            Womens Trend             1005   \n",
       "\n",
       "        garment_group_name                                        detail_desc  \n",
       "0             Jersey Basic            Jersey top with narrow shoulder straps.  \n",
       "1             Jersey Basic            Jersey top with narrow shoulder straps.  \n",
       "2             Jersey Basic            Jersey top with narrow shoulder straps.  \n",
       "3        Under-, Nightwear  Microfibre T-shirt bra with underwired, moulde...  \n",
       "4        Under-, Nightwear  Microfibre T-shirt bra with underwired, moulde...  \n",
       "...                    ...                                                ...  \n",
       "105537    Socks and Tights  Socks in a fine-knit cotton blend with a small...  \n",
       "105538        Jersey Fancy  Loose-fitting sports vest top in ribbed fast-d...  \n",
       "105539        Jersey Fancy  Short, A-line dress in jersey with a round nec...  \n",
       "105540         Accessories                           Large plastic hair claw.  \n",
       "105541        Jersey Fancy  Calf-length dress in ribbed jersey made from a...  \n",
       "\n",
       "[105542 rows x 25 columns]"
      ]
     },
     "execution_count": 5,
     "metadata": {},
     "output_type": "execute_result"
    }
   ],
   "source": [
    "articles"
   ]
  },
  {
   "cell_type": "code",
   "execution_count": 63,
   "id": "3e4428a7",
   "metadata": {
    "scrolled": true
   },
   "outputs": [
    {
     "data": {
      "image/png": "[encoded data removed]",
      "text/plain": [
       "<Figure size 576x432 with 1 Axes>"
      ]
     },
     "metadata": {
      "needs_background": "light"
     },
     "output_type": "display_data"
    },
    {
     "name": "stdout",
     "output_type": "stream",
     "text": [
      "Wall time: 2min 15s\n"
     ]
    }
   ],
   "source": [
    "%%time\n",
    "dfj = pd.merge(df,articles,on='article_id',how='left')\n",
    "temp1 = dfj.groupby([\"product_group_name\"])[\"article_id\"].count()\n",
    "df1 = pd.DataFrame({'Index Name': temp1.index,\n",
    "                   'Articles': temp1.values\n",
    "                  })\n",
    "df1 = df1.sort_values(['Articles'], ascending=False)\n",
    "df1[\"pourcentage\"]=(df1[\"Articles\"] / df1[\"Articles\"].sum())*100\n",
    "df1 = df1.drop([1, 10, 2,17,4,8,14,9,3])\n",
    "plt.figure(figsize = (8,6))\n",
    "plt.title(f\"Pourcentage en nombre d'articles vendus pour chaque catégorie\" ,fontsize = 12)\n",
    "sns.set_color_codes(\"pastel\")\n",
    "s = sns.barplot(x = 'Index Name', y=\"pourcentage\", data=df1)\n",
    "show_values(s, space=0.05)\n",
    "s.set_xticklabels(s.get_xticklabels(),rotation=90, fontsize = 12)\n",
    "locs, labels = plt.xticks()\n",
    "plt.xlabel(\"Catégorie\", fontsize = 12)\n",
    "plt.ylabel(\"Pourcentage\", fontsize = 12)\n",
    "plt.show()"
   ]
  },
  {
   "cell_type": "code",
   "execution_count": 65,
   "id": "79539774",
   "metadata": {},
   "outputs": [
    {
     "data": {
      "text/html": [
       "<div>\n",
       "<style scoped>\n",
       "    .dataframe tbody tr th:only-of-type {\n",
       "        vertical-align: middle;\n",
       "    }\n",
       "\n",
       "    .dataframe tbody tr th {\n",
       "        vertical-align: top;\n",
       "    }\n",
       "\n",
       "    .dataframe thead th {\n",
       "        text-align: right;\n",
       "    }\n",
       "</style>\n",
       "<table border=\"1\" class=\"dataframe\">\n",
       "  <thead>\n",
       "    <tr style=\"text-align: right;\">\n",
       "      <th></th>\n",
       "      <th>Index Name</th>\n",
       "      <th>Articles</th>\n",
       "      <th>pourcentage</th>\n",
       "    </tr>\n",
       "  </thead>\n",
       "  <tbody>\n",
       "    <tr>\n",
       "      <th>7</th>\n",
       "      <td>Garment Upper body</td>\n",
       "      <td>12552755</td>\n",
       "      <td>39.488571</td>\n",
       "    </tr>\n",
       "    <tr>\n",
       "      <th>6</th>\n",
       "      <td>Garment Lower body</td>\n",
       "      <td>7046054</td>\n",
       "      <td>22.165541</td>\n",
       "    </tr>\n",
       "    <tr>\n",
       "      <th>5</th>\n",
       "      <td>Garment Full body</td>\n",
       "      <td>3552470</td>\n",
       "      <td>11.175393</td>\n",
       "    </tr>\n",
       "    <tr>\n",
       "      <th>15</th>\n",
       "      <td>Swimwear</td>\n",
       "      <td>2579222</td>\n",
       "      <td>8.113740</td>\n",
       "    </tr>\n",
       "    <tr>\n",
       "      <th>16</th>\n",
       "      <td>Underwear</td>\n",
       "      <td>2565858</td>\n",
       "      <td>8.071700</td>\n",
       "    </tr>\n",
       "    <tr>\n",
       "      <th>0</th>\n",
       "      <td>Accessories</td>\n",
       "      <td>1599593</td>\n",
       "      <td>5.032014</td>\n",
       "    </tr>\n",
       "    <tr>\n",
       "      <th>12</th>\n",
       "      <td>Shoes</td>\n",
       "      <td>745521</td>\n",
       "      <td>2.345267</td>\n",
       "    </tr>\n",
       "    <tr>\n",
       "      <th>13</th>\n",
       "      <td>Socks &amp; Tights</td>\n",
       "      <td>685712</td>\n",
       "      <td>2.157119</td>\n",
       "    </tr>\n",
       "    <tr>\n",
       "      <th>11</th>\n",
       "      <td>Nightwear</td>\n",
       "      <td>348180</td>\n",
       "      <td>1.095308</td>\n",
       "    </tr>\n",
       "    <tr>\n",
       "      <th>18</th>\n",
       "      <td>Unknown</td>\n",
       "      <td>97040</td>\n",
       "      <td>0.305269</td>\n",
       "    </tr>\n",
       "  </tbody>\n",
       "</table>\n",
       "</div>"
      ],
      "text/plain": [
       "            Index Name  Articles  pourcentage\n",
       "7   Garment Upper body  12552755    39.488571\n",
       "6   Garment Lower body   7046054    22.165541\n",
       "5    Garment Full body   3552470    11.175393\n",
       "15            Swimwear   2579222     8.113740\n",
       "16           Underwear   2565858     8.071700\n",
       "0          Accessories   1599593     5.032014\n",
       "12               Shoes    745521     2.345267\n",
       "13      Socks & Tights    685712     2.157119\n",
       "11           Nightwear    348180     1.095308\n",
       "18             Unknown     97040     0.305269"
      ]
     },
     "execution_count": 65,
     "metadata": {},
     "output_type": "execute_result"
    }
   ],
   "source": [
    "df1"
   ]
  },
  {
   "cell_type": "code",
   "execution_count": 5,
   "id": "7553394c",
   "metadata": {},
   "outputs": [],
   "source": [
    "k=df.head(100000)\n",
    "k.to_csv('A verifier.csv')"
   ]
  },
  {
   "cell_type": "code",
   "execution_count": 6,
   "id": "cf37791e",
   "metadata": {},
   "outputs": [],
   "source": [
    "temp1f = df.groupby([\"t_dat\"])[\"customer_id\"].count()"
   ]
  },
  {
   "cell_type": "code",
   "execution_count": 7,
   "id": "266b5105",
   "metadata": {},
   "outputs": [
    {
     "data": {
      "text/plain": [
       "43308.34332425068"
      ]
     },
     "execution_count": 7,
     "metadata": {},
     "output_type": "execute_result"
    }
   ],
   "source": [
    "temp1f.mean()"
   ]
  },
  {
   "cell_type": "code",
   "execution_count": 8,
   "id": "e4921a4f",
   "metadata": {},
   "outputs": [
    {
     "data": {
      "text/plain": [
       "t_dat\n",
       "2018-09-20    48399\n",
       "2018-09-21    47543\n",
       "2018-09-22    17635\n",
       "2018-09-23    52230\n",
       "2018-09-24    45984\n",
       "              ...  \n",
       "2020-09-18    39284\n",
       "2020-09-19    36796\n",
       "2020-09-20    31489\n",
       "2020-09-21    32130\n",
       "2020-09-22    32866\n",
       "Name: customer_id, Length: 734, dtype: int64"
      ]
     },
     "execution_count": 8,
     "metadata": {},
     "output_type": "execute_result"
    }
   ],
   "source": [
    "temp1f"
   ]
  },
  {
   "cell_type": "code",
   "execution_count": 9,
   "id": "37c68838",
   "metadata": {},
   "outputs": [
    {
     "data": {
      "image/png": "[encoded data removed]",
      "text/plain": [
       "<Figure size 432x288 with 1 Axes>"
      ]
     },
     "metadata": {
      "needs_background": "light"
     },
     "output_type": "display_data"
    },
    {
     "data": {
      "text/plain": [
       "<Figure size 7200x720 with 0 Axes>"
      ]
     },
     "metadata": {},
     "output_type": "display_data"
    }
   ],
   "source": [
    "import numpy as np\n",
    "import matplotlib.pyplot as plt\n",
    "\n",
    "plt.plot(temp1f.index, temp1f.values)\n",
    "plt.figure(figsize = (100,10))\n",
    "plt.show() # affiche la figure à l'écran"
   ]
  },
  {
   "cell_type": "code",
   "execution_count": 10,
   "id": "67afb110",
   "metadata": {},
   "outputs": [
    {
     "data": {
      "text/plain": [
       "array(['Accessories', 'Blouses', 'Dressed', 'Dresses Ladies',\n",
       "       'Dresses/Skirts girls', 'Jersey Basic', 'Jersey Fancy', 'Knitwear',\n",
       "       'Outdoor', 'Shirts', 'Shoes', 'Shorts', 'Skirts',\n",
       "       'Socks and Tights', 'Special Offers', 'Swimwear', 'Trousers',\n",
       "       'Trousers Denim', 'Under-, Nightwear', 'Unknown',\n",
       "       'Woven/Jersey/Knitted mix Baby'], dtype=object)"
      ]
     },
     "execution_count": 10,
     "metadata": {},
     "output_type": "execute_result"
    }
   ],
   "source": [
    "np.unique(articles [\"garment_group_name\"].values)"
   ]
  },
  {
   "cell_type": "code",
   "execution_count": 11,
   "id": "fd2d0a21",
   "metadata": {},
   "outputs": [
    {
     "data": {
      "text/plain": [
       "array(['Baby Boy', 'Baby Essentials & Complements', 'Baby Girl',\n",
       "       'Boys Underwear & Basics', 'Collaborations', 'Contemporary Casual',\n",
       "       'Contemporary Smart', 'Contemporary Street', 'Denim Men',\n",
       "       'Divided Accessories', 'Divided Asia keys', 'Divided Basics',\n",
       "       'Divided Collection', 'Divided Complements Other',\n",
       "       'Divided Projects', 'Divided Selected', 'EQ Divided',\n",
       "       'Girls Underwear & Basics', 'H&M+', 'Kids & Baby Shoes',\n",
       "       'Kids Accessories, Swimwear & D', 'Kids Boy', 'Kids Girl',\n",
       "       'Kids Local Relevance', 'Kids Outerwear', 'Kids Sports',\n",
       "       'Ladies Denim', 'Ladies H&M Sport', 'Ladies Other', 'Mama',\n",
       "       'Men Accessories', 'Men Edition', 'Men H&M Sport', 'Men Other',\n",
       "       'Men Other 2', 'Men Project', 'Men Shoes', 'Men Suits & Tailoring',\n",
       "       'Men Underwear', 'Mens Outerwear', 'Special Collections',\n",
       "       'Womens Big accessories', 'Womens Casual',\n",
       "       'Womens Everyday Basics', 'Womens Everyday Collection',\n",
       "       'Womens Jackets', 'Womens Lingerie',\n",
       "       'Womens Nightwear, Socks & Tigh', 'Womens Premium', 'Womens Shoes',\n",
       "       'Womens Small accessories', 'Womens Swimwear, beachwear',\n",
       "       'Womens Tailoring', 'Womens Trend', 'Young Boy', 'Young Girl'],\n",
       "      dtype=object)"
      ]
     },
     "execution_count": 11,
     "metadata": {},
     "output_type": "execute_result"
    }
   ],
   "source": [
    "np.unique(articles [\"section_name\"].values)"
   ]
  },
  {
   "cell_type": "code",
   "execution_count": 21,
   "id": "ed824e04",
   "metadata": {},
   "outputs": [
    {
     "data": {
      "text/html": [
       "<div>\n",
       "<style scoped>\n",
       "    .dataframe tbody tr th:only-of-type {\n",
       "        vertical-align: middle;\n",
       "    }\n",
       "\n",
       "    .dataframe tbody tr th {\n",
       "        vertical-align: top;\n",
       "    }\n",
       "\n",
       "    .dataframe thead th {\n",
       "        text-align: right;\n",
       "    }\n",
       "</style>\n",
       "<table border=\"1\" class=\"dataframe\">\n",
       "  <thead>\n",
       "    <tr style=\"text-align: right;\">\n",
       "      <th></th>\n",
       "      <th>t_dat</th>\n",
       "      <th>customer_id</th>\n",
       "      <th>article_id</th>\n",
       "      <th>price</th>\n",
       "      <th>sales_channel_id</th>\n",
       "    </tr>\n",
       "  </thead>\n",
       "  <tbody>\n",
       "    <tr>\n",
       "      <th>0</th>\n",
       "      <td>2018-09-20</td>\n",
       "      <td>000058a12d5b43e67d225668fa1f8d618c13dc232df0ca...</td>\n",
       "      <td>663713001</td>\n",
       "      <td>0.050831</td>\n",
       "      <td>2</td>\n",
       "    </tr>\n",
       "    <tr>\n",
       "      <th>1</th>\n",
       "      <td>2018-09-20</td>\n",
       "      <td>000058a12d5b43e67d225668fa1f8d618c13dc232df0ca...</td>\n",
       "      <td>541518023</td>\n",
       "      <td>0.030492</td>\n",
       "      <td>2</td>\n",
       "    </tr>\n",
       "    <tr>\n",
       "      <th>2</th>\n",
       "      <td>2018-09-20</td>\n",
       "      <td>00007d2de826758b65a93dd24ce629ed66842531df6699...</td>\n",
       "      <td>505221004</td>\n",
       "      <td>0.015237</td>\n",
       "      <td>2</td>\n",
       "    </tr>\n",
       "    <tr>\n",
       "      <th>3</th>\n",
       "      <td>2018-09-20</td>\n",
       "      <td>00007d2de826758b65a93dd24ce629ed66842531df6699...</td>\n",
       "      <td>685687003</td>\n",
       "      <td>0.016932</td>\n",
       "      <td>2</td>\n",
       "    </tr>\n",
       "    <tr>\n",
       "      <th>4</th>\n",
       "      <td>2018-09-20</td>\n",
       "      <td>00007d2de826758b65a93dd24ce629ed66842531df6699...</td>\n",
       "      <td>685687004</td>\n",
       "      <td>0.016932</td>\n",
       "      <td>2</td>\n",
       "    </tr>\n",
       "    <tr>\n",
       "      <th>...</th>\n",
       "      <td>...</td>\n",
       "      <td>...</td>\n",
       "      <td>...</td>\n",
       "      <td>...</td>\n",
       "      <td>...</td>\n",
       "    </tr>\n",
       "    <tr>\n",
       "      <th>31788319</th>\n",
       "      <td>2020-09-22</td>\n",
       "      <td>fff2282977442e327b45d8c89afde25617d00124d0f999...</td>\n",
       "      <td>929511001</td>\n",
       "      <td>0.059305</td>\n",
       "      <td>2</td>\n",
       "    </tr>\n",
       "    <tr>\n",
       "      <th>31788320</th>\n",
       "      <td>2020-09-22</td>\n",
       "      <td>fff2282977442e327b45d8c89afde25617d00124d0f999...</td>\n",
       "      <td>891322004</td>\n",
       "      <td>0.042356</td>\n",
       "      <td>2</td>\n",
       "    </tr>\n",
       "    <tr>\n",
       "      <th>31788321</th>\n",
       "      <td>2020-09-22</td>\n",
       "      <td>fff380805474b287b05cb2a7507b9a013482f7dd0bce0e...</td>\n",
       "      <td>918325001</td>\n",
       "      <td>0.043203</td>\n",
       "      <td>1</td>\n",
       "    </tr>\n",
       "    <tr>\n",
       "      <th>31788322</th>\n",
       "      <td>2020-09-22</td>\n",
       "      <td>fff4d3a8b1f3b60af93e78c30a7cb4cf75edaf2590d3e5...</td>\n",
       "      <td>833459002</td>\n",
       "      <td>0.006763</td>\n",
       "      <td>1</td>\n",
       "    </tr>\n",
       "    <tr>\n",
       "      <th>31788323</th>\n",
       "      <td>2020-09-22</td>\n",
       "      <td>fffef3b6b73545df065b521e19f64bf6fe93bfd450ab20...</td>\n",
       "      <td>898573003</td>\n",
       "      <td>0.033881</td>\n",
       "      <td>2</td>\n",
       "    </tr>\n",
       "  </tbody>\n",
       "</table>\n",
       "<p>31788324 rows × 5 columns</p>\n",
       "</div>"
      ],
      "text/plain": [
       "               t_dat                                        customer_id  \\\n",
       "0         2018-09-20  000058a12d5b43e67d225668fa1f8d618c13dc232df0ca...   \n",
       "1         2018-09-20  000058a12d5b43e67d225668fa1f8d618c13dc232df0ca...   \n",
       "2         2018-09-20  00007d2de826758b65a93dd24ce629ed66842531df6699...   \n",
       "3         2018-09-20  00007d2de826758b65a93dd24ce629ed66842531df6699...   \n",
       "4         2018-09-20  00007d2de826758b65a93dd24ce629ed66842531df6699...   \n",
       "...              ...                                                ...   \n",
       "31788319  2020-09-22  fff2282977442e327b45d8c89afde25617d00124d0f999...   \n",
       "31788320  2020-09-22  fff2282977442e327b45d8c89afde25617d00124d0f999...   \n",
       "31788321  2020-09-22  fff380805474b287b05cb2a7507b9a013482f7dd0bce0e...   \n",
       "31788322  2020-09-22  fff4d3a8b1f3b60af93e78c30a7cb4cf75edaf2590d3e5...   \n",
       "31788323  2020-09-22  fffef3b6b73545df065b521e19f64bf6fe93bfd450ab20...   \n",
       "\n",
       "          article_id     price  sales_channel_id  \n",
       "0          663713001  0.050831                 2  \n",
       "1          541518023  0.030492                 2  \n",
       "2          505221004  0.015237                 2  \n",
       "3          685687003  0.016932                 2  \n",
       "4          685687004  0.016932                 2  \n",
       "...              ...       ...               ...  \n",
       "31788319   929511001  0.059305                 2  \n",
       "31788320   891322004  0.042356                 2  \n",
       "31788321   918325001  0.043203                 1  \n",
       "31788322   833459002  0.006763                 1  \n",
       "31788323   898573003  0.033881                 2  \n",
       "\n",
       "[31788324 rows x 5 columns]"
      ]
     },
     "execution_count": 21,
     "metadata": {},
     "output_type": "execute_result"
    }
   ],
   "source": [
    "df"
   ]
  },
  {
   "cell_type": "code",
   "execution_count": 22,
   "id": "6a0d9a48",
   "metadata": {},
   "outputs": [
    {
     "ename": "NameError",
     "evalue": "name 'cust' is not defined",
     "output_type": "error",
     "traceback": [
      "\u001b[1;31m---------------------------------------------------------------------------\u001b[0m",
      "\u001b[1;31mNameError\u001b[0m                                 Traceback (most recent call last)",
      "\u001b[1;32mC:\\Users\\STAGIA~1\\AppData\\Local\\Temp/ipykernel_13344/1831702315.py\u001b[0m in \u001b[0;36m<module>\u001b[1;34m\u001b[0m\n\u001b[0;32m      1\u001b[0m \u001b[0mfig\u001b[0m\u001b[1;33m,\u001b[0m \u001b[0max\u001b[0m \u001b[1;33m=\u001b[0m \u001b[0mplt\u001b[0m\u001b[1;33m.\u001b[0m\u001b[0msubplots\u001b[0m\u001b[1;33m(\u001b[0m\u001b[0mfigsize\u001b[0m\u001b[1;33m=\u001b[0m\u001b[1;33m(\u001b[0m\u001b[1;36m10\u001b[0m\u001b[1;33m,\u001b[0m\u001b[1;36m5\u001b[0m\u001b[1;33m)\u001b[0m\u001b[1;33m)\u001b[0m\u001b[1;33m\u001b[0m\u001b[1;33m\u001b[0m\u001b[0m\n\u001b[1;32m----> 2\u001b[1;33m \u001b[0max\u001b[0m \u001b[1;33m=\u001b[0m \u001b[0msns\u001b[0m\u001b[1;33m.\u001b[0m\u001b[0mhistplot\u001b[0m\u001b[1;33m(\u001b[0m\u001b[0mdata\u001b[0m\u001b[1;33m=\u001b[0m\u001b[0mcust\u001b[0m\u001b[1;33m,\u001b[0m \u001b[0mx\u001b[0m\u001b[1;33m=\u001b[0m\u001b[1;34m'age'\u001b[0m\u001b[1;33m,\u001b[0m \u001b[0mbins\u001b[0m\u001b[1;33m=\u001b[0m\u001b[0mcust\u001b[0m\u001b[1;33m[\u001b[0m\u001b[1;34m'age'\u001b[0m\u001b[1;33m]\u001b[0m\u001b[1;33m.\u001b[0m\u001b[0mnunique\u001b[0m\u001b[1;33m(\u001b[0m\u001b[1;33m)\u001b[0m\u001b[1;33m,\u001b[0m \u001b[0mcolor\u001b[0m\u001b[1;33m=\u001b[0m\u001b[1;34m'orange'\u001b[0m\u001b[1;33m,\u001b[0m \u001b[0mstat\u001b[0m\u001b[1;33m=\u001b[0m\u001b[1;34m\"percent\"\u001b[0m\u001b[1;33m)\u001b[0m\u001b[1;33m\u001b[0m\u001b[1;33m\u001b[0m\u001b[0m\n\u001b[0m\u001b[0;32m      3\u001b[0m \u001b[0max\u001b[0m\u001b[1;33m.\u001b[0m\u001b[0mset_xlabel\u001b[0m\u001b[1;33m(\u001b[0m\u001b[1;34m'Distribution of the customers age'\u001b[0m\u001b[1;33m)\u001b[0m\u001b[1;33m\u001b[0m\u001b[1;33m\u001b[0m\u001b[0m\n\u001b[0;32m      4\u001b[0m \u001b[1;32mfor\u001b[0m \u001b[0mloc\u001b[0m \u001b[1;32min\u001b[0m \u001b[1;33m[\u001b[0m\u001b[1;34m'bottom'\u001b[0m\u001b[1;33m,\u001b[0m \u001b[1;34m'left'\u001b[0m\u001b[1;33m]\u001b[0m\u001b[1;33m:\u001b[0m\u001b[1;33m\u001b[0m\u001b[1;33m\u001b[0m\u001b[0m\n\u001b[0;32m      5\u001b[0m     \u001b[0max\u001b[0m\u001b[1;33m.\u001b[0m\u001b[0mspines\u001b[0m\u001b[1;33m[\u001b[0m\u001b[0mloc\u001b[0m\u001b[1;33m]\u001b[0m\u001b[1;33m.\u001b[0m\u001b[0mset_visible\u001b[0m\u001b[1;33m(\u001b[0m\u001b[1;32mTrue\u001b[0m\u001b[1;33m)\u001b[0m\u001b[1;33m\u001b[0m\u001b[1;33m\u001b[0m\u001b[0m\n",
      "\u001b[1;31mNameError\u001b[0m: name 'cust' is not defined"
     ]
    },
    {
     "data": {
      "image/png": "[encoded data removed]",
      "text/plain": [
       "<Figure size 720x360 with 1 Axes>"
      ]
     },
     "metadata": {
      "needs_background": "light"
     },
     "output_type": "display_data"
    }
   ],
   "source": [
    "fig, ax = plt.subplots(figsize=(10,5))\n",
    "ax = sns.histplot(data=cust, x='age', bins=cust['age'].nunique(), color='orange', stat=\"percent\")\n",
    "ax.set_xlabel('Distribution of the customers age')\n",
    "for loc in ['bottom', 'left']:\n",
    "    ax.spines[loc].set_visible(True)\n",
    "    ax.spines[loc].set_linewidth(2)\n",
    "    ax.spines[loc].set_color('black')\n",
    "ax.yaxis.set_major_formatter(mtick.PercentFormatter())\n",
    "median = cust['age'].median()\n",
    "ax.axvline(x=median, color=\"green\", ls=\"--\")\n",
    "ax.text(median, 3.5, 'median: {}'.format(round(median,1)), rotation='vertical', ha='right')\n",
    "ax.text(12, 5.5, 'Distribution of customers age', color='black', fontsize=10, ha='left', va='bottom', weight='bold', style='italic')\n",
    "plt.show()"
   ]
  },
  {
   "cell_type": "code",
   "execution_count": 6,
   "id": "9033c2fa",
   "metadata": {},
   "outputs": [
    {
     "data": {
      "text/plain": [
       "array([-1,  1,  2,  3,  4,  5,  6,  7], dtype=int64)"
      ]
     },
     "execution_count": 6,
     "metadata": {},
     "output_type": "execute_result"
    }
   ],
   "source": [
    "np.unique(articles [\"perceived_colour_value_id\"].values)"
   ]
  },
  {
   "cell_type": "code",
   "execution_count": 14,
   "id": "06dde605",
   "metadata": {},
   "outputs": [
    {
     "data": {
      "text/plain": [
       "array(['AK Bottoms', 'AK Dresses & Outdoor', 'AK Other',\n",
       "       'AK Tops Jersey & Woven', 'AK Tops Knitwear', 'Accessories',\n",
       "       'Accessories Boys', 'Accessories Other', 'Asia Assortment',\n",
       "       'Baby Boy Jersey Fancy', 'Baby Boy Knitwear',\n",
       "       'Baby Boy Local Relevance', 'Baby Boy Outdoor', 'Baby Boy Woven',\n",
       "       'Baby Exclusive', 'Baby Girl Jersey Fancy', 'Baby Girl Knitwear',\n",
       "       'Baby Girl Local Relevance', 'Baby Girl Outdoor',\n",
       "       'Baby Girl Woven', 'Baby Nightwear', 'Baby Shoes', 'Baby Socks',\n",
       "       'Baby Toys/Acc', 'Baby basics', 'Bags', 'Bags & Items', 'Basic 1',\n",
       "       'Basics', 'Belts', 'Blanks', 'Blazer', 'Blazer S&T', 'Blouse',\n",
       "       'Blouse & Dress', 'Boots', 'Bottoms', 'Bottoms Boys',\n",
       "       'Bottoms Girls', 'Boys Local Relevance', 'Boys Small Acc & Bags',\n",
       "       'Campaigns', 'Casual Lingerie', 'Clean Lingerie',\n",
       "       'Conscious Exclusive', 'Denim Other Garments', 'Denim Trousers',\n",
       "       'Denim shorts', 'Denim trousers',\n",
       "       'Denim wardrobe H&M man inactive from S.6', 'Divided Shoes',\n",
       "       'Divided Swimwear', 'Divided+', 'Divided+ inactive from s.1',\n",
       "       'Dress', 'Dress-up Boys', 'Dresses', 'Dresses DS',\n",
       "       'EQ & Special Collections', 'EQ Divided Basics', 'EQ Divided Blue',\n",
       "       'EQ H&M Man', 'EQ Ladies Denim', 'Equatorial',\n",
       "       'Equatorial Assortment', 'Everyday Waredrobe Denim',\n",
       "       'Expressive Lingerie', 'Flats', 'Functional Lingerie',\n",
       "       'Girls Local Relevance', 'Girls Projects', 'Girls Small Acc/Bags',\n",
       "       'Gloves/Hats', 'Hair Accessories', 'Heavy Basic Jersey', 'Heels',\n",
       "       'Jacket', 'Jacket Casual', 'Jacket Smart', 'Jacket Street',\n",
       "       'Jackets', 'Jersey', 'Jersey Basic', 'Jersey Fancy',\n",
       "       'Jersey Fancy DS', 'Jersey License', 'Jersey Occasion',\n",
       "       'Jersey fancy', 'Jersey inactive from S.6',\n",
       "       'Jersey inactive from s1', 'Jersey/Knitwear Premium', 'Jewellery',\n",
       "       'Jewellery Extended', 'Kids Boy Big Acc', 'Kids Boy Denim',\n",
       "       'Kids Boy Exclusive', 'Kids Boy Jersey Basic',\n",
       "       'Kids Boy Jersey Fancy', 'Kids Boy Knitwear', 'Kids Boy License',\n",
       "       'Kids Boy Outdoor', 'Kids Boy Shirt', 'Kids Boy Shoes',\n",
       "       'Kids Boy Shorts', 'Kids Boy Socks', 'Kids Boy Swimwear',\n",
       "       'Kids Boy Trouser', 'Kids Boy UW/NW', 'Kids Dress-up/Football',\n",
       "       'Kids Girl Big Acc', 'Kids Girl Denim', 'Kids Girl Dresses',\n",
       "       'Kids Girl Exclusive', 'Kids Girl Jersey Basic',\n",
       "       'Kids Girl Jersey Fancy', 'Kids Girl Knitwear',\n",
       "       'Kids Girl License', 'Kids Girl Outdoor', 'Kids Girl S&T',\n",
       "       'Kids Girl Shoes', 'Kids Girl Swimwear', 'Kids Girl Trouser',\n",
       "       'Kids Girl UW/NW', 'Knit & Woven', 'Knitwear', 'Knitwear Basic',\n",
       "       'Knitwear inactive from s1', 'Ladies Sport Acc',\n",
       "       'Ladies Sport Bottoms', 'Ladies Sport Bras', 'Ladies Sport Woven',\n",
       "       'License', 'Light Basic Jersey', 'Limited Edition',\n",
       "       'Local relevance', 'Loungewear', 'Mama Lingerie', 'Men Sport Acc',\n",
       "       'Men Sport Bottoms', 'Men Sport Tops', 'Men Sport Woven',\n",
       "       'Newborn', 'Nightwear', 'Nursing', 'OL Extended Sizes',\n",
       "       'On Demand', 'Other Accessories', 'Other items',\n",
       "       'Outdoor inactive from s1', 'Outdoor/Blazers',\n",
       "       'Outdoor/Blazers DS', 'Outwear', 'Outwear & Blazers',\n",
       "       'Premium Quality', 'Price Items', 'Projects', 'Projects Dresses',\n",
       "       'Projects Jersey & Knitwear', 'Projects Woven Bottoms',\n",
       "       'Projects Woven Tops', 'Promotion / Other / Offer',\n",
       "       'Promotion/ Other /Offer', 'Promotion/Other/Offer', 'Read & React',\n",
       "       'Scarves', 'Shirt', 'Shirt Extended inactive from s1', 'Shirt S&T',\n",
       "       'Shoes', 'Shoes / Boots inactive from s5', 'Shoes Other',\n",
       "       'Shopbasket Lingerie', 'Shopbasket Socks', 'Shorts',\n",
       "       'Shorts & Skirts', 'Shorts DS', 'Skirt', 'Skirts', 'Skirts DS',\n",
       "       'Small Acc. Jewellery & Other', 'Small Accessories',\n",
       "       'Small Accessories Extended', 'Small Bags', 'Sneakers',\n",
       "       'Sneakers big girl inactive from s2',\n",
       "       'Sneakers small girl inactive from s2', 'Socks', 'Socks Bin',\n",
       "       'Socks Wall', 'Special Collection', 'Studio Collection', 'Suit',\n",
       "       'Suit Extended inactive from s1', 'Suit jacket', 'Sunglasses',\n",
       "       'Swimwear', 'Take Care External', 'Take care', 'Test Ladies',\n",
       "       'Tights basic', 'Tops & Bottoms Other', 'Tops Boys',\n",
       "       'Tops Fancy Jersey', 'Tops Girls', 'Tops Knitwear',\n",
       "       'Tops Knitwear DS', 'Tops Woven', 'Tops woven DS', 'Trouser',\n",
       "       'Trouser S&T', 'Trousers', 'Trousers & Skirt', 'Trousers DS', 'UW',\n",
       "       'Underwear Jersey', 'Underwear Jersey Fancy inactive from s1',\n",
       "       'Underwear Woven', 'Woven', 'Woven Occasion', 'Woven Premium',\n",
       "       'Woven Tops', 'Woven bottoms', 'Woven bottoms inactive from S.7',\n",
       "       'Woven inactive from s1', 'Woven top', 'Young Boy Big Acc',\n",
       "       'Young Boy Denim', 'Young Boy Jersey Basic',\n",
       "       'Young Boy Jersey Fancy', 'Young Boy Knitwear',\n",
       "       'Young Boy Outdoor', 'Young Boy Shirt', 'Young Boy Shoes',\n",
       "       'Young Boy Shorts', 'Young Boy Socks', 'Young Boy Trouser',\n",
       "       'Young Boy UW/NW', 'Young Girl Big Acc', 'Young Girl Denim',\n",
       "       'Young Girl Dresses', 'Young Girl Jersey Basic',\n",
       "       'Young Girl Jersey Fancy', 'Young Girl Knitwear',\n",
       "       'Young Girl Outdoor', 'Young Girl S&T', 'Young Girl Shoes',\n",
       "       'Young Girl Swimwear', 'Young Girl Trouser', 'Young Girl UW/NW',\n",
       "       'Young boy Swimwear'], dtype=object)"
      ]
     },
     "execution_count": 14,
     "metadata": {},
     "output_type": "execute_result"
    }
   ],
   "source": [
    "np.unique(articles [\"department_name\"].values)"
   ]
  },
  {
   "cell_type": "code",
   "execution_count": 15,
   "id": "e766cba4",
   "metadata": {},
   "outputs": [
    {
     "data": {
      "text/plain": [
       "array(['Beige', 'Black', 'Blue', 'Bronze/Copper', 'Dark Beige',\n",
       "       'Dark Blue', 'Dark Green', 'Dark Grey', 'Dark Orange', 'Dark Pink',\n",
       "       'Dark Purple', 'Dark Red', 'Dark Turquoise', 'Dark Yellow', 'Gold',\n",
       "       'Green', 'Greenish Khaki', 'Grey', 'Greyish Beige', 'Light Beige',\n",
       "       'Light Blue', 'Light Green', 'Light Grey', 'Light Orange',\n",
       "       'Light Pink', 'Light Purple', 'Light Red', 'Light Turquoise',\n",
       "       'Light Yellow', 'Off White', 'Orange', 'Other', 'Other Blue',\n",
       "       'Other Green', 'Other Orange', 'Other Pink', 'Other Purple',\n",
       "       'Other Red', 'Other Turquoise', 'Other Yellow', 'Pink', 'Purple',\n",
       "       'Red', 'Silver', 'Transparent', 'Turquoise', 'Unknown', 'White',\n",
       "       'Yellow', 'Yellowish Brown'], dtype=object)"
      ]
     },
     "execution_count": 15,
     "metadata": {},
     "output_type": "execute_result"
    }
   ],
   "source": [
    "np.unique(articles [\"colour_group_name\"].values)"
   ]
  },
  {
   "cell_type": "code",
   "execution_count": 16,
   "id": "c6f6dd46",
   "metadata": {},
   "outputs": [
    {
     "data": {
      "text/plain": [
       "array(['All over pattern', 'Application/3D', 'Argyle', 'Chambray',\n",
       "       'Check', 'Colour blocking', 'Contrast', 'Denim', 'Dot',\n",
       "       'Embroidery', 'Front print', 'Glittering/Metallic', 'Hologram',\n",
       "       'Jacquard', 'Lace', 'Melange', 'Mesh', 'Metallic',\n",
       "       'Mixed solid/pattern', 'Neps', 'Other pattern', 'Other structure',\n",
       "       'Placement print', 'Sequin', 'Slub', 'Solid', 'Stripe',\n",
       "       'Transparent', 'Treatment', 'Unknown'], dtype=object)"
      ]
     },
     "execution_count": 16,
     "metadata": {},
     "output_type": "execute_result"
    }
   ],
   "source": [
    "np.unique(articles [\"graphical_appearance_name\"].values)"
   ]
  },
  {
   "cell_type": "code",
   "execution_count": 17,
   "id": "2caa7870",
   "metadata": {},
   "outputs": [
    {
     "data": {
      "text/plain": [
       "array(['Accessories', 'Bags', 'Cosmetic', 'Fun', 'Furniture',\n",
       "       'Garment Full body', 'Garment Lower body', 'Garment Upper body',\n",
       "       'Garment and Shoe care', 'Interior textile', 'Items', 'Nightwear',\n",
       "       'Shoes', 'Socks & Tights', 'Stationery', 'Swimwear', 'Underwear',\n",
       "       'Underwear/nightwear', 'Unknown'], dtype=object)"
      ]
     },
     "execution_count": 17,
     "metadata": {},
     "output_type": "execute_result"
    }
   ],
   "source": [
    "np.unique(articles [\"product_group_name\"].values)"
   ]
  },
  {
   "cell_type": "code",
   "execution_count": 18,
   "id": "32b6a688",
   "metadata": {},
   "outputs": [
    {
     "data": {
      "text/plain": [
       "array(['Accessories set', 'Alice band', 'Baby Bib', 'Backpack', 'Bag',\n",
       "       'Ballerinas', 'Beanie', 'Belt', 'Bikini top', 'Blanket', 'Blazer',\n",
       "       'Blouse', 'Bodysuit', 'Bootie', 'Boots', 'Bra', 'Bra extender',\n",
       "       'Bracelet', 'Braces', 'Bucket hat', 'Bumbag', 'Cap', 'Cap/peaked',\n",
       "       'Cardigan', 'Chem. cosmetics', 'Clothing mist', 'Coat', 'Costumes',\n",
       "       'Cross-body bag', 'Cushion', 'Dog Wear', 'Dog wear', 'Dress',\n",
       "       'Dungarees', 'Earring', 'Earrings', 'Eyeglasses', 'Felt hat',\n",
       "       'Fine cosmetics', 'Flat shoe', 'Flat shoes', 'Flip flop',\n",
       "       'Garment Set', 'Giftbox', 'Gloves', 'Hair clip', 'Hair string',\n",
       "       'Hair ties', 'Hair/alice band', 'Hairband', 'Hat/beanie',\n",
       "       'Hat/brim', 'Headband', 'Heeled sandals', 'Heels', 'Hoodie',\n",
       "       'Jacket', 'Jumpsuit/Playsuit', 'Keychain', 'Kids Underwear top',\n",
       "       'Leg warmers', 'Leggings/Tights', 'Long John', 'Marker pen',\n",
       "       'Mobile case', 'Moccasins', 'Necklace', 'Night gown',\n",
       "       'Nipple covers', 'Other accessories', 'Other shoe',\n",
       "       'Outdoor Waistcoat', 'Outdoor overall', 'Outdoor trousers',\n",
       "       'Polo shirt', 'Pre-walkers', 'Pumps', 'Pyjama bottom',\n",
       "       'Pyjama jumpsuit/playsuit', 'Pyjama set', 'Ring', 'Robe',\n",
       "       'Sandals', 'Sarong', 'Scarf', 'Sewing kit', 'Shirt', 'Shorts',\n",
       "       'Shoulder bag', 'Side table', 'Skirt', 'Sleep Bag',\n",
       "       'Sleeping sack', 'Slippers', 'Sneakers', 'Socks', 'Soft Toys',\n",
       "       'Stain remover spray', 'Straw hat', 'Sunglasses', 'Sweater',\n",
       "       'Swimsuit', 'Swimwear bottom', 'Swimwear set', 'Swimwear top',\n",
       "       'T-shirt', 'Tailored Waistcoat', 'Tie', 'Top', 'Tote bag', 'Towel',\n",
       "       'Toy', 'Trousers', 'Umbrella', 'Underdress', 'Underwear Tights',\n",
       "       'Underwear body', 'Underwear bottom', 'Underwear corset',\n",
       "       'Underwear set', 'Unknown', 'Vest top', 'Wallet', 'Washing bag',\n",
       "       'Watch', 'Waterbottle', 'Wedge', 'Weekend/Gym bag',\n",
       "       'Wireless earphone case', 'Wood balls', 'Zipper head'],\n",
       "      dtype=object)"
      ]
     },
     "execution_count": 18,
     "metadata": {},
     "output_type": "execute_result"
    }
   ],
   "source": [
    "np.unique(articles [\"product_type_name\"].values)"
   ]
  },
  {
   "cell_type": "code",
   "execution_count": 19,
   "id": "058453bd",
   "metadata": {},
   "outputs": [
    {
     "data": {
      "text/plain": [
       "array(['Baby Sizes 50-98', 'Children Accessories, Swimwear',\n",
       "       'Children Sizes 134-170', 'Children Sizes 92-140', 'Divided',\n",
       "       'Ladies Accessories', 'Ladieswear', 'Lingeries/Tights', 'Menswear',\n",
       "       'Sport'], dtype=object)"
      ]
     },
     "execution_count": 19,
     "metadata": {},
     "output_type": "execute_result"
    }
   ],
   "source": [
    "np.unique(articles [\"index_name\"].values)"
   ]
  },
  {
   "cell_type": "code",
   "execution_count": 20,
   "id": "8daff6b4",
   "metadata": {},
   "outputs": [
    {
     "data": {
      "image/png": "[encoded data removed]",
      "text/plain": [
       "<Figure size 576x432 with 1 Axes>"
      ]
     },
     "metadata": {
      "needs_background": "light"
     },
     "output_type": "display_data"
    }
   ],
   "source": [
    "temp = articles.groupby([\"index_group_name\"])[\"article_id\"].nunique()\n",
    "df = pd.DataFrame({'Index Name': temp.index,\n",
    "                   'Articles': temp.values\n",
    "                  })\n",
    "df = df.sort_values(['Articles'], ascending=False)\n",
    "df[\"pourcentage\"]=(df[\"Articles\"] / df[\"Articles\"].sum())*100\n",
    "plt.figure(figsize = (8,6))\n",
    "plt.title(f\"Pourcentage en nombre d'articles pour chaque catégorie\" ,fontsize = 12)\n",
    "sns.set_color_codes(\"pastel\")\n",
    "s = sns.barplot(x = 'Index Name', y=\"pourcentage\", data=df)\n",
    "show_values(s, space=0.05)\n",
    "s.set_xticklabels(s.get_xticklabels(),rotation=90, fontsize = 12)\n",
    "locs, labels = plt.xticks()\n",
    "plt.xlabel(\"Catégorie\", fontsize = 12)\n",
    "plt.ylabel(\"Pourcentage\", fontsize = 12)\n",
    "plt.show()"
   ]
  },
  {
   "cell_type": "code",
   "execution_count": 21,
   "id": "880d4b3b",
   "metadata": {},
   "outputs": [
    {
     "data": {
      "text/html": [
       "<div>\n",
       "<style scoped>\n",
       "    .dataframe tbody tr th:only-of-type {\n",
       "        vertical-align: middle;\n",
       "    }\n",
       "\n",
       "    .dataframe tbody tr th {\n",
       "        vertical-align: top;\n",
       "    }\n",
       "\n",
       "    .dataframe thead th {\n",
       "        text-align: right;\n",
       "    }\n",
       "</style>\n",
       "<table border=\"1\" class=\"dataframe\">\n",
       "  <thead>\n",
       "    <tr style=\"text-align: right;\">\n",
       "      <th></th>\n",
       "      <th>Index Name</th>\n",
       "      <th>Articles</th>\n",
       "      <th>pourcentage</th>\n",
       "    </tr>\n",
       "  </thead>\n",
       "  <tbody>\n",
       "    <tr>\n",
       "      <th>2</th>\n",
       "      <td>Ladieswear</td>\n",
       "      <td>39737</td>\n",
       "      <td>37.650414</td>\n",
       "    </tr>\n",
       "    <tr>\n",
       "      <th>0</th>\n",
       "      <td>Baby/Children</td>\n",
       "      <td>34711</td>\n",
       "      <td>32.888329</td>\n",
       "    </tr>\n",
       "    <tr>\n",
       "      <th>1</th>\n",
       "      <td>Divided</td>\n",
       "      <td>15149</td>\n",
       "      <td>14.353528</td>\n",
       "    </tr>\n",
       "    <tr>\n",
       "      <th>3</th>\n",
       "      <td>Menswear</td>\n",
       "      <td>12553</td>\n",
       "      <td>11.893843</td>\n",
       "    </tr>\n",
       "    <tr>\n",
       "      <th>4</th>\n",
       "      <td>Sport</td>\n",
       "      <td>3392</td>\n",
       "      <td>3.213886</td>\n",
       "    </tr>\n",
       "  </tbody>\n",
       "</table>\n",
       "</div>"
      ],
      "text/plain": [
       "      Index Name  Articles  pourcentage\n",
       "2     Ladieswear     39737    37.650414\n",
       "0  Baby/Children     34711    32.888329\n",
       "1        Divided     15149    14.353528\n",
       "3       Menswear     12553    11.893843\n",
       "4          Sport      3392     3.213886"
      ]
     },
     "execution_count": 21,
     "metadata": {},
     "output_type": "execute_result"
    }
   ],
   "source": [
    "df"
   ]
  },
  {
   "cell_type": "code",
   "execution_count": 22,
   "id": "d2beca46",
   "metadata": {},
   "outputs": [
    {
     "data": {
      "image/png": "[encoded data removed]",
      "text/plain": [
       "<Figure size 1080x720 with 1 Axes>"
      ]
     },
     "metadata": {
      "needs_background": "light"
     },
     "output_type": "display_data"
    }
   ],
   "source": [
    "temp = articles.groupby([\"product_group_name\"])[\"article_id\"].nunique()\n",
    "df = pd.DataFrame({'Product Group': temp.index,\n",
    "                   'Articles': temp.values\n",
    "                  })\n",
    "df = df.sort_values(['Articles'], ascending=False)\n",
    "df[\"pourcentage\"]=(df[\"Articles\"] / df[\"Articles\"].sum())*100\n",
    "df = df.drop([18, 17, 2,1,10,4,8,14,9,3])\n",
    "plt.figure(figsize = (15,10))\n",
    "plt.title('Pourcentage en nombre articles pour les groupes de produits',fontsize = 12)\n",
    "sns.set_color_codes(\"pastel\")\n",
    "s = sns.barplot(x = 'Product Group', y=\"pourcentage\", data=df)\n",
    "s.set_xticklabels(s.get_xticklabels(),rotation=90)\n",
    "show_values(s, space=0.05)\n",
    "locs, labels = plt.xticks()\n",
    "plt.xlabel(\"Groupes de produits\", fontsize = 12)\n",
    "plt.ylabel(\"Pourcentage\", fontsize = 12)\n",
    "plt.show()"
   ]
  },
  {
   "cell_type": "code",
   "execution_count": 23,
   "id": "781bdb7e",
   "metadata": {},
   "outputs": [
    {
     "data": {
      "text/html": [
       "<div>\n",
       "<style scoped>\n",
       "    .dataframe tbody tr th:only-of-type {\n",
       "        vertical-align: middle;\n",
       "    }\n",
       "\n",
       "    .dataframe tbody tr th {\n",
       "        vertical-align: top;\n",
       "    }\n",
       "\n",
       "    .dataframe thead th {\n",
       "        text-align: right;\n",
       "    }\n",
       "</style>\n",
       "<table border=\"1\" class=\"dataframe\">\n",
       "  <thead>\n",
       "    <tr style=\"text-align: right;\">\n",
       "      <th></th>\n",
       "      <th>Product Group</th>\n",
       "      <th>Articles</th>\n",
       "      <th>pourcentage</th>\n",
       "    </tr>\n",
       "  </thead>\n",
       "  <tbody>\n",
       "    <tr>\n",
       "      <th>7</th>\n",
       "      <td>Garment Upper body</td>\n",
       "      <td>42741</td>\n",
       "      <td>40.496674</td>\n",
       "    </tr>\n",
       "    <tr>\n",
       "      <th>6</th>\n",
       "      <td>Garment Lower body</td>\n",
       "      <td>19812</td>\n",
       "      <td>18.771674</td>\n",
       "    </tr>\n",
       "    <tr>\n",
       "      <th>5</th>\n",
       "      <td>Garment Full body</td>\n",
       "      <td>13292</td>\n",
       "      <td>12.594038</td>\n",
       "    </tr>\n",
       "    <tr>\n",
       "      <th>0</th>\n",
       "      <td>Accessories</td>\n",
       "      <td>11158</td>\n",
       "      <td>10.572095</td>\n",
       "    </tr>\n",
       "    <tr>\n",
       "      <th>16</th>\n",
       "      <td>Underwear</td>\n",
       "      <td>5490</td>\n",
       "      <td>5.201721</td>\n",
       "    </tr>\n",
       "    <tr>\n",
       "      <th>12</th>\n",
       "      <td>Shoes</td>\n",
       "      <td>5283</td>\n",
       "      <td>5.005590</td>\n",
       "    </tr>\n",
       "    <tr>\n",
       "      <th>15</th>\n",
       "      <td>Swimwear</td>\n",
       "      <td>3127</td>\n",
       "      <td>2.962802</td>\n",
       "    </tr>\n",
       "    <tr>\n",
       "      <th>13</th>\n",
       "      <td>Socks &amp; Tights</td>\n",
       "      <td>2442</td>\n",
       "      <td>2.313771</td>\n",
       "    </tr>\n",
       "    <tr>\n",
       "      <th>11</th>\n",
       "      <td>Nightwear</td>\n",
       "      <td>1899</td>\n",
       "      <td>1.799284</td>\n",
       "    </tr>\n",
       "  </tbody>\n",
       "</table>\n",
       "</div>"
      ],
      "text/plain": [
       "         Product Group  Articles  pourcentage\n",
       "7   Garment Upper body     42741    40.496674\n",
       "6   Garment Lower body     19812    18.771674\n",
       "5    Garment Full body     13292    12.594038\n",
       "0          Accessories     11158    10.572095\n",
       "16           Underwear      5490     5.201721\n",
       "12               Shoes      5283     5.005590\n",
       "15            Swimwear      3127     2.962802\n",
       "13      Socks & Tights      2442     2.313771\n",
       "11           Nightwear      1899     1.799284"
      ]
     },
     "execution_count": 23,
     "metadata": {},
     "output_type": "execute_result"
    }
   ],
   "source": [
    "df"
   ]
  },
  {
   "cell_type": "code",
   "execution_count": 24,
   "id": "7fb32f05",
   "metadata": {},
   "outputs": [],
   "source": [
    "temp = articles.groupby([\"index_group_name\"])[\"product_type_name\"].nunique()"
   ]
  },
  {
   "cell_type": "code",
   "execution_count": 25,
   "id": "71493aeb",
   "metadata": {},
   "outputs": [],
   "source": [
    "pv= pd.pivot_table(articles, index= \"index_group_name\",values=\"article_id\",aggfunc=\"count\") \n",
    "\n",
    "pv = pv.sort_values(['article_id'], ascending=False)"
   ]
  },
  {
   "cell_type": "code",
   "execution_count": 26,
   "id": "bf57e725",
   "metadata": {},
   "outputs": [
    {
     "data": {
      "text/html": [
       "<div>\n",
       "<style scoped>\n",
       "    .dataframe tbody tr th:only-of-type {\n",
       "        vertical-align: middle;\n",
       "    }\n",
       "\n",
       "    .dataframe tbody tr th {\n",
       "        vertical-align: top;\n",
       "    }\n",
       "\n",
       "    .dataframe thead th {\n",
       "        text-align: right;\n",
       "    }\n",
       "</style>\n",
       "<table border=\"1\" class=\"dataframe\">\n",
       "  <thead>\n",
       "    <tr style=\"text-align: right;\">\n",
       "      <th></th>\n",
       "      <th>article_id</th>\n",
       "    </tr>\n",
       "    <tr>\n",
       "      <th>index_group_name</th>\n",
       "      <th></th>\n",
       "    </tr>\n",
       "  </thead>\n",
       "  <tbody>\n",
       "    <tr>\n",
       "      <th>Ladieswear</th>\n",
       "      <td>39737</td>\n",
       "    </tr>\n",
       "    <tr>\n",
       "      <th>Baby/Children</th>\n",
       "      <td>34711</td>\n",
       "    </tr>\n",
       "    <tr>\n",
       "      <th>Divided</th>\n",
       "      <td>15149</td>\n",
       "    </tr>\n",
       "    <tr>\n",
       "      <th>Menswear</th>\n",
       "      <td>12553</td>\n",
       "    </tr>\n",
       "    <tr>\n",
       "      <th>Sport</th>\n",
       "      <td>3392</td>\n",
       "    </tr>\n",
       "  </tbody>\n",
       "</table>\n",
       "</div>"
      ],
      "text/plain": [
       "                  article_id\n",
       "index_group_name            \n",
       "Ladieswear             39737\n",
       "Baby/Children          34711\n",
       "Divided                15149\n",
       "Menswear               12553\n",
       "Sport                   3392"
      ]
     },
     "execution_count": 26,
     "metadata": {},
     "output_type": "execute_result"
    }
   ],
   "source": [
    "pv"
   ]
  },
  {
   "cell_type": "code",
   "execution_count": 27,
   "id": "c8511b72",
   "metadata": {},
   "outputs": [
    {
     "data": {
      "text/html": [
       "<div>\n",
       "<style scoped>\n",
       "    .dataframe tbody tr th:only-of-type {\n",
       "        vertical-align: middle;\n",
       "    }\n",
       "\n",
       "    .dataframe tbody tr th {\n",
       "        vertical-align: top;\n",
       "    }\n",
       "\n",
       "    .dataframe thead th {\n",
       "        text-align: right;\n",
       "    }\n",
       "</style>\n",
       "<table border=\"1\" class=\"dataframe\">\n",
       "  <thead>\n",
       "    <tr style=\"text-align: right;\">\n",
       "      <th>product_group_name</th>\n",
       "      <th>Accessories</th>\n",
       "      <th>Bags</th>\n",
       "      <th>Cosmetic</th>\n",
       "      <th>Fun</th>\n",
       "      <th>Furniture</th>\n",
       "      <th>Garment Full body</th>\n",
       "      <th>Garment Lower body</th>\n",
       "      <th>Garment Upper body</th>\n",
       "      <th>Garment and Shoe care</th>\n",
       "      <th>Interior textile</th>\n",
       "      <th>Items</th>\n",
       "      <th>Nightwear</th>\n",
       "      <th>Shoes</th>\n",
       "      <th>Socks &amp; Tights</th>\n",
       "      <th>Stationery</th>\n",
       "      <th>Swimwear</th>\n",
       "      <th>Underwear</th>\n",
       "      <th>Underwear/nightwear</th>\n",
       "      <th>Unknown</th>\n",
       "    </tr>\n",
       "    <tr>\n",
       "      <th>index_group_name</th>\n",
       "      <th></th>\n",
       "      <th></th>\n",
       "      <th></th>\n",
       "      <th></th>\n",
       "      <th></th>\n",
       "      <th></th>\n",
       "      <th></th>\n",
       "      <th></th>\n",
       "      <th></th>\n",
       "      <th></th>\n",
       "      <th></th>\n",
       "      <th></th>\n",
       "      <th></th>\n",
       "      <th></th>\n",
       "      <th></th>\n",
       "      <th></th>\n",
       "      <th></th>\n",
       "      <th></th>\n",
       "      <th></th>\n",
       "    </tr>\n",
       "  </thead>\n",
       "  <tbody>\n",
       "    <tr>\n",
       "      <th>Baby/Children</th>\n",
       "      <td>2927</td>\n",
       "      <td>2</td>\n",
       "      <td>49</td>\n",
       "      <td>2</td>\n",
       "      <td>0</td>\n",
       "      <td>4823</td>\n",
       "      <td>7371</td>\n",
       "      <td>13178</td>\n",
       "      <td>0</td>\n",
       "      <td>3</td>\n",
       "      <td>0</td>\n",
       "      <td>1119</td>\n",
       "      <td>2239</td>\n",
       "      <td>1266</td>\n",
       "      <td>0</td>\n",
       "      <td>818</td>\n",
       "      <td>851</td>\n",
       "      <td>54</td>\n",
       "      <td>9</td>\n",
       "    </tr>\n",
       "    <tr>\n",
       "      <th>Divided</th>\n",
       "      <td>1463</td>\n",
       "      <td>15</td>\n",
       "      <td>0</td>\n",
       "      <td>0</td>\n",
       "      <td>0</td>\n",
       "      <td>2825</td>\n",
       "      <td>3182</td>\n",
       "      <td>6999</td>\n",
       "      <td>0</td>\n",
       "      <td>0</td>\n",
       "      <td>0</td>\n",
       "      <td>0</td>\n",
       "      <td>277</td>\n",
       "      <td>93</td>\n",
       "      <td>0</td>\n",
       "      <td>76</td>\n",
       "      <td>202</td>\n",
       "      <td>0</td>\n",
       "      <td>17</td>\n",
       "    </tr>\n",
       "    <tr>\n",
       "      <th>Ladieswear</th>\n",
       "      <td>5211</td>\n",
       "      <td>1</td>\n",
       "      <td>0</td>\n",
       "      <td>0</td>\n",
       "      <td>13</td>\n",
       "      <td>5601</td>\n",
       "      <td>5742</td>\n",
       "      <td>14110</td>\n",
       "      <td>9</td>\n",
       "      <td>0</td>\n",
       "      <td>16</td>\n",
       "      <td>663</td>\n",
       "      <td>2093</td>\n",
       "      <td>578</td>\n",
       "      <td>5</td>\n",
       "      <td>1912</td>\n",
       "      <td>3727</td>\n",
       "      <td>0</td>\n",
       "      <td>56</td>\n",
       "    </tr>\n",
       "    <tr>\n",
       "      <th>Menswear</th>\n",
       "      <td>1392</td>\n",
       "      <td>7</td>\n",
       "      <td>0</td>\n",
       "      <td>0</td>\n",
       "      <td>0</td>\n",
       "      <td>11</td>\n",
       "      <td>2464</td>\n",
       "      <td>6855</td>\n",
       "      <td>0</td>\n",
       "      <td>0</td>\n",
       "      <td>1</td>\n",
       "      <td>117</td>\n",
       "      <td>672</td>\n",
       "      <td>362</td>\n",
       "      <td>0</td>\n",
       "      <td>245</td>\n",
       "      <td>399</td>\n",
       "      <td>0</td>\n",
       "      <td>28</td>\n",
       "    </tr>\n",
       "    <tr>\n",
       "      <th>Sport</th>\n",
       "      <td>165</td>\n",
       "      <td>0</td>\n",
       "      <td>0</td>\n",
       "      <td>0</td>\n",
       "      <td>0</td>\n",
       "      <td>32</td>\n",
       "      <td>1053</td>\n",
       "      <td>1599</td>\n",
       "      <td>0</td>\n",
       "      <td>0</td>\n",
       "      <td>0</td>\n",
       "      <td>0</td>\n",
       "      <td>2</td>\n",
       "      <td>143</td>\n",
       "      <td>0</td>\n",
       "      <td>76</td>\n",
       "      <td>311</td>\n",
       "      <td>0</td>\n",
       "      <td>11</td>\n",
       "    </tr>\n",
       "  </tbody>\n",
       "</table>\n",
       "</div>"
      ],
      "text/plain": [
       "product_group_name  Accessories  Bags  Cosmetic  Fun  Furniture  \\\n",
       "index_group_name                                                  \n",
       "Baby/Children              2927     2        49    2          0   \n",
       "Divided                    1463    15         0    0          0   \n",
       "Ladieswear                 5211     1         0    0         13   \n",
       "Menswear                   1392     7         0    0          0   \n",
       "Sport                       165     0         0    0          0   \n",
       "\n",
       "product_group_name  Garment Full body  Garment Lower body  Garment Upper body  \\\n",
       "index_group_name                                                                \n",
       "Baby/Children                    4823                7371               13178   \n",
       "Divided                          2825                3182                6999   \n",
       "Ladieswear                       5601                5742               14110   \n",
       "Menswear                           11                2464                6855   \n",
       "Sport                              32                1053                1599   \n",
       "\n",
       "product_group_name  Garment and Shoe care  Interior textile  Items  Nightwear  \\\n",
       "index_group_name                                                                \n",
       "Baby/Children                           0                 3      0       1119   \n",
       "Divided                                 0                 0      0          0   \n",
       "Ladieswear                              9                 0     16        663   \n",
       "Menswear                                0                 0      1        117   \n",
       "Sport                                   0                 0      0          0   \n",
       "\n",
       "product_group_name  Shoes  Socks & Tights  Stationery  Swimwear  Underwear  \\\n",
       "index_group_name                                                             \n",
       "Baby/Children        2239            1266           0       818        851   \n",
       "Divided               277              93           0        76        202   \n",
       "Ladieswear           2093             578           5      1912       3727   \n",
       "Menswear              672             362           0       245        399   \n",
       "Sport                   2             143           0        76        311   \n",
       "\n",
       "product_group_name  Underwear/nightwear  Unknown  \n",
       "index_group_name                                  \n",
       "Baby/Children                        54        9  \n",
       "Divided                               0       17  \n",
       "Ladieswear                            0       56  \n",
       "Menswear                              0       28  \n",
       "Sport                                 0       11  "
      ]
     },
     "execution_count": 27,
     "metadata": {},
     "output_type": "execute_result"
    }
   ],
   "source": [
    "pv= pd.pivot_table(articles, index= \"index_group_name\",values=\"article_id\",aggfunc=\"count\",columns= \"product_group_name\",fill_value=0) \n",
    "pv"
   ]
  },
  {
   "cell_type": "code",
   "execution_count": 28,
   "id": "6af4ba35",
   "metadata": {},
   "outputs": [],
   "source": [
    "k=pv.iloc[2].sort_values( ascending=False)"
   ]
  },
  {
   "cell_type": "code",
   "execution_count": 29,
   "id": "4f830f44",
   "metadata": {},
   "outputs": [
    {
     "data": {
      "text/plain": [
       "product_group_name\n",
       "Garment Upper body       14110\n",
       "Garment Lower body        5742\n",
       "Garment Full body         5601\n",
       "Accessories               5211\n",
       "Underwear                 3727\n",
       "Shoes                     2093\n",
       "Swimwear                  1912\n",
       "Nightwear                  663\n",
       "Socks & Tights             578\n",
       "Unknown                     56\n",
       "Items                       16\n",
       "Furniture                   13\n",
       "Garment and Shoe care        9\n",
       "Stationery                   5\n",
       "Bags                         1\n",
       "Fun                          0\n",
       "Cosmetic                     0\n",
       "Underwear/nightwear          0\n",
       "Interior textile             0\n",
       "Name: Ladieswear, dtype: int64"
      ]
     },
     "execution_count": 29,
     "metadata": {},
     "output_type": "execute_result"
    }
   ],
   "source": [
    "k"
   ]
  },
  {
   "cell_type": "code",
   "execution_count": 30,
   "id": "d697e0b4",
   "metadata": {},
   "outputs": [
    {
     "data": {
      "image/png": "[encoded data removed]",
      "text/plain": [
       "<Figure size 1080x504 with 1 Axes>"
      ]
     },
     "metadata": {
      "needs_background": "light"
     },
     "output_type": "display_data"
    }
   ],
   "source": [
    "f, ax = plt.subplots(figsize=(15, 7))\n",
    "ax = sns.histplot(data=articles, y='index_group_name', hue='product_group_name', multiple=\"stack\")\n",
    "ax.set_xlabel('count by garment group')\n",
    "ax.set_ylabel('garment group')\n",
    "plt.show()"
   ]
  },
  {
   "cell_type": "code",
   "execution_count": 66,
   "id": "36b93124",
   "metadata": {},
   "outputs": [
    {
     "data": {
      "text/plain": [
       "<Figure size 1080x720 with 0 Axes>"
      ]
     },
     "execution_count": 66,
     "metadata": {},
     "output_type": "execute_result"
    },
    {
     "data": {
      "image/png": "[encoded data removed]",
      "text/plain": [
       "<Figure size 432x288 with 1 Axes>"
      ]
     },
     "metadata": {
      "needs_background": "light"
     },
     "output_type": "display_data"
    },
    {
     "data": {
      "text/plain": [
       "<Figure size 1080x720 with 0 Axes>"
      ]
     },
     "metadata": {},
     "output_type": "display_data"
    }
   ],
   "source": [
    "x = users.age.values\n",
    "plt.hist(x, range = (0, 99), bins = 10, color = 'Orange',\n",
    "            edgecolor = 'Blue')\n",
    "plt.xlabel('Age des clients')\n",
    "plt.ylabel('Distribution des âges')\n",
    "plt.title('Histogramme de la distribution des âges')\n",
    "plt.grid(True)\n",
    "plt.figure(figsize = (15,10))\n"
   ]
  },
  {
   "cell_type": "code",
   "execution_count": 68,
   "id": "5a4dd3f0",
   "metadata": {},
   "outputs": [
    {
     "data": {
      "text/plain": [
       "array([49., 25., 24., ..., 21., 18., 65.])"
      ]
     },
     "execution_count": 68,
     "metadata": {},
     "output_type": "execute_result"
    }
   ],
   "source": [
    "x = users.age.values\n",
    "x"
   ]
  },
  {
   "cell_type": "code",
   "execution_count": 72,
   "id": "9da04d61",
   "metadata": {},
   "outputs": [],
   "source": [
    "C=pd.DataFrame(x, columns =['ZZ'])\n",
    "C.to_csv(\"Histogramme.csv\")"
   ]
  },
  {
   "cell_type": "code",
   "execution_count": 32,
   "id": "70bde439",
   "metadata": {},
   "outputs": [],
   "source": [
    "cust_backup = users.copy()\n",
    "users[['FN','Active']] = users[['FN','Active']].fillna(0)"
   ]
  },
  {
   "cell_type": "code",
   "execution_count": 33,
   "id": "6964763a",
   "metadata": {},
   "outputs": [
    {
     "data": {
      "image/png": "[encoded data removed]",
      "text/plain": [
       "<Figure size 360x360 with 1 Axes>"
      ]
     },
     "metadata": {},
     "output_type": "display_data"
    }
   ],
   "source": [
    "fig, ax = plt.subplots(figsize=(5,5))\n",
    "explode = (0, 0.1)\n",
    "colors = sns.color_palette('Paired')\n",
    "ax.pie(users['FN'].value_counts(), explode=explode, labels=['Not-FN','FN'],\n",
    "       autopct='%1.1f%%',shadow=True, startangle=90, colors=colors)\n",
    "ax.axis('equal')\n",
    "plt.show()"
   ]
  },
  {
   "cell_type": "code",
   "execution_count": 34,
   "id": "6dc57375",
   "metadata": {},
   "outputs": [
    {
     "data": {
      "image/png": "[encoded data removed]",
      "text/plain": [
       "<Figure size 360x360 with 1 Axes>"
      ]
     },
     "metadata": {},
     "output_type": "display_data"
    }
   ],
   "source": [
    "fig, ax = plt.subplots(figsize=(5,5))\n",
    "explode = (0, 0.1)\n",
    "colors = sns.color_palette('Paired')\n",
    "ax.pie(users['Active'].value_counts(), explode=explode, labels=['Not-active','Active'],\n",
    "       autopct='%1.1f%%',shadow=True, startangle=90, colors=colors)\n",
    "ax.axis('equal')\n",
    "plt.show()"
   ]
  },
  {
   "cell_type": "code",
   "execution_count": 35,
   "id": "2f083b05",
   "metadata": {},
   "outputs": [
    {
     "data": {
      "text/html": [
       "<div>\n",
       "<style scoped>\n",
       "    .dataframe tbody tr th:only-of-type {\n",
       "        vertical-align: middle;\n",
       "    }\n",
       "\n",
       "    .dataframe tbody tr th {\n",
       "        vertical-align: top;\n",
       "    }\n",
       "\n",
       "    .dataframe thead th {\n",
       "        text-align: right;\n",
       "    }\n",
       "</style>\n",
       "<table border=\"1\" class=\"dataframe\">\n",
       "  <thead>\n",
       "    <tr style=\"text-align: right;\">\n",
       "      <th></th>\n",
       "      <th>customer_id</th>\n",
       "      <th>FN</th>\n",
       "      <th>Active</th>\n",
       "      <th>club_member_status</th>\n",
       "      <th>fashion_news_frequency</th>\n",
       "      <th>age</th>\n",
       "      <th>postal_code</th>\n",
       "    </tr>\n",
       "  </thead>\n",
       "  <tbody>\n",
       "    <tr>\n",
       "      <th>0</th>\n",
       "      <td>00000dbacae5abe5e23885899a1fa44253a17956c6d1c3...</td>\n",
       "      <td>0.0</td>\n",
       "      <td>0.0</td>\n",
       "      <td>ACTIVE</td>\n",
       "      <td>NONE</td>\n",
       "      <td>49.0</td>\n",
       "      <td>52043ee2162cf5aa7ee79974281641c6f11a68d276429a...</td>\n",
       "    </tr>\n",
       "    <tr>\n",
       "      <th>1</th>\n",
       "      <td>0000423b00ade91418cceaf3b26c6af3dd342b51fd051e...</td>\n",
       "      <td>0.0</td>\n",
       "      <td>0.0</td>\n",
       "      <td>ACTIVE</td>\n",
       "      <td>NONE</td>\n",
       "      <td>25.0</td>\n",
       "      <td>2973abc54daa8a5f8ccfe9362140c63247c5eee03f1d93...</td>\n",
       "    </tr>\n",
       "    <tr>\n",
       "      <th>2</th>\n",
       "      <td>000058a12d5b43e67d225668fa1f8d618c13dc232df0ca...</td>\n",
       "      <td>0.0</td>\n",
       "      <td>0.0</td>\n",
       "      <td>ACTIVE</td>\n",
       "      <td>NONE</td>\n",
       "      <td>24.0</td>\n",
       "      <td>64f17e6a330a85798e4998f62d0930d14db8db1c054af6...</td>\n",
       "    </tr>\n",
       "    <tr>\n",
       "      <th>3</th>\n",
       "      <td>00005ca1c9ed5f5146b52ac8639a40ca9d57aeff4d1bd2...</td>\n",
       "      <td>0.0</td>\n",
       "      <td>0.0</td>\n",
       "      <td>ACTIVE</td>\n",
       "      <td>NONE</td>\n",
       "      <td>54.0</td>\n",
       "      <td>5d36574f52495e81f019b680c843c443bd343d5ca5b1c2...</td>\n",
       "    </tr>\n",
       "    <tr>\n",
       "      <th>4</th>\n",
       "      <td>00006413d8573cd20ed7128e53b7b13819fe5cfc2d801f...</td>\n",
       "      <td>1.0</td>\n",
       "      <td>1.0</td>\n",
       "      <td>ACTIVE</td>\n",
       "      <td>Regularly</td>\n",
       "      <td>52.0</td>\n",
       "      <td>25fa5ddee9aac01b35208d01736e57942317d756b32ddd...</td>\n",
       "    </tr>\n",
       "    <tr>\n",
       "      <th>...</th>\n",
       "      <td>...</td>\n",
       "      <td>...</td>\n",
       "      <td>...</td>\n",
       "      <td>...</td>\n",
       "      <td>...</td>\n",
       "      <td>...</td>\n",
       "      <td>...</td>\n",
       "    </tr>\n",
       "    <tr>\n",
       "      <th>1371975</th>\n",
       "      <td>ffffbbf78b6eaac697a8a5dfbfd2bfa8113ee5b403e474...</td>\n",
       "      <td>0.0</td>\n",
       "      <td>0.0</td>\n",
       "      <td>ACTIVE</td>\n",
       "      <td>NONE</td>\n",
       "      <td>24.0</td>\n",
       "      <td>7aa399f7e669990daba2d92c577b52237380662f36480b...</td>\n",
       "    </tr>\n",
       "    <tr>\n",
       "      <th>1371976</th>\n",
       "      <td>ffffcd5046a6143d29a04fb8c424ce494a76e5cdf4fab5...</td>\n",
       "      <td>0.0</td>\n",
       "      <td>0.0</td>\n",
       "      <td>ACTIVE</td>\n",
       "      <td>NONE</td>\n",
       "      <td>21.0</td>\n",
       "      <td>3f47f1279beb72215f4de557d950e0bfa73789d24acb5e...</td>\n",
       "    </tr>\n",
       "    <tr>\n",
       "      <th>1371977</th>\n",
       "      <td>ffffcf35913a0bee60e8741cb2b4e78b8a98ee5ff2e6a1...</td>\n",
       "      <td>1.0</td>\n",
       "      <td>1.0</td>\n",
       "      <td>ACTIVE</td>\n",
       "      <td>Regularly</td>\n",
       "      <td>21.0</td>\n",
       "      <td>4563fc79215672cd6a863f2b4bf56b8f898f2d96ed590e...</td>\n",
       "    </tr>\n",
       "    <tr>\n",
       "      <th>1371978</th>\n",
       "      <td>ffffd7744cebcf3aca44ae7049d2a94b87074c3d4ffe38...</td>\n",
       "      <td>1.0</td>\n",
       "      <td>1.0</td>\n",
       "      <td>ACTIVE</td>\n",
       "      <td>Regularly</td>\n",
       "      <td>18.0</td>\n",
       "      <td>8892c18e9bc3dca6aa4000cb8094fc4b51ee8db2ed14d7...</td>\n",
       "    </tr>\n",
       "    <tr>\n",
       "      <th>1371979</th>\n",
       "      <td>ffffd9ac14e89946416d80e791d064701994755c3ab686...</td>\n",
       "      <td>0.0</td>\n",
       "      <td>0.0</td>\n",
       "      <td>PRE-CREATE</td>\n",
       "      <td>NONE</td>\n",
       "      <td>65.0</td>\n",
       "      <td>0a1a03306fb2f62164c2a439b38c0caa64b40deaae8687...</td>\n",
       "    </tr>\n",
       "  </tbody>\n",
       "</table>\n",
       "<p>1371980 rows × 7 columns</p>\n",
       "</div>"
      ],
      "text/plain": [
       "                                               customer_id   FN  Active  \\\n",
       "0        00000dbacae5abe5e23885899a1fa44253a17956c6d1c3...  0.0     0.0   \n",
       "1        0000423b00ade91418cceaf3b26c6af3dd342b51fd051e...  0.0     0.0   \n",
       "2        000058a12d5b43e67d225668fa1f8d618c13dc232df0ca...  0.0     0.0   \n",
       "3        00005ca1c9ed5f5146b52ac8639a40ca9d57aeff4d1bd2...  0.0     0.0   \n",
       "4        00006413d8573cd20ed7128e53b7b13819fe5cfc2d801f...  1.0     1.0   \n",
       "...                                                    ...  ...     ...   \n",
       "1371975  ffffbbf78b6eaac697a8a5dfbfd2bfa8113ee5b403e474...  0.0     0.0   \n",
       "1371976  ffffcd5046a6143d29a04fb8c424ce494a76e5cdf4fab5...  0.0     0.0   \n",
       "1371977  ffffcf35913a0bee60e8741cb2b4e78b8a98ee5ff2e6a1...  1.0     1.0   \n",
       "1371978  ffffd7744cebcf3aca44ae7049d2a94b87074c3d4ffe38...  1.0     1.0   \n",
       "1371979  ffffd9ac14e89946416d80e791d064701994755c3ab686...  0.0     0.0   \n",
       "\n",
       "        club_member_status fashion_news_frequency   age  \\\n",
       "0                   ACTIVE                   NONE  49.0   \n",
       "1                   ACTIVE                   NONE  25.0   \n",
       "2                   ACTIVE                   NONE  24.0   \n",
       "3                   ACTIVE                   NONE  54.0   \n",
       "4                   ACTIVE              Regularly  52.0   \n",
       "...                    ...                    ...   ...   \n",
       "1371975             ACTIVE                   NONE  24.0   \n",
       "1371976             ACTIVE                   NONE  21.0   \n",
       "1371977             ACTIVE              Regularly  21.0   \n",
       "1371978             ACTIVE              Regularly  18.0   \n",
       "1371979         PRE-CREATE                   NONE  65.0   \n",
       "\n",
       "                                               postal_code  \n",
       "0        52043ee2162cf5aa7ee79974281641c6f11a68d276429a...  \n",
       "1        2973abc54daa8a5f8ccfe9362140c63247c5eee03f1d93...  \n",
       "2        64f17e6a330a85798e4998f62d0930d14db8db1c054af6...  \n",
       "3        5d36574f52495e81f019b680c843c443bd343d5ca5b1c2...  \n",
       "4        25fa5ddee9aac01b35208d01736e57942317d756b32ddd...  \n",
       "...                                                    ...  \n",
       "1371975  7aa399f7e669990daba2d92c577b52237380662f36480b...  \n",
       "1371976  3f47f1279beb72215f4de557d950e0bfa73789d24acb5e...  \n",
       "1371977  4563fc79215672cd6a863f2b4bf56b8f898f2d96ed590e...  \n",
       "1371978  8892c18e9bc3dca6aa4000cb8094fc4b51ee8db2ed14d7...  \n",
       "1371979  0a1a03306fb2f62164c2a439b38c0caa64b40deaae8687...  \n",
       "\n",
       "[1371980 rows x 7 columns]"
      ]
     },
     "execution_count": 35,
     "metadata": {},
     "output_type": "execute_result"
    }
   ],
   "source": [
    "users"
   ]
  },
  {
   "cell_type": "code",
   "execution_count": 41,
   "id": "340be003",
   "metadata": {},
   "outputs": [
    {
     "data": {
      "image/png": "[encoded data removed]",
      "text/plain": [
       "<Figure size 936x360 with 1 Axes>"
      ]
     },
     "metadata": {},
     "output_type": "display_data"
    }
   ],
   "source": [
    "users['fashion_news_frequency'] = users['fashion_news_frequency'].fillna('N/A')\n",
    "plot_bar(users, 'fashion_news_frequency', pct=True, label='customers')"
   ]
  },
  {
   "cell_type": "code",
   "execution_count": 57,
   "id": "a941d951",
   "metadata": {},
   "outputs": [],
   "source": [
    "import matplotlib.ticker as mtick\n",
    "\n",
    "def plot_bar(database, col, figsize=(13,5), pct=False, label='articles'):\n",
    "    fig, ax = plt.subplots(figsize=figsize, facecolor='#f6f6f6')\n",
    "    for loc in ['bottom', 'left']:\n",
    "        ax.spines[loc].set_visible(True)\n",
    "        ax.spines[loc].set_linewidth(2)\n",
    "        ax.spines[loc].set_color('black')\n",
    "    ax.spines['right'].set_visible(False)\n",
    "    ax.spines['top'].set_visible(False)\n",
    "    \n",
    "    if pct:\n",
    "        data = database[col].value_counts()\n",
    "        data = data.div(data.sum()).mul(100)\n",
    "        data = data.reset_index()\n",
    "        ax = sns.barplot(data=data, x=col, y='index', color='#2693d7', lw=1.5, ec='black', zorder=2)\n",
    "        ax.set_xlabel('% of ' + label, fontsize=10, weight='bold')\n",
    "        ax.xaxis.set_major_formatter(mtick.PercentFormatter())\n",
    "    else:\n",
    "        data = database[col].value_counts().reset_index()\n",
    "        ax = sns.barplot(data=data, x=col, y='index', color='#2693d7', lw=1.5, ec='black', zorder=2)        \n",
    "        ax.set_xlabel('# of articles' + label)\n",
    "        \n",
    "    ax.grid(zorder=0)\n",
    "    ax.text(0, -0.75, col, color='black', fontsize=10, ha='left', va='bottom', weight='bold', style='italic')\n",
    "    ax.set_ylabel('')\n",
    "        \n",
    "    plt.show()\n"
   ]
  },
  {
   "cell_type": "code",
   "execution_count": 58,
   "id": "8854412a",
   "metadata": {},
   "outputs": [
    {
     "ename": "KeyError",
     "evalue": "'price'",
     "output_type": "error",
     "traceback": [
      "\u001b[1;31m---------------------------------------------------------------------------\u001b[0m",
      "\u001b[1;31mKeyError\u001b[0m                                  Traceback (most recent call last)",
      "\u001b[1;32m~\\anaconda3\\lib\\site-packages\\pandas\\core\\indexes\\base.py\u001b[0m in \u001b[0;36mget_loc\u001b[1;34m(self, key, method, tolerance)\u001b[0m\n\u001b[0;32m   3360\u001b[0m             \u001b[1;32mtry\u001b[0m\u001b[1;33m:\u001b[0m\u001b[1;33m\u001b[0m\u001b[1;33m\u001b[0m\u001b[0m\n\u001b[1;32m-> 3361\u001b[1;33m                 \u001b[1;32mreturn\u001b[0m \u001b[0mself\u001b[0m\u001b[1;33m.\u001b[0m\u001b[0m_engine\u001b[0m\u001b[1;33m.\u001b[0m\u001b[0mget_loc\u001b[0m\u001b[1;33m(\u001b[0m\u001b[0mcasted_key\u001b[0m\u001b[1;33m)\u001b[0m\u001b[1;33m\u001b[0m\u001b[1;33m\u001b[0m\u001b[0m\n\u001b[0m\u001b[0;32m   3362\u001b[0m             \u001b[1;32mexcept\u001b[0m \u001b[0mKeyError\u001b[0m \u001b[1;32mas\u001b[0m \u001b[0merr\u001b[0m\u001b[1;33m:\u001b[0m\u001b[1;33m\u001b[0m\u001b[1;33m\u001b[0m\u001b[0m\n",
      "\u001b[1;32m~\\anaconda3\\lib\\site-packages\\pandas\\_libs\\index.pyx\u001b[0m in \u001b[0;36mpandas._libs.index.IndexEngine.get_loc\u001b[1;34m()\u001b[0m\n",
      "\u001b[1;32m~\\anaconda3\\lib\\site-packages\\pandas\\_libs\\index.pyx\u001b[0m in \u001b[0;36mpandas._libs.index.IndexEngine.get_loc\u001b[1;34m()\u001b[0m\n",
      "\u001b[1;32mpandas\\_libs\\hashtable_class_helper.pxi\u001b[0m in \u001b[0;36mpandas._libs.hashtable.PyObjectHashTable.get_item\u001b[1;34m()\u001b[0m\n",
      "\u001b[1;32mpandas\\_libs\\hashtable_class_helper.pxi\u001b[0m in \u001b[0;36mpandas._libs.hashtable.PyObjectHashTable.get_item\u001b[1;34m()\u001b[0m\n",
      "\u001b[1;31mKeyError\u001b[0m: 'price'",
      "\nThe above exception was the direct cause of the following exception:\n",
      "\u001b[1;31mKeyError\u001b[0m                                  Traceback (most recent call last)",
      "\u001b[1;32mC:\\Users\\STAGIA~1\\AppData\\Local\\Temp/ipykernel_4036/3162013359.py\u001b[0m in \u001b[0;36m<module>\u001b[1;34m\u001b[0m\n\u001b[1;32m----> 1\u001b[1;33m \u001b[0mmax\u001b[0m\u001b[1;33m(\u001b[0m\u001b[0mdf\u001b[0m\u001b[1;33m[\u001b[0m\u001b[1;34m\"price\"\u001b[0m\u001b[1;33m]\u001b[0m\u001b[1;33m)\u001b[0m\u001b[1;33m\u001b[0m\u001b[1;33m\u001b[0m\u001b[0m\n\u001b[0m",
      "\u001b[1;32m~\\anaconda3\\lib\\site-packages\\pandas\\core\\frame.py\u001b[0m in \u001b[0;36m__getitem__\u001b[1;34m(self, key)\u001b[0m\n\u001b[0;32m   3456\u001b[0m             \u001b[1;32mif\u001b[0m \u001b[0mself\u001b[0m\u001b[1;33m.\u001b[0m\u001b[0mcolumns\u001b[0m\u001b[1;33m.\u001b[0m\u001b[0mnlevels\u001b[0m \u001b[1;33m>\u001b[0m \u001b[1;36m1\u001b[0m\u001b[1;33m:\u001b[0m\u001b[1;33m\u001b[0m\u001b[1;33m\u001b[0m\u001b[0m\n\u001b[0;32m   3457\u001b[0m                 \u001b[1;32mreturn\u001b[0m \u001b[0mself\u001b[0m\u001b[1;33m.\u001b[0m\u001b[0m_getitem_multilevel\u001b[0m\u001b[1;33m(\u001b[0m\u001b[0mkey\u001b[0m\u001b[1;33m)\u001b[0m\u001b[1;33m\u001b[0m\u001b[1;33m\u001b[0m\u001b[0m\n\u001b[1;32m-> 3458\u001b[1;33m             \u001b[0mindexer\u001b[0m \u001b[1;33m=\u001b[0m \u001b[0mself\u001b[0m\u001b[1;33m.\u001b[0m\u001b[0mcolumns\u001b[0m\u001b[1;33m.\u001b[0m\u001b[0mget_loc\u001b[0m\u001b[1;33m(\u001b[0m\u001b[0mkey\u001b[0m\u001b[1;33m)\u001b[0m\u001b[1;33m\u001b[0m\u001b[1;33m\u001b[0m\u001b[0m\n\u001b[0m\u001b[0;32m   3459\u001b[0m             \u001b[1;32mif\u001b[0m \u001b[0mis_integer\u001b[0m\u001b[1;33m(\u001b[0m\u001b[0mindexer\u001b[0m\u001b[1;33m)\u001b[0m\u001b[1;33m:\u001b[0m\u001b[1;33m\u001b[0m\u001b[1;33m\u001b[0m\u001b[0m\n\u001b[0;32m   3460\u001b[0m                 \u001b[0mindexer\u001b[0m \u001b[1;33m=\u001b[0m \u001b[1;33m[\u001b[0m\u001b[0mindexer\u001b[0m\u001b[1;33m]\u001b[0m\u001b[1;33m\u001b[0m\u001b[1;33m\u001b[0m\u001b[0m\n",
      "\u001b[1;32m~\\anaconda3\\lib\\site-packages\\pandas\\core\\indexes\\base.py\u001b[0m in \u001b[0;36mget_loc\u001b[1;34m(self, key, method, tolerance)\u001b[0m\n\u001b[0;32m   3361\u001b[0m                 \u001b[1;32mreturn\u001b[0m \u001b[0mself\u001b[0m\u001b[1;33m.\u001b[0m\u001b[0m_engine\u001b[0m\u001b[1;33m.\u001b[0m\u001b[0mget_loc\u001b[0m\u001b[1;33m(\u001b[0m\u001b[0mcasted_key\u001b[0m\u001b[1;33m)\u001b[0m\u001b[1;33m\u001b[0m\u001b[1;33m\u001b[0m\u001b[0m\n\u001b[0;32m   3362\u001b[0m             \u001b[1;32mexcept\u001b[0m \u001b[0mKeyError\u001b[0m \u001b[1;32mas\u001b[0m \u001b[0merr\u001b[0m\u001b[1;33m:\u001b[0m\u001b[1;33m\u001b[0m\u001b[1;33m\u001b[0m\u001b[0m\n\u001b[1;32m-> 3363\u001b[1;33m                 \u001b[1;32mraise\u001b[0m \u001b[0mKeyError\u001b[0m\u001b[1;33m(\u001b[0m\u001b[0mkey\u001b[0m\u001b[1;33m)\u001b[0m \u001b[1;32mfrom\u001b[0m \u001b[0merr\u001b[0m\u001b[1;33m\u001b[0m\u001b[1;33m\u001b[0m\u001b[0m\n\u001b[0m\u001b[0;32m   3364\u001b[0m \u001b[1;33m\u001b[0m\u001b[0m\n\u001b[0;32m   3365\u001b[0m         \u001b[1;32mif\u001b[0m \u001b[0mis_scalar\u001b[0m\u001b[1;33m(\u001b[0m\u001b[0mkey\u001b[0m\u001b[1;33m)\u001b[0m \u001b[1;32mand\u001b[0m \u001b[0misna\u001b[0m\u001b[1;33m(\u001b[0m\u001b[0mkey\u001b[0m\u001b[1;33m)\u001b[0m \u001b[1;32mand\u001b[0m \u001b[1;32mnot\u001b[0m \u001b[0mself\u001b[0m\u001b[1;33m.\u001b[0m\u001b[0mhasnans\u001b[0m\u001b[1;33m:\u001b[0m\u001b[1;33m\u001b[0m\u001b[1;33m\u001b[0m\u001b[0m\n",
      "\u001b[1;31mKeyError\u001b[0m: 'price'"
     ]
    }
   ],
   "source": [
    "max(df[\"price\"])"
   ]
  },
  {
   "cell_type": "code",
   "execution_count": 60,
   "id": "17828b2c",
   "metadata": {},
   "outputs": [
    {
     "ename": "KeyError",
     "evalue": "'article_id'",
     "output_type": "error",
     "traceback": [
      "\u001b[1;31m---------------------------------------------------------------------------\u001b[0m",
      "\u001b[1;31mKeyError\u001b[0m                                  Traceback (most recent call last)",
      "\u001b[1;32m<timed exec>\u001b[0m in \u001b[0;36m<module>\u001b[1;34m\u001b[0m\n",
      "\u001b[1;32m~\\anaconda3\\lib\\site-packages\\pandas\\core\\reshape\\merge.py\u001b[0m in \u001b[0;36mmerge\u001b[1;34m(left, right, how, on, left_on, right_on, left_index, right_index, sort, suffixes, copy, indicator, validate)\u001b[0m\n\u001b[0;32m    104\u001b[0m     \u001b[0mvalidate\u001b[0m\u001b[1;33m:\u001b[0m \u001b[0mstr\u001b[0m \u001b[1;33m|\u001b[0m \u001b[1;32mNone\u001b[0m \u001b[1;33m=\u001b[0m \u001b[1;32mNone\u001b[0m\u001b[1;33m,\u001b[0m\u001b[1;33m\u001b[0m\u001b[1;33m\u001b[0m\u001b[0m\n\u001b[0;32m    105\u001b[0m ) -> DataFrame:\n\u001b[1;32m--> 106\u001b[1;33m     op = _MergeOperation(\n\u001b[0m\u001b[0;32m    107\u001b[0m         \u001b[0mleft\u001b[0m\u001b[1;33m,\u001b[0m\u001b[1;33m\u001b[0m\u001b[1;33m\u001b[0m\u001b[0m\n\u001b[0;32m    108\u001b[0m         \u001b[0mright\u001b[0m\u001b[1;33m,\u001b[0m\u001b[1;33m\u001b[0m\u001b[1;33m\u001b[0m\u001b[0m\n",
      "\u001b[1;32m~\\anaconda3\\lib\\site-packages\\pandas\\core\\reshape\\merge.py\u001b[0m in \u001b[0;36m__init__\u001b[1;34m(self, left, right, how, on, left_on, right_on, axis, left_index, right_index, sort, suffixes, copy, indicator, validate)\u001b[0m\n\u001b[0;32m    697\u001b[0m             \u001b[0mself\u001b[0m\u001b[1;33m.\u001b[0m\u001b[0mright_join_keys\u001b[0m\u001b[1;33m,\u001b[0m\u001b[1;33m\u001b[0m\u001b[1;33m\u001b[0m\u001b[0m\n\u001b[0;32m    698\u001b[0m             \u001b[0mself\u001b[0m\u001b[1;33m.\u001b[0m\u001b[0mjoin_names\u001b[0m\u001b[1;33m,\u001b[0m\u001b[1;33m\u001b[0m\u001b[1;33m\u001b[0m\u001b[0m\n\u001b[1;32m--> 699\u001b[1;33m         ) = self._get_merge_keys()\n\u001b[0m\u001b[0;32m    700\u001b[0m \u001b[1;33m\u001b[0m\u001b[0m\n\u001b[0;32m    701\u001b[0m         \u001b[1;31m# validate the merge keys dtypes. We may need to coerce\u001b[0m\u001b[1;33m\u001b[0m\u001b[1;33m\u001b[0m\u001b[0m\n",
      "\u001b[1;32m~\\anaconda3\\lib\\site-packages\\pandas\\core\\reshape\\merge.py\u001b[0m in \u001b[0;36m_get_merge_keys\u001b[1;34m(self)\u001b[0m\n\u001b[0;32m   1107\u001b[0m                         \u001b[0mright_keys\u001b[0m\u001b[1;33m.\u001b[0m\u001b[0mappend\u001b[0m\u001b[1;33m(\u001b[0m\u001b[0mrk\u001b[0m\u001b[1;33m)\u001b[0m\u001b[1;33m\u001b[0m\u001b[1;33m\u001b[0m\u001b[0m\n\u001b[0;32m   1108\u001b[0m                     \u001b[1;32mif\u001b[0m \u001b[0mlk\u001b[0m \u001b[1;32mis\u001b[0m \u001b[1;32mnot\u001b[0m \u001b[1;32mNone\u001b[0m\u001b[1;33m:\u001b[0m\u001b[1;33m\u001b[0m\u001b[1;33m\u001b[0m\u001b[0m\n\u001b[1;32m-> 1109\u001b[1;33m                         \u001b[0mleft_keys\u001b[0m\u001b[1;33m.\u001b[0m\u001b[0mappend\u001b[0m\u001b[1;33m(\u001b[0m\u001b[0mleft\u001b[0m\u001b[1;33m.\u001b[0m\u001b[0m_get_label_or_level_values\u001b[0m\u001b[1;33m(\u001b[0m\u001b[0mlk\u001b[0m\u001b[1;33m)\u001b[0m\u001b[1;33m)\u001b[0m\u001b[1;33m\u001b[0m\u001b[1;33m\u001b[0m\u001b[0m\n\u001b[0m\u001b[0;32m   1110\u001b[0m                         \u001b[0mjoin_names\u001b[0m\u001b[1;33m.\u001b[0m\u001b[0mappend\u001b[0m\u001b[1;33m(\u001b[0m\u001b[0mlk\u001b[0m\u001b[1;33m)\u001b[0m\u001b[1;33m\u001b[0m\u001b[1;33m\u001b[0m\u001b[0m\n\u001b[0;32m   1111\u001b[0m                     \u001b[1;32melse\u001b[0m\u001b[1;33m:\u001b[0m\u001b[1;33m\u001b[0m\u001b[1;33m\u001b[0m\u001b[0m\n",
      "\u001b[1;32m~\\anaconda3\\lib\\site-packages\\pandas\\core\\generic.py\u001b[0m in \u001b[0;36m_get_label_or_level_values\u001b[1;34m(self, key, axis)\u001b[0m\n\u001b[0;32m   1777\u001b[0m             \u001b[0mvalues\u001b[0m \u001b[1;33m=\u001b[0m \u001b[0mself\u001b[0m\u001b[1;33m.\u001b[0m\u001b[0maxes\u001b[0m\u001b[1;33m[\u001b[0m\u001b[0maxis\u001b[0m\u001b[1;33m]\u001b[0m\u001b[1;33m.\u001b[0m\u001b[0mget_level_values\u001b[0m\u001b[1;33m(\u001b[0m\u001b[0mkey\u001b[0m\u001b[1;33m)\u001b[0m\u001b[1;33m.\u001b[0m\u001b[0m_values\u001b[0m\u001b[1;33m\u001b[0m\u001b[1;33m\u001b[0m\u001b[0m\n\u001b[0;32m   1778\u001b[0m         \u001b[1;32melse\u001b[0m\u001b[1;33m:\u001b[0m\u001b[1;33m\u001b[0m\u001b[1;33m\u001b[0m\u001b[0m\n\u001b[1;32m-> 1779\u001b[1;33m             \u001b[1;32mraise\u001b[0m \u001b[0mKeyError\u001b[0m\u001b[1;33m(\u001b[0m\u001b[0mkey\u001b[0m\u001b[1;33m)\u001b[0m\u001b[1;33m\u001b[0m\u001b[1;33m\u001b[0m\u001b[0m\n\u001b[0m\u001b[0;32m   1780\u001b[0m \u001b[1;33m\u001b[0m\u001b[0m\n\u001b[0;32m   1781\u001b[0m         \u001b[1;31m# Check for duplicates\u001b[0m\u001b[1;33m\u001b[0m\u001b[1;33m\u001b[0m\u001b[0m\n",
      "\u001b[1;31mKeyError\u001b[0m: 'article_id'"
     ]
    }
   ],
   "source": [
    "%%time\n"
   ]
  },
  {
   "cell_type": "code",
   "execution_count": 54,
   "id": "c9260f99",
   "metadata": {},
   "outputs": [
    {
     "ename": "NameError",
     "evalue": "name 'dfj' is not defined",
     "output_type": "error",
     "traceback": [
      "\u001b[1;31m---------------------------------------------------------------------------\u001b[0m",
      "\u001b[1;31mNameError\u001b[0m                                 Traceback (most recent call last)",
      "\u001b[1;32m<timed exec>\u001b[0m in \u001b[0;36m<module>\u001b[1;34m\u001b[0m\n",
      "\u001b[1;31mNameError\u001b[0m: name 'dfj' is not defined"
     ]
    }
   ],
   "source": []
  },
  {
   "cell_type": "code",
   "execution_count": 46,
   "id": "42032ba8",
   "metadata": {},
   "outputs": [
    {
     "ename": "NameError",
     "evalue": "name 'df1' is not defined",
     "output_type": "error",
     "traceback": [
      "\u001b[1;31m---------------------------------------------------------------------------\u001b[0m",
      "\u001b[1;31mNameError\u001b[0m                                 Traceback (most recent call last)",
      "\u001b[1;32m<timed eval>\u001b[0m in \u001b[0;36m<module>\u001b[1;34m\u001b[0m\n",
      "\u001b[1;31mNameError\u001b[0m: name 'df1' is not defined"
     ]
    }
   ],
   "source": [
    "%%time\n",
    "df1[\"Articles\"].sum()"
   ]
  },
  {
   "cell_type": "code",
   "execution_count": 47,
   "id": "f83d16ad",
   "metadata": {},
   "outputs": [
    {
     "ename": "NameError",
     "evalue": "name 'df1' is not defined",
     "output_type": "error",
     "traceback": [
      "\u001b[1;31m---------------------------------------------------------------------------\u001b[0m",
      "\u001b[1;31mNameError\u001b[0m                                 Traceback (most recent call last)",
      "\u001b[1;32mC:\\Users\\STAGIA~1\\AppData\\Local\\Temp/ipykernel_4036/3309751900.py\u001b[0m in \u001b[0;36m<module>\u001b[1;34m\u001b[0m\n\u001b[1;32m----> 1\u001b[1;33m \u001b[0mdf1\u001b[0m\u001b[1;33m\u001b[0m\u001b[1;33m\u001b[0m\u001b[0m\n\u001b[0m",
      "\u001b[1;31mNameError\u001b[0m: name 'df1' is not defined"
     ]
    }
   ],
   "source": [
    "df1"
   ]
  },
  {
   "cell_type": "code",
   "execution_count": 48,
   "id": "4683ba98",
   "metadata": {},
   "outputs": [
    {
     "ename": "KeyError",
     "evalue": "'t_dat'",
     "output_type": "error",
     "traceback": [
      "\u001b[1;31m---------------------------------------------------------------------------\u001b[0m",
      "\u001b[1;31mKeyError\u001b[0m                                  Traceback (most recent call last)",
      "\u001b[1;32mC:\\Users\\STAGIA~1\\AppData\\Local\\Temp/ipykernel_4036/415605156.py\u001b[0m in \u001b[0;36m<module>\u001b[1;34m\u001b[0m\n\u001b[1;32m----> 1\u001b[1;33m \u001b[0mA\u001b[0m \u001b[1;33m=\u001b[0m \u001b[0mdf\u001b[0m\u001b[1;33m.\u001b[0m\u001b[0mgroupby\u001b[0m\u001b[1;33m(\u001b[0m\u001b[1;33m[\u001b[0m\u001b[1;34m\"t_dat\"\u001b[0m\u001b[1;33m]\u001b[0m\u001b[1;33m)\u001b[0m\u001b[1;33m[\u001b[0m\u001b[1;34m\"customer_id\"\u001b[0m\u001b[1;33m]\u001b[0m\u001b[1;33m.\u001b[0m\u001b[0mnunique\u001b[0m\u001b[1;33m(\u001b[0m\u001b[1;33m)\u001b[0m\u001b[1;33m\u001b[0m\u001b[1;33m\u001b[0m\u001b[0m\n\u001b[0m\u001b[0;32m      2\u001b[0m \u001b[0mB\u001b[0m \u001b[1;33m=\u001b[0m \u001b[0mdf\u001b[0m\u001b[1;33m.\u001b[0m\u001b[0mgroupby\u001b[0m\u001b[1;33m(\u001b[0m\u001b[1;33m[\u001b[0m\u001b[1;34m\"t_dat\"\u001b[0m\u001b[1;33m]\u001b[0m\u001b[1;33m)\u001b[0m\u001b[1;33m[\u001b[0m\u001b[1;34m\"customer_id\"\u001b[0m\u001b[1;33m]\u001b[0m\u001b[1;33m.\u001b[0m\u001b[0mcount\u001b[0m\u001b[1;33m(\u001b[0m\u001b[1;33m)\u001b[0m\u001b[1;33m\u001b[0m\u001b[1;33m\u001b[0m\u001b[0m\n\u001b[0;32m      3\u001b[0m dff = pd.DataFrame({'date': A.index,\n\u001b[0;32m      4\u001b[0m                    \u001b[1;34m'Nombre de paniers'\u001b[0m\u001b[1;33m:\u001b[0m \u001b[0mA\u001b[0m\u001b[1;33m.\u001b[0m\u001b[0mvalues\u001b[0m\u001b[1;33m,\u001b[0m\u001b[1;33m\u001b[0m\u001b[1;33m\u001b[0m\u001b[0m\n\u001b[0;32m      5\u001b[0m                     \u001b[1;34m'Nombre articles achetés'\u001b[0m \u001b[1;33m:\u001b[0m \u001b[0mB\u001b[0m\u001b[1;33m.\u001b[0m\u001b[0mvalues\u001b[0m\u001b[1;33m,\u001b[0m\u001b[1;33m\u001b[0m\u001b[1;33m\u001b[0m\u001b[0m\n",
      "\u001b[1;32m~\\anaconda3\\lib\\site-packages\\pandas\\core\\frame.py\u001b[0m in \u001b[0;36mgroupby\u001b[1;34m(self, by, axis, level, as_index, sort, group_keys, squeeze, observed, dropna)\u001b[0m\n\u001b[0;32m   7629\u001b[0m         \u001b[1;31m# error: Argument \"squeeze\" to \"DataFrameGroupBy\" has incompatible type\u001b[0m\u001b[1;33m\u001b[0m\u001b[1;33m\u001b[0m\u001b[0m\n\u001b[0;32m   7630\u001b[0m         \u001b[1;31m# \"Union[bool, NoDefault]\"; expected \"bool\"\u001b[0m\u001b[1;33m\u001b[0m\u001b[1;33m\u001b[0m\u001b[0m\n\u001b[1;32m-> 7631\u001b[1;33m         return DataFrameGroupBy(\n\u001b[0m\u001b[0;32m   7632\u001b[0m             \u001b[0mobj\u001b[0m\u001b[1;33m=\u001b[0m\u001b[0mself\u001b[0m\u001b[1;33m,\u001b[0m\u001b[1;33m\u001b[0m\u001b[1;33m\u001b[0m\u001b[0m\n\u001b[0;32m   7633\u001b[0m             \u001b[0mkeys\u001b[0m\u001b[1;33m=\u001b[0m\u001b[0mby\u001b[0m\u001b[1;33m,\u001b[0m\u001b[1;33m\u001b[0m\u001b[1;33m\u001b[0m\u001b[0m\n",
      "\u001b[1;32m~\\anaconda3\\lib\\site-packages\\pandas\\core\\groupby\\groupby.py\u001b[0m in \u001b[0;36m__init__\u001b[1;34m(self, obj, keys, axis, level, grouper, exclusions, selection, as_index, sort, group_keys, squeeze, observed, mutated, dropna)\u001b[0m\n\u001b[0;32m    887\u001b[0m             \u001b[1;32mfrom\u001b[0m \u001b[0mpandas\u001b[0m\u001b[1;33m.\u001b[0m\u001b[0mcore\u001b[0m\u001b[1;33m.\u001b[0m\u001b[0mgroupby\u001b[0m\u001b[1;33m.\u001b[0m\u001b[0mgrouper\u001b[0m \u001b[1;32mimport\u001b[0m \u001b[0mget_grouper\u001b[0m\u001b[1;33m\u001b[0m\u001b[1;33m\u001b[0m\u001b[0m\n\u001b[0;32m    888\u001b[0m \u001b[1;33m\u001b[0m\u001b[0m\n\u001b[1;32m--> 889\u001b[1;33m             grouper, exclusions, obj = get_grouper(\n\u001b[0m\u001b[0;32m    890\u001b[0m                 \u001b[0mobj\u001b[0m\u001b[1;33m,\u001b[0m\u001b[1;33m\u001b[0m\u001b[1;33m\u001b[0m\u001b[0m\n\u001b[0;32m    891\u001b[0m                 \u001b[0mkeys\u001b[0m\u001b[1;33m,\u001b[0m\u001b[1;33m\u001b[0m\u001b[1;33m\u001b[0m\u001b[0m\n",
      "\u001b[1;32m~\\anaconda3\\lib\\site-packages\\pandas\\core\\groupby\\grouper.py\u001b[0m in \u001b[0;36mget_grouper\u001b[1;34m(obj, key, axis, level, sort, observed, mutated, validate, dropna)\u001b[0m\n\u001b[0;32m    860\u001b[0m                 \u001b[0min_axis\u001b[0m\u001b[1;33m,\u001b[0m \u001b[0mlevel\u001b[0m\u001b[1;33m,\u001b[0m \u001b[0mgpr\u001b[0m \u001b[1;33m=\u001b[0m \u001b[1;32mFalse\u001b[0m\u001b[1;33m,\u001b[0m \u001b[0mgpr\u001b[0m\u001b[1;33m,\u001b[0m \u001b[1;32mNone\u001b[0m\u001b[1;33m\u001b[0m\u001b[1;33m\u001b[0m\u001b[0m\n\u001b[0;32m    861\u001b[0m             \u001b[1;32melse\u001b[0m\u001b[1;33m:\u001b[0m\u001b[1;33m\u001b[0m\u001b[1;33m\u001b[0m\u001b[0m\n\u001b[1;32m--> 862\u001b[1;33m                 \u001b[1;32mraise\u001b[0m \u001b[0mKeyError\u001b[0m\u001b[1;33m(\u001b[0m\u001b[0mgpr\u001b[0m\u001b[1;33m)\u001b[0m\u001b[1;33m\u001b[0m\u001b[1;33m\u001b[0m\u001b[0m\n\u001b[0m\u001b[0;32m    863\u001b[0m         \u001b[1;32melif\u001b[0m \u001b[0misinstance\u001b[0m\u001b[1;33m(\u001b[0m\u001b[0mgpr\u001b[0m\u001b[1;33m,\u001b[0m \u001b[0mGrouper\u001b[0m\u001b[1;33m)\u001b[0m \u001b[1;32mand\u001b[0m \u001b[0mgpr\u001b[0m\u001b[1;33m.\u001b[0m\u001b[0mkey\u001b[0m \u001b[1;32mis\u001b[0m \u001b[1;32mnot\u001b[0m \u001b[1;32mNone\u001b[0m\u001b[1;33m:\u001b[0m\u001b[1;33m\u001b[0m\u001b[1;33m\u001b[0m\u001b[0m\n\u001b[0;32m    864\u001b[0m             \u001b[1;31m# Add key to exclusions\u001b[0m\u001b[1;33m\u001b[0m\u001b[1;33m\u001b[0m\u001b[0m\n",
      "\u001b[1;31mKeyError\u001b[0m: 't_dat'"
     ]
    }
   ],
   "source": [
    "A = df.groupby([\"t_dat\"])[\"customer_id\"].nunique()\n",
    "B = df.groupby([\"t_dat\"])[\"customer_id\"].count()\n",
    "dff = pd.DataFrame({'date': A.index,\n",
    "                   'Nombre de paniers': A.values,\n",
    "                    'Nombre articles achetés' : B.values,\n",
    "                  })"
   ]
  },
  {
   "cell_type": "code",
   "execution_count": 49,
   "id": "d26e4931",
   "metadata": {},
   "outputs": [
    {
     "ename": "NameError",
     "evalue": "name 'dff' is not defined",
     "output_type": "error",
     "traceback": [
      "\u001b[1;31m---------------------------------------------------------------------------\u001b[0m",
      "\u001b[1;31mNameError\u001b[0m                                 Traceback (most recent call last)",
      "\u001b[1;32mC:\\Users\\STAGIA~1\\AppData\\Local\\Temp/ipykernel_4036/2703340203.py\u001b[0m in \u001b[0;36m<module>\u001b[1;34m\u001b[0m\n\u001b[1;32m----> 1\u001b[1;33m \u001b[0mdff\u001b[0m\u001b[1;33m\u001b[0m\u001b[1;33m\u001b[0m\u001b[0m\n\u001b[0m",
      "\u001b[1;31mNameError\u001b[0m: name 'dff' is not defined"
     ]
    }
   ],
   "source": [
    "dff"
   ]
  },
  {
   "cell_type": "code",
   "execution_count": 50,
   "id": "03cc4082",
   "metadata": {},
   "outputs": [
    {
     "ename": "NameError",
     "evalue": "name 'dff' is not defined",
     "output_type": "error",
     "traceback": [
      "\u001b[1;31m---------------------------------------------------------------------------\u001b[0m",
      "\u001b[1;31mNameError\u001b[0m                                 Traceback (most recent call last)",
      "\u001b[1;32mC:\\Users\\STAGIA~1\\AppData\\Local\\Temp/ipykernel_4036/3733125026.py\u001b[0m in \u001b[0;36m<module>\u001b[1;34m\u001b[0m\n\u001b[1;32m----> 1\u001b[1;33m \u001b[0mPanier_Moyen\u001b[0m\u001b[1;33m=\u001b[0m\u001b[1;33m(\u001b[0m\u001b[0mdff\u001b[0m\u001b[1;33m[\u001b[0m\u001b[1;34m\"Nombre articles achetés\"\u001b[0m\u001b[1;33m]\u001b[0m\u001b[1;33m.\u001b[0m\u001b[0msum\u001b[0m\u001b[1;33m(\u001b[0m\u001b[1;33m)\u001b[0m\u001b[1;33m)\u001b[0m\u001b[1;33m/\u001b[0m\u001b[1;33m(\u001b[0m\u001b[0mdff\u001b[0m\u001b[1;33m[\u001b[0m\u001b[1;34m\"Nombre de paniers\"\u001b[0m\u001b[1;33m]\u001b[0m\u001b[1;33m.\u001b[0m\u001b[0msum\u001b[0m\u001b[1;33m(\u001b[0m\u001b[1;33m)\u001b[0m\u001b[1;33m)\u001b[0m\u001b[1;33m\u001b[0m\u001b[1;33m\u001b[0m\u001b[0m\n\u001b[0m\u001b[0;32m      2\u001b[0m \u001b[0mPanier_Moyen\u001b[0m\u001b[1;33m\u001b[0m\u001b[1;33m\u001b[0m\u001b[0m\n",
      "\u001b[1;31mNameError\u001b[0m: name 'dff' is not defined"
     ]
    }
   ],
   "source": [
    "Panier_Moyen=(dff[\"Nombre articles achetés\"].sum())/(dff[\"Nombre de paniers\"].sum())\n",
    "Panier_Moyen"
   ]
  },
  {
   "cell_type": "code",
   "execution_count": 51,
   "id": "a47f83ae",
   "metadata": {},
   "outputs": [
    {
     "ename": "KeyError",
     "evalue": "'article_id'",
     "output_type": "error",
     "traceback": [
      "\u001b[1;31m---------------------------------------------------------------------------\u001b[0m",
      "\u001b[1;31mKeyError\u001b[0m                                  Traceback (most recent call last)",
      "\u001b[1;32mC:\\Users\\STAGIA~1\\AppData\\Local\\Temp/ipykernel_4036/3008535497.py\u001b[0m in \u001b[0;36m<module>\u001b[1;34m\u001b[0m\n\u001b[1;32m----> 1\u001b[1;33m \u001b[0mpvz\u001b[0m\u001b[1;33m=\u001b[0m \u001b[0mpd\u001b[0m\u001b[1;33m.\u001b[0m\u001b[0mpivot_table\u001b[0m\u001b[1;33m(\u001b[0m\u001b[0mdf\u001b[0m\u001b[1;33m,\u001b[0m \u001b[0mindex\u001b[0m\u001b[1;33m=\u001b[0m \u001b[1;34m\"article_id\"\u001b[0m\u001b[1;33m,\u001b[0m\u001b[0maggfunc\u001b[0m\u001b[1;33m=\u001b[0m\u001b[1;34m\"count\"\u001b[0m\u001b[1;33m)\u001b[0m\u001b[1;33m\u001b[0m\u001b[1;33m\u001b[0m\u001b[0m\n\u001b[0m\u001b[0;32m      2\u001b[0m \u001b[0mpvz\u001b[0m \u001b[1;33m=\u001b[0m \u001b[0mpvz\u001b[0m\u001b[1;33m.\u001b[0m\u001b[0msort_values\u001b[0m\u001b[1;33m(\u001b[0m\u001b[1;33m[\u001b[0m\u001b[1;34m'customer_id'\u001b[0m\u001b[1;33m]\u001b[0m\u001b[1;33m,\u001b[0m \u001b[0mascending\u001b[0m\u001b[1;33m=\u001b[0m\u001b[1;32mFalse\u001b[0m\u001b[1;33m)\u001b[0m\u001b[1;33m\u001b[0m\u001b[1;33m\u001b[0m\u001b[0m\n\u001b[0;32m      3\u001b[0m \u001b[0mpvz\u001b[0m\u001b[1;33m.\u001b[0m\u001b[0mhead\u001b[0m\u001b[1;33m(\u001b[0m\u001b[1;36m10\u001b[0m\u001b[1;33m)\u001b[0m\u001b[1;33m\u001b[0m\u001b[1;33m\u001b[0m\u001b[0m\n",
      "\u001b[1;32m~\\anaconda3\\lib\\site-packages\\pandas\\core\\reshape\\pivot.py\u001b[0m in \u001b[0;36mpivot_table\u001b[1;34m(data, values, index, columns, aggfunc, fill_value, margins, dropna, margins_name, observed, sort)\u001b[0m\n\u001b[0;32m     93\u001b[0m         \u001b[1;32mreturn\u001b[0m \u001b[0mtable\u001b[0m\u001b[1;33m.\u001b[0m\u001b[0m__finalize__\u001b[0m\u001b[1;33m(\u001b[0m\u001b[0mdata\u001b[0m\u001b[1;33m,\u001b[0m \u001b[0mmethod\u001b[0m\u001b[1;33m=\u001b[0m\u001b[1;34m\"pivot_table\"\u001b[0m\u001b[1;33m)\u001b[0m\u001b[1;33m\u001b[0m\u001b[1;33m\u001b[0m\u001b[0m\n\u001b[0;32m     94\u001b[0m \u001b[1;33m\u001b[0m\u001b[0m\n\u001b[1;32m---> 95\u001b[1;33m     table = __internal_pivot_table(\n\u001b[0m\u001b[0;32m     96\u001b[0m         \u001b[0mdata\u001b[0m\u001b[1;33m,\u001b[0m\u001b[1;33m\u001b[0m\u001b[1;33m\u001b[0m\u001b[0m\n\u001b[0;32m     97\u001b[0m         \u001b[0mvalues\u001b[0m\u001b[1;33m,\u001b[0m\u001b[1;33m\u001b[0m\u001b[1;33m\u001b[0m\u001b[0m\n",
      "\u001b[1;32m~\\anaconda3\\lib\\site-packages\\pandas\\core\\reshape\\pivot.py\u001b[0m in \u001b[0;36m__internal_pivot_table\u001b[1;34m(data, values, index, columns, aggfunc, fill_value, margins, dropna, margins_name, observed, sort)\u001b[0m\n\u001b[0;32m    162\u001b[0m         \u001b[0mvalues\u001b[0m \u001b[1;33m=\u001b[0m \u001b[0mlist\u001b[0m\u001b[1;33m(\u001b[0m\u001b[0mvalues\u001b[0m\u001b[1;33m)\u001b[0m\u001b[1;33m\u001b[0m\u001b[1;33m\u001b[0m\u001b[0m\n\u001b[0;32m    163\u001b[0m \u001b[1;33m\u001b[0m\u001b[0m\n\u001b[1;32m--> 164\u001b[1;33m     \u001b[0mgrouped\u001b[0m \u001b[1;33m=\u001b[0m \u001b[0mdata\u001b[0m\u001b[1;33m.\u001b[0m\u001b[0mgroupby\u001b[0m\u001b[1;33m(\u001b[0m\u001b[0mkeys\u001b[0m\u001b[1;33m,\u001b[0m \u001b[0mobserved\u001b[0m\u001b[1;33m=\u001b[0m\u001b[0mobserved\u001b[0m\u001b[1;33m,\u001b[0m \u001b[0msort\u001b[0m\u001b[1;33m=\u001b[0m\u001b[0msort\u001b[0m\u001b[1;33m)\u001b[0m\u001b[1;33m\u001b[0m\u001b[1;33m\u001b[0m\u001b[0m\n\u001b[0m\u001b[0;32m    165\u001b[0m     \u001b[0magged\u001b[0m \u001b[1;33m=\u001b[0m \u001b[0mgrouped\u001b[0m\u001b[1;33m.\u001b[0m\u001b[0magg\u001b[0m\u001b[1;33m(\u001b[0m\u001b[0maggfunc\u001b[0m\u001b[1;33m)\u001b[0m\u001b[1;33m\u001b[0m\u001b[1;33m\u001b[0m\u001b[0m\n\u001b[0;32m    166\u001b[0m     \u001b[1;32mif\u001b[0m \u001b[0mdropna\u001b[0m \u001b[1;32mand\u001b[0m \u001b[0misinstance\u001b[0m\u001b[1;33m(\u001b[0m\u001b[0magged\u001b[0m\u001b[1;33m,\u001b[0m \u001b[0mABCDataFrame\u001b[0m\u001b[1;33m)\u001b[0m \u001b[1;32mand\u001b[0m \u001b[0mlen\u001b[0m\u001b[1;33m(\u001b[0m\u001b[0magged\u001b[0m\u001b[1;33m.\u001b[0m\u001b[0mcolumns\u001b[0m\u001b[1;33m)\u001b[0m\u001b[1;33m:\u001b[0m\u001b[1;33m\u001b[0m\u001b[1;33m\u001b[0m\u001b[0m\n",
      "\u001b[1;32m~\\anaconda3\\lib\\site-packages\\pandas\\core\\frame.py\u001b[0m in \u001b[0;36mgroupby\u001b[1;34m(self, by, axis, level, as_index, sort, group_keys, squeeze, observed, dropna)\u001b[0m\n\u001b[0;32m   7629\u001b[0m         \u001b[1;31m# error: Argument \"squeeze\" to \"DataFrameGroupBy\" has incompatible type\u001b[0m\u001b[1;33m\u001b[0m\u001b[1;33m\u001b[0m\u001b[0m\n\u001b[0;32m   7630\u001b[0m         \u001b[1;31m# \"Union[bool, NoDefault]\"; expected \"bool\"\u001b[0m\u001b[1;33m\u001b[0m\u001b[1;33m\u001b[0m\u001b[0m\n\u001b[1;32m-> 7631\u001b[1;33m         return DataFrameGroupBy(\n\u001b[0m\u001b[0;32m   7632\u001b[0m             \u001b[0mobj\u001b[0m\u001b[1;33m=\u001b[0m\u001b[0mself\u001b[0m\u001b[1;33m,\u001b[0m\u001b[1;33m\u001b[0m\u001b[1;33m\u001b[0m\u001b[0m\n\u001b[0;32m   7633\u001b[0m             \u001b[0mkeys\u001b[0m\u001b[1;33m=\u001b[0m\u001b[0mby\u001b[0m\u001b[1;33m,\u001b[0m\u001b[1;33m\u001b[0m\u001b[1;33m\u001b[0m\u001b[0m\n",
      "\u001b[1;32m~\\anaconda3\\lib\\site-packages\\pandas\\core\\groupby\\groupby.py\u001b[0m in \u001b[0;36m__init__\u001b[1;34m(self, obj, keys, axis, level, grouper, exclusions, selection, as_index, sort, group_keys, squeeze, observed, mutated, dropna)\u001b[0m\n\u001b[0;32m    887\u001b[0m             \u001b[1;32mfrom\u001b[0m \u001b[0mpandas\u001b[0m\u001b[1;33m.\u001b[0m\u001b[0mcore\u001b[0m\u001b[1;33m.\u001b[0m\u001b[0mgroupby\u001b[0m\u001b[1;33m.\u001b[0m\u001b[0mgrouper\u001b[0m \u001b[1;32mimport\u001b[0m \u001b[0mget_grouper\u001b[0m\u001b[1;33m\u001b[0m\u001b[1;33m\u001b[0m\u001b[0m\n\u001b[0;32m    888\u001b[0m \u001b[1;33m\u001b[0m\u001b[0m\n\u001b[1;32m--> 889\u001b[1;33m             grouper, exclusions, obj = get_grouper(\n\u001b[0m\u001b[0;32m    890\u001b[0m                 \u001b[0mobj\u001b[0m\u001b[1;33m,\u001b[0m\u001b[1;33m\u001b[0m\u001b[1;33m\u001b[0m\u001b[0m\n\u001b[0;32m    891\u001b[0m                 \u001b[0mkeys\u001b[0m\u001b[1;33m,\u001b[0m\u001b[1;33m\u001b[0m\u001b[1;33m\u001b[0m\u001b[0m\n",
      "\u001b[1;32m~\\anaconda3\\lib\\site-packages\\pandas\\core\\groupby\\grouper.py\u001b[0m in \u001b[0;36mget_grouper\u001b[1;34m(obj, key, axis, level, sort, observed, mutated, validate, dropna)\u001b[0m\n\u001b[0;32m    860\u001b[0m                 \u001b[0min_axis\u001b[0m\u001b[1;33m,\u001b[0m \u001b[0mlevel\u001b[0m\u001b[1;33m,\u001b[0m \u001b[0mgpr\u001b[0m \u001b[1;33m=\u001b[0m \u001b[1;32mFalse\u001b[0m\u001b[1;33m,\u001b[0m \u001b[0mgpr\u001b[0m\u001b[1;33m,\u001b[0m \u001b[1;32mNone\u001b[0m\u001b[1;33m\u001b[0m\u001b[1;33m\u001b[0m\u001b[0m\n\u001b[0;32m    861\u001b[0m             \u001b[1;32melse\u001b[0m\u001b[1;33m:\u001b[0m\u001b[1;33m\u001b[0m\u001b[1;33m\u001b[0m\u001b[0m\n\u001b[1;32m--> 862\u001b[1;33m                 \u001b[1;32mraise\u001b[0m \u001b[0mKeyError\u001b[0m\u001b[1;33m(\u001b[0m\u001b[0mgpr\u001b[0m\u001b[1;33m)\u001b[0m\u001b[1;33m\u001b[0m\u001b[1;33m\u001b[0m\u001b[0m\n\u001b[0m\u001b[0;32m    863\u001b[0m         \u001b[1;32melif\u001b[0m \u001b[0misinstance\u001b[0m\u001b[1;33m(\u001b[0m\u001b[0mgpr\u001b[0m\u001b[1;33m,\u001b[0m \u001b[0mGrouper\u001b[0m\u001b[1;33m)\u001b[0m \u001b[1;32mand\u001b[0m \u001b[0mgpr\u001b[0m\u001b[1;33m.\u001b[0m\u001b[0mkey\u001b[0m \u001b[1;32mis\u001b[0m \u001b[1;32mnot\u001b[0m \u001b[1;32mNone\u001b[0m\u001b[1;33m:\u001b[0m\u001b[1;33m\u001b[0m\u001b[1;33m\u001b[0m\u001b[0m\n\u001b[0;32m    864\u001b[0m             \u001b[1;31m# Add key to exclusions\u001b[0m\u001b[1;33m\u001b[0m\u001b[1;33m\u001b[0m\u001b[0m\n",
      "\u001b[1;31mKeyError\u001b[0m: 'article_id'"
     ]
    }
   ],
   "source": [
    "pvz= pd.pivot_table(df, index= \"article_id\",aggfunc=\"count\") \n",
    "pvz = pvz.sort_values(['customer_id'], ascending=False)\n",
    "pvz.head(10)"
   ]
  },
  {
   "cell_type": "code",
   "execution_count": 52,
   "id": "eaef335d",
   "metadata": {},
   "outputs": [
    {
     "ename": "NameError",
     "evalue": "name 'pvz' is not defined",
     "output_type": "error",
     "traceback": [
      "\u001b[1;31m---------------------------------------------------------------------------\u001b[0m",
      "\u001b[1;31mNameError\u001b[0m                                 Traceback (most recent call last)",
      "\u001b[1;32mC:\\Users\\STAGIA~1\\AppData\\Local\\Temp/ipykernel_4036/256010345.py\u001b[0m in \u001b[0;36m<module>\u001b[1;34m\u001b[0m\n\u001b[1;32m----> 1\u001b[1;33m \u001b[0mpvz\u001b[0m\u001b[1;33m[\u001b[0m\u001b[1;34m\"customer_id\"\u001b[0m\u001b[1;33m]\u001b[0m\u001b[1;33m.\u001b[0m\u001b[0mvalues\u001b[0m\u001b[1;33m.\u001b[0m\u001b[0msum\u001b[0m\u001b[1;33m(\u001b[0m\u001b[1;33m)\u001b[0m\u001b[1;33m\u001b[0m\u001b[1;33m\u001b[0m\u001b[0m\n\u001b[0m",
      "\u001b[1;31mNameError\u001b[0m: name 'pvz' is not defined"
     ]
    }
   ],
   "source": [
    "pvz[\"customer_id\"].values.sum()"
   ]
  },
  {
   "cell_type": "code",
   "execution_count": 53,
   "id": "02c0a9d6",
   "metadata": {},
   "outputs": [],
   "source": [
    "top12 = '0706016001 0706016002 0372860001 0610776002 0759871002 0464297007 0372860002 0610776001 0399223001 0706016003 0720125001 0156231001'"
   ]
  },
  {
   "cell_type": "code",
   "execution_count": null,
   "id": "e7c81e56",
   "metadata": {},
   "outputs": [],
   "source": []
  },
  {
   "cell_type": "code",
   "execution_count": null,
   "id": "ee4430a4",
   "metadata": {},
   "outputs": [],
   "source": []
  }
 ],
 "metadata": {
  "kernelspec": {
   "display_name": "Python 3 (ipykernel)",
   "language": "python",
   "name": "python3"
  },
  "language_info": {
   "codemirror_mode": {
    "name": "ipython",
    "version": 3
   },
   "file_extension": ".py",
   "mimetype": "text/x-python",
   "name": "python",
   "nbconvert_exporter": "python",
   "pygments_lexer": "ipython3",
   "version": "3.9.7"
  }
 },
 "nbformat": 4,
 "nbformat_minor": 5
}
